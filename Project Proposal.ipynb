{
 "cells": [
  {
   "cell_type": "markdown",
   "metadata": {},
   "source": [
    "The \"Perceptron\" group proposes to compare the design construction and accuracy of two artifical neural networks.  \n",
    "The first will be trained upon a control neurotypical dataset of resting fMRI scans mixed together with a \n",
    "dataset of resting  \n",
    "fMRI scans of schizophrenia patients, while the second will be trained upon a control neurotypical dataset of EEG scans mixed  \n",
    "together with a dataset of similar EEG scans of schizophrenia patients. Our goal, in each case, is an accuracy above  \n",
    "75%, but more importantly we want to distinguish if in general fMRI data is better or worse - on the spectrum of accuracy  \n",
    "vs training time - than EEG data at differentiating between a healthy patient and a schizophrenic one when using a neural  \n",
    "network approach.    \n",
    "\n",
    "To work with the fMRI data, which uses its own file formats, we will likely have to use a python package called \"NiBabel\".  \n",
    "Fortunately, it is known to work well with numpy.    \n",
    "\n",
    "The datasets we plan to use will be the SchizConnect public fMRI neuroimaging set (specifically the FBIRNPhasell subset  \n",
    "with resting state images) for the schizophrenia fMRI scans, the \"rs-fMRI dataset of healthy controls\" by Jiansong Zhou for the  \n",
    "control fMRI scans. Many EEG datasets are much simpler with a control group and a schizophrenia group already separated;  \n",
    "perhaps we mix together and combine the following datasets:\n",
    "\t1. \"EEG of healthy adolescents and adolescents with symptoms of schizophrenia\" from the University of Moscow\n",
    "\t2. \"EEG in schizophrenia\" dataset from Elzbieta Olejarczyk (more recent)\n",
    "\t3. Healthy resting-state control from Texas State University earlier this year\n",
    "\t4. \"EEG Data from basic sensory task in Schizophrenia\" by Brian Roach.\n",
    "\n",
    "It is difficult to be sure which datasets will yield the best results before the project begins. That said, given the plethora  \n",
    "of EEG datasets and the dearth of fMRI datasets, we may discover that we need to fall back on a more feasible plan of  \n",
    "trying to get a Neural Network to distinguish between control patients and Schizophrenic patients with an accuracy above 75%.  \n",
    "This will still require a degree of data preparation, and careful architecture tuning, and still may not yield the results  \n",
    "if the EEG data turns out to have few significant differences between electrode measurements on healthy or schizophrenic patients.  \n",
    "Alternatively, we may find the opposite - that the fMRI datasets yield more useful training/validation data than the EEG sets  \n",
    "and thus become the focus of the project. However, it seems likely that data preparation for the fMRI scans will be more  \n",
    "challenging than the EEG data; fortunately, there appears to be a few already-existing tools and precedents in place which  \n",
    "will hopefully make our job more feasible in this respect.     \n",
    "\n",
    "We plan for the project be carried out in five main stages:\n",
    "\t1. Data Preparation\n",
    "\t2. Network Design\n",
    "\t3. Training/Comparing Accuracy\n",
    "\t4. Analyzing/Writing results\n",
    "\t5. Presentation/Demo\n",
    "\n",
    "\n",
    "Because this project is a comparison of two distinct networks (i.e. fMRI and EEG networks), it may become necessary to  \n",
    "parallelize our output by splitting our group into two working sub-groups which could work mostly separately during the first  \n",
    "two stages, and come together for the last three."
   ]
  },
  {
   "cell_type": "code",
   "execution_count": null,
   "metadata": {},
   "outputs": [],
   "source": []
  }
 ],
 "metadata": {
  "kernelspec": {
   "display_name": "Python 3",
   "language": "python",
   "name": "python3"
  },
  "language_info": {
   "codemirror_mode": {
    "name": "ipython",
    "version": 3
   },
   "file_extension": ".py",
   "mimetype": "text/x-python",
   "name": "python",
   "nbconvert_exporter": "python",
   "pygments_lexer": "ipython3",
   "version": "3.6.7"
  }
 },
 "nbformat": 4,
 "nbformat_minor": 2
}
