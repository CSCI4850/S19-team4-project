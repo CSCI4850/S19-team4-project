{
 "cells": [
  {
   "cell_type": "markdown",
   "metadata": {},
   "source": [
    "The \"Perceptron\" group proposes to compare the design architecture of two neural networks, with varying parameters, to find any relevant effects on accuracy or performance for the task of classifying fMRI scans into schizophrenia patients versus healthy control patients. The first will have a general architecture of an Autoencoder network, with relevant preprocessing. The second will be a Convolutional network, with its own relevant preprocessing. If time permits, we may try other network architectures; however, for the time being, our group will focus on these two.    \n",
    "\n",
    "There are various types of fMRI preprocessing which will likely have drastic effects on the network performance, both in training time and accuracy. Our group will attempt to implement Statistical Parametric Mapping or Spatial Independent Component Analysis, as well as brain region isolation - along with other techniques we find along the way which will likely be more specific to the network architectures themselves - to focus in on the specific mechanisms of action of schizophrenia. Our research may also stand as more evidence to confirm the current neuroscientific hypothesis on the disease's mechanism of action.     To work with the fMRI data, which uses file formats such as .nii from the Neuroimaging Informatics Technology Initiative, we will likely have to use a python package called \"NiBabel\" which is also known to work well with numpy as well as \"Nilearn\" for neuroimagine machine learning tools in python.    \n",
    "\n",
    "The dataset we plan to use is the Cobre fMRI dataset, which include schizophrenia fMRI scans, and healthy control fMRI scans. If time permits, we would also like to try using the SchizConnect public fMRI neuroimaging set (specifically the FBIRNPhasell subset with resting state images). The Cobre dataset includes more patients, but the scans are lower resolution, whereas the FBIRN dataset includes higher resolution scans of fewer patients. The higher resolution images from the SchizConnect dataset may increase training time, and they also have a more difficult format to work with, which will likely increase data processing time.    \n",
    "\n",
    "Our goal for accuracy is to be better than chance in at least one of the two networks. This will allow us to compare the rest of the architecture in a meaningful way. However, we will specifically reach for greater than 75% accuracy for the classification task as a benchmark for success of the network itself, regardless of architecture comparisons. It is likely the majority of our work will involve data preparation and preprocessing - both initially via use of Statistical Parametric Mapping or Spatial Independent Component Analysis to ensure the concrete grounding of our datasets, and also via focusing our networks on the prefrontal cortex, basal ganglia, or other brain regions thought to be intimately involved with Schizophrenia. Our architecture comparisons will be expressed through batch size, number of epochs, number of neurons, number of layers, difficulty of preprocessing techniques, and actual training time.     \n",
    "\n",
    "We plan for the project be carried out in five main stages:\n",
    "\t1. Data Preparation\n",
    "\t2. Network Design\n",
    "\t3. Training/Comparing Accuracy\n",
    "\t4. Analyzing/Writing results\n",
    "\t5. Presentation/Demo\n",
    "\n",
    "\n",
    "It seems likely that the first stage will be the most difficult, which each stage getting easier in decreasing order."
   ]
  },
  {
   "cell_type": "code",
   "execution_count": null,
   "metadata": {},
   "outputs": [],
   "source": []
  }
 ],
 "metadata": {
  "kernelspec": {
   "display_name": "Python 3",
   "language": "python",
   "name": "python3"
  },
  "language_info": {
   "codemirror_mode": {
    "name": "ipython",
    "version": 3
   },
   "file_extension": ".py",
   "mimetype": "text/x-python",
   "name": "python",
   "nbconvert_exporter": "python",
   "pygments_lexer": "ipython3",
   "version": "3.6.7"
  }
 },
 "nbformat": 4,
 "nbformat_minor": 2
}
