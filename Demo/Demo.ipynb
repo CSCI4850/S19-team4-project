{
 "cells": [
  {
   "cell_type": "markdown",
   "metadata": {},
   "source": [
    "# Perceptron Demo - Distinguishing Traces of Schizophrenia"
   ]
  },
  {
   "cell_type": "markdown",
   "metadata": {},
   "source": [
    "## CSCI 4850-5850 - Neural Networks"
   ]
  },
  {
   "cell_type": "markdown",
   "metadata": {},
   "source": [
    "Being able to detect traces of schizophrenia in a person's brain can be a valuable thing. Diagnosing schizophrenia can be done in a variety of ways, such as physical examinations, tests and screenings, or psychiatric evaluation. Obtaining a solid diagnosis can be difficult and time/cost consuming. In our project, we wanted to apply the use of neural nets to try and detect traces of schizophrenia and accurately diagnose it."
   ]
  },
  {
   "cell_type": "markdown",
   "metadata": {},
   "source": [
    "## What data to use - fMRI"
   ]
  },
  {
   "cell_type": "markdown",
   "metadata": {},
   "source": [
    "There are several ways to detect schizophrenia, but one of the most popular ways is through brain scans. Since schizophrenia is diagnosed as a mental disorder, the brain is directly correlated with it. The dopamine produced by the brain is tied to the hallucinations that schizophrenic patients see or hear. A good way to detect the activity of the brain is through Functional Magnetic Resonance Imaging (fMRI). An fMRI measures the flow of blood in one's brain. By viewing an fMRI, a doctor can see if certain activity/inactivity in a region of the patient's brain could be a sign of schizophrenia. So, since we have an image that can tell us if a patient has traces of schizophrenia, we can plug that into a neural net to see if it can detect it for us! Hopefully, this will allow doctors to just be able to scan a patient's brain, plug in into the neural net, and wait for the net to decide if that patient has schizophrenia or not. However, we want the highest possible accuracy we can get in order to cut down on misdiagnoses, time and cost."
   ]
  },
  {
   "cell_type": "markdown",
   "metadata": {},
   "source": [
    "Since fMRI is a highly valuable dataset with a lot of information packed into a few dimensions, this proves it to be difficult to use in a neural net. An fMRI is a scan of the patient's brain sliced into several regions over several timestamps, which makes it difficult to efficiently feed into a neural net. "
   ]
  },
  {
   "cell_type": "markdown",
   "metadata": {},
   "source": [
    "The data that we'll be using for this demo is provided by The Center for Biomedical Research Excellence (COBRE). This dataset contains MR data from 72 schizophrenic patients and 75 MR scans from healthy controls. The ages of these test patients range from 18 to 65."
   ]
  },
  {
   "cell_type": "markdown",
   "metadata": {},
   "source": [
    "## Step 1: Taking a look at the data"
   ]
  },
  {
   "cell_type": "markdown",
   "metadata": {},
   "source": [
    "In order to use the COBRE data set, we need to use a few tools: `nilearn` and `nibabel`"
   ]
  },
  {
   "cell_type": "code",
   "execution_count": 3,
   "metadata": {},
   "outputs": [],
   "source": [
    "# nilearn helps with loading and handling of the COBRE dataset and is actually built to help run this dataset\n",
    "import nilearn\n",
    "from nilearn import plotting\n",
    "from nilearn import image\n",
    "from nilearn import datasets"
   ]
  },
  {
   "cell_type": "code",
   "execution_count": 5,
   "metadata": {},
   "outputs": [],
   "source": [
    "# nibabel also helps with the testing of the dataset\n",
    "from nibabel.testing import data_path\n",
    "import nibabel as nib\n",
    "\n",
    "# import other basic necessities\n",
    "import os\n",
    "import numpy as np\n",
    "import keras\n",
    "from keras import backend as K\n",
    "import numpy as np\n",
    "import matplotlib.pyplot as plt\n",
    "from mpl_toolkits.mplot3d import axes3d\n",
    "%matplotlib inline\n",
    "from IPython.display import display"
   ]
  },
  {
   "cell_type": "markdown",
   "metadata": {},
   "source": [
    "Now that we have our tools all set out, lets start unpacking the data."
   ]
  },
  {
   "cell_type": "code",
   "execution_count": 7,
   "metadata": {},
   "outputs": [],
   "source": [
    "# Get dataset with nilearn function\n",
    "# if not downloaded, will download. If already downloaded, will uses local version\n",
    "dataset = nilearn.datasets.fetch_cobre(n_subjects=146, \n",
    "                                       data_dir=\"/nfshome/sandbox/perceptron\",\n",
    "                                       url=None,\n",
    "                                       verbose=0)\n"
   ]
  },
  {
   "cell_type": "code",
   "execution_count": 8,
   "metadata": {},
   "outputs": [
    {
     "data": {
      "text/plain": [
       "(40000, 20, b'Female', b'Right', b'Patient', b'295.9', 140, 0.21234, 0.20245)"
      ]
     },
     "metadata": {},
     "output_type": "display_data"
    },
    {
     "data": {
      "text/plain": [
       "'/nfshome/sandbox/perceptron/cobre/fmri_0040000.nii.gz'"
      ]
     },
     "metadata": {},
     "output_type": "display_data"
    }
   ],
   "source": [
    "phenotypes = dataset[\"phenotypic\"]\n",
    "file_paths = dataset[\"func\"]\n",
    "phenotypes.sort(0) #sort by column corresponding to patient number\n",
    "file_paths.sort() #sort file names by alphabetical order, which will result in sorting by patient number\n",
    "display(phenotypes[0])\n",
    "display(file_paths[0])\n",
    "#file_paths is now a regular python list of the file paths to the fmri scans\n",
    "#phenotypes is now a np.recarray of np.records storing patient info"
   ]
  },
  {
   "cell_type": "code",
   "execution_count": 9,
   "metadata": {},
   "outputs": [],
   "source": [
    "# get just the diagnosis information from the phenotypes\n",
    "diagnosis = phenotypes['diagnosis']\n",
    "diagnosis_converted = []\n",
    "#this stem is necessary to convert np.byte array into strings, and then fit those strings into 2 categories:\n",
    "#Schizophrenia or no Schizophrenia\n",
    "for item in diagnosis:\n",
    "    s = item.decode('UTF-8')\n",
    "    if s != \"None\":\n",
    "        diagnosis_converted.append(float(1))   #person has schizophrenia\n",
    "    else:\n",
    "        diagnosis_converted.append(float(0))   #person doesn't have schizophrenia\n",
    "\n",
    "del diagnosis_converted[74]                  # item 74 is a messed up scan with different dimensions\n",
    "del file_paths[74]                           # so it needs to be removed\n",
    "\n",
    "y_train = np.array(diagnosis_converted)\n",
    "y_train = keras.utils.to_categorical(y_train, len(np.unique(y_train))) #one hot encoding\n",
    "\n",
    "# Make x train from the file paths\n",
    "scans = []\n",
    "for item in file_paths:\n",
    "    scan = nib.load(item)\n",
    "    data = scan.get_fdata()\n",
    "    scans.append(data)\n",
    "x_train = np.array(scans)"
   ]
  },
  {
   "cell_type": "code",
   "execution_count": 10,
   "metadata": {},
   "outputs": [
    {
     "data": {
      "text/plain": [
       "(145, 27, 32, 26, 150)"
      ]
     },
     "execution_count": 10,
     "metadata": {},
     "output_type": "execute_result"
    }
   ],
   "source": [
    "#X train is now 145 different fmri scans, with dimensions 27x32x26x150\n",
    "#the 27x32x26 is length, width, and height\n",
    "#the 150 is time, there are 150 different 3d 'voxels' or times for each full fmri scan\n",
    "x_train.shape"
   ]
  },
  {
   "cell_type": "code",
   "execution_count": null,
   "metadata": {},
   "outputs": [],
   "source": []
  }
 ],
 "metadata": {
  "kernelspec": {
   "display_name": "Python 3",
   "language": "python",
   "name": "python3"
  },
  "language_info": {
   "codemirror_mode": {
    "name": "ipython",
    "version": 3
   },
   "file_extension": ".py",
   "mimetype": "text/x-python",
   "name": "python",
   "nbconvert_exporter": "python",
   "pygments_lexer": "ipython3",
   "version": "3.6.7"
  }
 },
 "nbformat": 4,
 "nbformat_minor": 2
}
