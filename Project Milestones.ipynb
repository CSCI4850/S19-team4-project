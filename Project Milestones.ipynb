{
 "cells": [
  {
   "cell_type": "markdown",
   "metadata": {},
   "source": [
    "#### MILESTONE 1\n",
    "\n",
    "| Deliverable | Percent Complete | Estimated Completion Data | Percent Complete by Next Milestone |\n",
    "| --- | :---: | :---: | :---: |\n",
    "| Code | 0% | Apr. 8 | 30% |\n",
    "| Paper | 0% | Apr. 15 | 20% |\n",
    "| Demo | 0% | Apr. 26 | 0% |\n",
    "| Presentation | 0% | May 1 | 0% |\n",
    "\n",
    "\n",
    "1. Work is still in progress regarding figuring out if the chosen data will provide a good foundation for the project.\n",
    "2. N/A.\n",
    "3. The main goals to meet for the next milestone are as follows:<br> \n",
    "   >Ensure that the chosen data is usable for the project.<br>\n",
    "   >Put the chosen data into a form that can be fed into neural networks.<br>\n",
    "   >Began work on the paper by collecting information on the sources used and describing any data or methods being used.<br>\n",
    "\n",
    "\n",
    "   __Robert Walters__: Confirming the EEG data is feasible and converting it into a usable form.<br>\n",
    "   __Adam Curl__: Confirming the FMRI data is feasible and converting it into a usable form.<br>\n",
    "   __Kevin Peterson__: Confirming the FMRI data is feasible and converting it into a usable form.<br>\n",
    "   __Paul Fleming__: Assisting with the EEG data and beginning work on the paper.<br>\n",
    "   __Sam Meagher__: Will assist or work where needed.<br>\n"
   ]
  },
  {
   "cell_type": "markdown",
   "metadata": {},
   "source": [
    "#### MILESTONE 2\n",
    "\n",
    "| Deliverable | Percent Complete | Estimated Completion Data | Percent Complete by Next Milestone |\n",
    "| --- | :---: | :---: | :---: |\n",
    "| Code | 15% | Apr. 15 | 60% |\n",
    "| Paper | 10% | Apr. 21 | 30% |\n",
    "| Demo | 0% | Apr. 26 | 5% |\n",
    "| Presentation | 0% | May 1 | 5% |\n",
    "\n",
    "\n",
    "1. Since the last milestone: the data sets that will be used were chosen and narrowed down to just fMRI, research into reducing <br>\n",
    "    the data into a usable form, a compilation of sources and part of an outline has been made for the paper.\n",
    "2. The code has not been put into a usable form yet and by extension neither has the 'methods used section' in the paper been started.\n",
    "3. The main goals to meet for the next milestone are as follows:<br> \n",
    "   >Rework the prject proposal to match the new goal.<br>\n",
    "   >Put the chosen data into a form that can be fed into neural networks.<br>\n",
    "   >Plan and research on designing the neural net.<br>\n",
    "   >A rough draft of the introduction section as well as the methods and data sections as research finishes and neural net coding begins.<br>\n",
    "   >Begin work on the demo and presentation.<br>\n",
    "\n",
    "\n",
    "   __Robert Walters__: Statistical parametric mapping, brain region isolation, and convolutional neural net.<br>\n",
    "   __Adam Curl__: Begining stages of the demo and the presentation.<br>\n",
    "   __Kevin Peterson__: Statistical parametric mapping/motion time correction of fmri data and autoencoder to reduce fMRI data size.<br>\n",
    "   __Paul Fleming__: Work on the intro. and background section of the paper.<br>\n",
    "   __Sam Meagher__: Work on putting the chosen data into a usable form and beginning to design the neural net.<br>\n"
   ]
  },
  {
   "cell_type": "markdown",
   "metadata": {},
   "source": [
    "#### MILESTONE 3\n",
    "\n",
    "| Deliverable | Percent Complete | Estimated Completion Data | Percent Complete by Next Milestone |\n",
    "| --- | :---: | :---: | :---: |\n",
    "| Code | 60% | Apr. 18 | 100% |\n",
    "| Paper | 30% | Apr. 23 | 100% |\n",
    "| Demo | 30% | Apr. 26 | 70% |\n",
    "| Presentation | 15% | May 1 | 35% |\n",
    "\n",
    "\n",
    "1. Since the last milestone: A multi-layer net with relu activations and binary crossnentropy loss function was trained to the desired accuracy. The input vector for this network was a correlation coefficient matrix that was obtained from performing Group Sparse Covariance on the preprocessed FMRI data (using Nilearn function). Autoencoder models are still being explored. A draft of the paper's intro was finished and its' background was almost finished. The demo introduction was made. The project proposal was reworked.\n",
    "2. Research on the second neural net has not been finished.\n",
    "3. The main goals to meet for the next milestone are as follows:<br> \n",
    "   >Code needs to be finished or complete enough that the paper can be finished and the demo and presentation can be close to completed. More specifically, a second net needs to be built and trained.<br>\n",
    "   >Paper needs to be finished.<br>\n",
    "   >Demo should have an explanation of methods used and their results.<br>\n",
    "\n",
    "\n",
    "   __Robert Walters__: Research and work on building a 3D convolutional network.<br>\n",
    "   __Adam Curl__: Add explanation of methods used and their results to the demo.<br>\n",
    "   __Kevin Peterson__: Research on convolutional net, try to improve the accuracy of the existing net, and work on autoencoder net.<br>\n",
    "   __Paul Fleming__: Finish the paper.<br>\n",
    "   __Sam Meagher__: TBD.<br>\n"
   ]
  },
  {
   "cell_type": "code",
   "execution_count": null,
   "metadata": {},
   "outputs": [],
   "source": []
  }
 ],
 "metadata": {
  "kernelspec": {
   "display_name": "Python 3",
   "language": "python",
   "name": "python3"
  },
  "language_info": {
   "codemirror_mode": {
    "name": "ipython",
    "version": 3
   },
   "file_extension": ".py",
   "mimetype": "text/x-python",
   "name": "python",
   "nbconvert_exporter": "python",
   "pygments_lexer": "ipython3",
   "version": "3.6.7"
  }
 },
 "nbformat": 4,
 "nbformat_minor": 2
}
