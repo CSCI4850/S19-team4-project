{
 "cells": [
  {
   "cell_type": "raw",
   "metadata": {},
   "source": [
    "MILESTONE 1\n",
    "\n",
    "Deliverable    Percent Complete   Estimated Completion Data     Percent Complete by Next Milestone\n",
    "Code               0%                      Apr. 8                              30%\n",
    "Paper              0%                      Apr. 15                             20%\n",
    "Demo               0%                      Apr. 26                              0%\n",
    "Presentation       0%                      May 1                                0%\n",
    "\n",
    "1. Work is still in progress regarding figuring out if the chosen data will provide a good foundation for the project.\n",
    "2. N/A.\n",
    "3. The main goals to meet for the next milestone are as follows: \n",
    "         Ensure that the chosen data is usable for the project.\n",
    "         Put the chosen data into a form that can be fed into neural networks.\n",
    "         Began work on the paper by collecting information on the sources used and describing any data or methods being used.\n",
    "\n",
    "   Robert Walters: Confirming the EEG data is feasible and converting it into a usable form.\n",
    "   Adam Curl: Confirming the FMRI data is feasible and converting it into a usable form.\n",
    "   Kevin Peterson: Confirming the FMRI data is feasible and converting it into a usable form.\n",
    "   Paul Fleming: Assisting with the EEG data and beginning work on the paper.\n",
    "   Sam Meagher: Will assist or work where needed. \n"
   ]
  }
 ],
 "metadata": {
  "kernelspec": {
   "display_name": "Python 3",
   "language": "python",
   "name": "python3"
  },
  "language_info": {
   "codemirror_mode": {
    "name": "ipython",
    "version": 3
   },
   "file_extension": ".py",
   "mimetype": "text/x-python",
   "name": "python",
   "nbconvert_exporter": "python",
   "pygments_lexer": "ipython3",
   "version": "3.6.7"
  }
 },
 "nbformat": 4,
 "nbformat_minor": 2
}
