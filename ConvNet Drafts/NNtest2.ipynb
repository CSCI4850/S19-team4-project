{
 "cells": [
  {
   "cell_type": "code",
   "execution_count": 1,
   "metadata": {},
   "outputs": [
    {
     "name": "stderr",
     "output_type": "stream",
     "text": [
      "Using TensorFlow backend.\n",
      "C:\\ProgramData\\Anaconda3\\lib\\site-packages\\numpy\\lib\\npyio.py:2315: VisibleDeprecationWarning: Reading unicode strings without specifying the encoding argument is deprecated. Set the encoding, use None for the system default.\n",
      "  output = genfromtxt(fname, **kwargs)\n"
     ]
    }
   ],
   "source": [
    "import numpy as np\n",
    "from nibabel.testing import data_path\n",
    "import nibabel as nib\n",
    "\n",
    "import keras\n",
    "from keras import backend as K\n",
    "import matplotlib.pyplot as plt\n",
    "from mpl_toolkits.mplot3d import axes3d\n",
    "%matplotlib inline\n",
    "from IPython.display import display\n",
    "\n",
    "import nilearn\n",
    "from nilearn import plotting\n",
    "from nilearn import image\n",
    "from nilearn import datasets\n",
    "\n",
    "from keras_tqdm import TQDMNotebookCallback\n",
    "\n",
    "# Get dataset with nilearn function\n",
    "# if not downloaded, will download. If already downloaded, will use local version\n",
    "dataset = nilearn.datasets.fetch_cobre(n_subjects=146, data_dir=\"C:\\\\Users\\\\Imagi\\\\Documents\\\\5850\\\\datasets\", url=None, verbose=1)"
   ]
  },
  {
   "cell_type": "code",
   "execution_count": 2,
   "metadata": {},
   "outputs": [
    {
     "data": {
      "text/plain": [
       "(145, 27, 32, 26, 150)"
      ]
     },
     "metadata": {},
     "output_type": "display_data"
    },
    {
     "data": {
      "text/plain": [
       "(145, 2)"
      ]
     },
     "metadata": {},
     "output_type": "display_data"
    }
   ],
   "source": [
    "phenotypes = dataset[\"phenotypic\"]\n",
    "file_paths = dataset[\"func\"]\n",
    "phenotypes.sort(0) #sort by column corresponding to patient number\n",
    "file_paths.sort() #sort file names by alphabetical order, which will result in sorting by patient number\n",
    "#display(phenotypes[0])\n",
    "#display(file_paths[0])\n",
    "\n",
    "#file_paths is now a regular python list of the file paths to the fmri scans\n",
    "#phenotypes is now a np.recarray of np.records storing patient info\n",
    "# get just the diagnosis information from the phenotypes\n",
    "diagnosis = phenotypes['diagnosis']\n",
    "diagnosis_converted = []\n",
    "#this stem is necessary to convert np.byte array into strings, \n",
    "#and then fit those strings into 2 categories:\n",
    "#Schizophrenia or no Schizophrenia\n",
    "for item in diagnosis:\n",
    "    s = item.decode('UTF-8')\n",
    "    if s != \"None\":\n",
    "        diagnosis_converted.append(float(1))   #person has schizophrenia\n",
    "    else:\n",
    "        diagnosis_converted.append(float(0))   #person doesn't have schizophrenia\n",
    "\n",
    "del diagnosis_converted[74] # item 74 is a messed up scan with different dimensions\n",
    "del file_paths[74]                           # so it needs to be removed\n",
    "\n",
    "y_train = np.array(diagnosis_converted)\n",
    "y_train = keras.utils.to_categorical(y_train, len(np.unique(y_train))) #one hot encoding\n",
    "\n",
    "# Make x train from the file paths\n",
    "scans = []\n",
    "for item in file_paths:\n",
    "    scan = nib.load(item)\n",
    "    data = scan.get_fdata()\n",
    "    scans.append(data)\n",
    "x_train = np.array(scans)\n",
    "display(x_train.shape)\n",
    "display(y_train.shape)"
   ]
  },
  {
   "cell_type": "code",
   "execution_count": 4,
   "metadata": {},
   "outputs": [
    {
     "data": {
      "text/plain": [
       "(145, 27, 32, 26)"
      ]
     },
     "metadata": {},
     "output_type": "display_data"
    },
    {
     "data": {
      "text/plain": [
       "(10, 27, 32, 26)"
      ]
     },
     "metadata": {},
     "output_type": "display_data"
    },
    {
     "data": {
      "text/plain": [
       "(10, 27, 32, 26, 1)"
      ]
     },
     "metadata": {},
     "output_type": "display_data"
    },
    {
     "data": {
      "text/plain": [
       "(145, 27, 32, 26, 1)"
      ]
     },
     "metadata": {},
     "output_type": "display_data"
    },
    {
     "data": {
      "text/plain": [
       "(145, 10, 10, 10, 1)"
      ]
     },
     "metadata": {},
     "output_type": "display_data"
    }
   ],
   "source": [
    "meanarray = np.mean(x_train, axis=4)\n",
    "display(meanarray.shape)\n",
    "smallx_train = meanarray[0:10, :, :, :]\n",
    "display(smallx_train.shape)\n",
    "smallx_train = smallx_train.astype('float32').reshape(smallx_train.shape+(1,))\n",
    "display(smallx_train.shape)\n",
    "mnar2 = meanarray.astype('float32').reshape(meanarray.shape+(1,))\n",
    "display(mnar2.shape)\n",
    "\n",
    "#now cut off the outer sections\n",
    "mnar3 = mnar2[:, 12:22, 14:24, 10:20, :]\n",
    "display(mnar3.shape)"
   ]
  },
  {
   "cell_type": "code",
   "execution_count": 5,
   "metadata": {},
   "outputs": [
    {
     "name": "stdout",
     "output_type": "stream",
     "text": [
      "WARNING:tensorflow:From C:\\ProgramData\\Anaconda3\\lib\\site-packages\\tensorflow\\python\\framework\\op_def_library.py:263: colocate_with (from tensorflow.python.framework.ops) is deprecated and will be removed in a future version.\n",
      "Instructions for updating:\n",
      "Colocations handled automatically by placer.\n",
      "WARNING:tensorflow:From C:\\ProgramData\\Anaconda3\\lib\\site-packages\\keras\\backend\\tensorflow_backend.py:3445: calling dropout (from tensorflow.python.ops.nn_ops) with keep_prob is deprecated and will be removed in a future version.\n",
      "Instructions for updating:\n",
      "Please use `rate` instead of `keep_prob`. Rate should be set to `rate = 1 - keep_prob`.\n",
      "_________________________________________________________________\n",
      "Layer (type)                 Output Shape              Param #   \n",
      "=================================================================\n",
      "conv3d_1 (Conv3D)            (None, 26, 31, 25, 64)    576       \n",
      "_________________________________________________________________\n",
      "conv3d_2 (Conv3D)            (None, 19, 24, 18, 128)   4194432   \n",
      "_________________________________________________________________\n",
      "max_pooling3d_1 (MaxPooling3 (None, 9, 12, 9, 128)     0         \n",
      "_________________________________________________________________\n",
      "dropout_1 (Dropout)          (None, 9, 12, 9, 128)     0         \n",
      "_________________________________________________________________\n",
      "flatten_1 (Flatten)          (None, 124416)            0         \n",
      "_________________________________________________________________\n",
      "dense_1 (Dense)              (None, 128)               15925376  \n",
      "_________________________________________________________________\n",
      "dropout_2 (Dropout)          (None, 128)               0         \n",
      "_________________________________________________________________\n",
      "dense_2 (Dense)              (None, 2)                 258       \n",
      "=================================================================\n",
      "Total params: 20,120,642\n",
      "Trainable params: 20,120,642\n",
      "Non-trainable params: 0\n",
      "_________________________________________________________________\n"
     ]
    }
   ],
   "source": [
    "#time to finally build a model and test it!\n",
    "model1 = keras.Sequential()\n",
    "model1.add(keras.layers.Conv3D(64, kernel_size = (2,2,2), activation = 'relu'\n",
    "                              ,input_shape=[27,32,26,1]))\n",
    "\n",
    "model1.add(keras.layers.Conv3D(128, (8,8,8), activation='relu'))\n",
    "model1.add(keras.layers.MaxPooling3D(pool_size=(2,2,2)))\n",
    "model1.add(keras.layers.Dropout(0.2))\n",
    "model1.add(keras.layers.Flatten())\n",
    "model1.add(keras.layers.Dense(128, activation='relu'))\n",
    "model1.add(keras.layers.Dropout(0.2))\n",
    "model1.add(keras.layers.Dense(y_train.shape[1], activation='softmax'))\n",
    "\n",
    "model1.compile(loss=keras.losses.categorical_crossentropy, optimizer=keras.optimizers.Adam(), \n",
    "              metrics=['accuracy'])\n",
    "model1.summary()"
   ]
  },
  {
   "cell_type": "code",
   "execution_count": 6,
   "metadata": {},
   "outputs": [
    {
     "data": {
      "text/plain": [
       "'running...'"
      ]
     },
     "metadata": {},
     "output_type": "display_data"
    },
    {
     "name": "stdout",
     "output_type": "stream",
     "text": [
      "WARNING:tensorflow:From C:\\ProgramData\\Anaconda3\\lib\\site-packages\\tensorflow\\python\\ops\\math_ops.py:3066: to_int32 (from tensorflow.python.ops.math_ops) is deprecated and will be removed in a future version.\n",
      "Instructions for updating:\n",
      "Use tf.cast instead.\n"
     ]
    },
    {
     "data": {
      "application/vnd.jupyter.widget-view+json": {
       "model_id": "a84450e7a8fe4b36a176e1906c535022",
       "version_major": 2,
       "version_minor": 0
      },
      "text/plain": [
       "HBox(children=(IntProgress(value=0, description='Training', max=10, style=ProgressStyle(description_width='ini…"
      ]
     },
     "metadata": {},
     "output_type": "display_data"
    },
    {
     "data": {
      "application/vnd.jupyter.widget-view+json": {
       "model_id": "",
       "version_major": 2,
       "version_minor": 0
      },
      "text/plain": [
       "HBox(children=(IntProgress(value=0, description='Epoch 0', max=94, style=ProgressStyle(description_width='init…"
      ]
     },
     "metadata": {},
     "output_type": "display_data"
    },
    {
     "data": {
      "application/vnd.jupyter.widget-view+json": {
       "model_id": "",
       "version_major": 2,
       "version_minor": 0
      },
      "text/plain": [
       "HBox(children=(IntProgress(value=0, description='Epoch 1', max=94, style=ProgressStyle(description_width='init…"
      ]
     },
     "metadata": {},
     "output_type": "display_data"
    },
    {
     "data": {
      "application/vnd.jupyter.widget-view+json": {
       "model_id": "",
       "version_major": 2,
       "version_minor": 0
      },
      "text/plain": [
       "HBox(children=(IntProgress(value=0, description='Epoch 2', max=94, style=ProgressStyle(description_width='init…"
      ]
     },
     "metadata": {},
     "output_type": "display_data"
    },
    {
     "data": {
      "application/vnd.jupyter.widget-view+json": {
       "model_id": "",
       "version_major": 2,
       "version_minor": 0
      },
      "text/plain": [
       "HBox(children=(IntProgress(value=0, description='Epoch 3', max=94, style=ProgressStyle(description_width='init…"
      ]
     },
     "metadata": {},
     "output_type": "display_data"
    },
    {
     "data": {
      "application/vnd.jupyter.widget-view+json": {
       "model_id": "",
       "version_major": 2,
       "version_minor": 0
      },
      "text/plain": [
       "HBox(children=(IntProgress(value=0, description='Epoch 4', max=94, style=ProgressStyle(description_width='init…"
      ]
     },
     "metadata": {},
     "output_type": "display_data"
    },
    {
     "data": {
      "application/vnd.jupyter.widget-view+json": {
       "model_id": "",
       "version_major": 2,
       "version_minor": 0
      },
      "text/plain": [
       "HBox(children=(IntProgress(value=0, description='Epoch 5', max=94, style=ProgressStyle(description_width='init…"
      ]
     },
     "metadata": {},
     "output_type": "display_data"
    },
    {
     "data": {
      "application/vnd.jupyter.widget-view+json": {
       "model_id": "",
       "version_major": 2,
       "version_minor": 0
      },
      "text/plain": [
       "HBox(children=(IntProgress(value=0, description='Epoch 6', max=94, style=ProgressStyle(description_width='init…"
      ]
     },
     "metadata": {},
     "output_type": "display_data"
    },
    {
     "data": {
      "application/vnd.jupyter.widget-view+json": {
       "model_id": "",
       "version_major": 2,
       "version_minor": 0
      },
      "text/plain": [
       "HBox(children=(IntProgress(value=0, description='Epoch 7', max=94, style=ProgressStyle(description_width='init…"
      ]
     },
     "metadata": {},
     "output_type": "display_data"
    },
    {
     "data": {
      "application/vnd.jupyter.widget-view+json": {
       "model_id": "",
       "version_major": 2,
       "version_minor": 0
      },
      "text/plain": [
       "HBox(children=(IntProgress(value=0, description='Epoch 8', max=94, style=ProgressStyle(description_width='init…"
      ]
     },
     "metadata": {},
     "output_type": "display_data"
    },
    {
     "data": {
      "application/vnd.jupyter.widget-view+json": {
       "model_id": "",
       "version_major": 2,
       "version_minor": 0
      },
      "text/plain": [
       "HBox(children=(IntProgress(value=0, description='Epoch 9', max=94, style=ProgressStyle(description_width='init…"
      ]
     },
     "metadata": {},
     "output_type": "display_data"
    },
    {
     "name": "stdout",
     "output_type": "stream",
     "text": [
      "\n",
      "Finished\n",
      "145/145 [==============================] - 161s 1s/step\n",
      "Accuracy: 49.65517266043301 %\n"
     ]
    }
   ],
   "source": [
    "#model1.compile(loss=keras.losses.categorical_crossentropy, optimizer=keras.optimizers.Adam(), metrics=['accuracy'])\n",
    "\n",
    "\n",
    "batch_size = 10\n",
    "epochs = 10\n",
    "validation_split = 0.35\n",
    "display(\"running...\")\n",
    "\n",
    "history = model1.fit(mnar2, y_train, \n",
    "                     batch_size = batch_size, epochs = epochs, verbose = 0, \n",
    "                     validation_split = validation_split, callbacks=[TQDMNotebookCallback()])\n",
    "\n",
    "print(\"Finished\")\n",
    "print('Accuracy:',model1.evaluate(mnar2,y_train)[1]*100.0,'%')"
   ]
  },
  {
   "cell_type": "code",
   "execution_count": 7,
   "metadata": {},
   "outputs": [
    {
     "data": {
      "image/png": "[encoded data removed]",
      "text/plain": [
       "<Figure size 432x288 with 2 Axes>"
      ]
     },
     "metadata": {
      "needs_background": "light"
     },
     "output_type": "display_data"
    }
   ],
   "source": [
    "plt.figure()\n",
    "plt.subplot(211)\n",
    "\n",
    "#summarize accuracy history\n",
    "plt.plot(history.history['acc'])\n",
    "plt.plot(history.history['val_acc'])\n",
    "plt.title('model accuracy')\n",
    "plt.xlabel('epoch')\n",
    "plt.ylabel('accuracy')\n",
    "plt.legend(['train', 'test'], loc='upper left')\n",
    "\n",
    "#summarize loss history\n",
    "plt.subplot(212)\n",
    "plt.plot(history.history['loss'])\n",
    "plt.plot(history.history['val_loss'])\n",
    "plt.title('model loss')\n",
    "plt.xlabel('epoch')\n",
    "plt.ylabel('loss')\n",
    "plt.legend(['train', 'test'], loc='upper left')\n",
    "\n",
    "\n",
    "plt.tight_layout()\n",
    "plt.show()"
   ]
  },
  {
   "cell_type": "markdown",
   "metadata": {},
   "source": [
    "## Evaluation\n",
    "This one did about the same, to be honest. In light of not having performed the testing phase properly I think it did alright. The biggest difference between this test and the first test was:\n",
    "1. The number of epochs\n",
    "and\n",
    "2. The size of the raw input data. I took advice from Dr. Phillips and shaved out all but the middle portions to send through the network, hoping to isolate the frontal cortex and mid-brain sections where schizophrenia is likely to manifest itself."
   ]
  },
  {
   "cell_type": "code",
   "execution_count": null,
   "metadata": {},
   "outputs": [],
   "source": []
  }
 ],
 "metadata": {
  "kernelspec": {
   "display_name": "Python 3",
   "language": "python",
   "name": "python3"
  },
  "language_info": {
   "codemirror_mode": {
    "name": "ipython",
    "version": 3
   },
   "file_extension": ".py",
   "mimetype": "text/x-python",
   "name": "python",
   "nbconvert_exporter": "python",
   "pygments_lexer": "ipython3",
   "version": "3.7.3"
  }
 },
 "nbformat": 4,
 "nbformat_minor": 2
}
