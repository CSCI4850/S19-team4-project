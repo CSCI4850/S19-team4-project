{
 "cells": [
  {
   "cell_type": "code",
   "execution_count": 1,
   "metadata": {},
   "outputs": [
    {
     "name": "stderr",
     "output_type": "stream",
     "text": [
      "Using TensorFlow backend.\n",
      "C:\\ProgramData\\Anaconda3\\lib\\site-packages\\numpy\\lib\\npyio.py:2315: VisibleDeprecationWarning: Reading unicode strings without specifying the encoding argument is deprecated. Set the encoding, use None for the system default.\n",
      "  output = genfromtxt(fname, **kwargs)\n"
     ]
    }
   ],
   "source": [
    "import numpy as np\n",
    "from nibabel.testing import data_path\n",
    "import nibabel as nib\n",
    "\n",
    "import keras\n",
    "from keras import backend as K\n",
    "import matplotlib.pyplot as plt\n",
    "from mpl_toolkits.mplot3d import axes3d\n",
    "%matplotlib inline\n",
    "from IPython.display import display\n",
    "\n",
    "import nilearn\n",
    "from nilearn import plotting\n",
    "from nilearn import image\n",
    "from nilearn import datasets\n",
    "\n",
    "from keras_tqdm import TQDMNotebookCallback\n",
    "\n",
    "# Get dataset with nilearn function\n",
    "# if not downloaded, will download. If already downloaded, will use local version\n",
    "dataset = nilearn.datasets.fetch_cobre(n_subjects=146, data_dir=\"C:\\\\Users\\\\Imagi\\\\Documents\\\\5850\\\\datasets\", url=None, verbose=1)"
   ]
  },
  {
   "cell_type": "code",
   "execution_count": 7,
   "metadata": {},
   "outputs": [
    {
     "data": {
      "text/plain": [
       "(145,)"
      ]
     },
     "metadata": {},
     "output_type": "display_data"
    }
   ],
   "source": [
    "phenotypes = dataset[\"phenotypic\"]\n",
    "confounds = dataset[\"confounds\"]\n",
    "file_paths = dataset[\"func\"]\n",
    "phenotypes.sort(0) #sort by column corresponding to patient number\n",
    "file_paths.sort() #sort file names by alphabetical order, which will result in sorting by patient number\n",
    "confounds.sort()\n",
    "\n",
    "#file_paths is now a regular python list of the file paths to the fmri scans\n",
    "#phenotypes is now a np.recarray of np.records storing patient info\n",
    "# get just the diagnosis information from the phenotypes\n",
    "diagnosis = phenotypes['diagnosis']\n",
    "diagnosis_converted = []\n",
    "#this stem is necessary to convert np.byte array into strings, \n",
    "#and then fit those strings into 2 categories:\n",
    "#Schizophrenia or no Schizophrenia\n",
    "for item in diagnosis:\n",
    "    s = item.decode('UTF-8')\n",
    "    if s != \"None\":\n",
    "        diagnosis_converted.append(float(1))   #person has schizophrenia\n",
    "    else:\n",
    "        diagnosis_converted.append(float(0))   #person doesn't have schizophrenia\n",
    "\n",
    "del diagnosis_converted[74] # item 74 is a messed up scan with different dimensions\n",
    "del file_paths[74]          # so it needs to be removed\n",
    "del confounds[74]\n",
    "\n",
    "Y = np.array(diagnosis_converted)\n",
    "display(Y.shape)"
   ]
  },
  {
   "cell_type": "code",
   "execution_count": 8,
   "metadata": {},
   "outputs": [
    {
     "name": "stderr",
     "output_type": "stream",
     "text": [
      "C:\\ProgramData\\Anaconda3\\lib\\site-packages\\numpy\\lib\\npyio.py:2315: VisibleDeprecationWarning: Reading unicode strings without specifying the encoding argument is deprecated. Set the encoding, use None for the system default.\n",
      "  output = genfromtxt(fname, **kwargs)\n"
     ]
    },
    {
     "data": {
      "text/plain": [
       "'i got here'"
      ]
     },
     "metadata": {},
     "output_type": "display_data"
    }
   ],
   "source": [
    "\n",
    "# this is a brain anatomical atlas template, that gives us brain reigons with their labels\n",
    "msdl_atlas_dataset = nilearn.datasets.fetch_atlas_msdl(data_dir=\"C:\\\\Users\\\\Imagi\\\\Documents\\\\5850\")\n",
    "\n",
    "from nilearn import image\n",
    "from nilearn import input_data\n",
    "from sklearn.externals.joblib import Memory   # A \"memory\" to avoid recomputation\n",
    "mem = Memory('nilearn_cache')\n",
    "\n",
    "# mask the data, used the atlas template as the mask img.\n",
    "masker = input_data.NiftiMapsMasker(\n",
    "    msdl_atlas_dataset.maps, resampling_target=\"maps\", detrend=True,\n",
    "    low_pass=.5, high_pass=0.01, t_r=2.0, standardize=True,\n",
    "    memory='nilearn_cache', memory_level=1, verbose=0)\n",
    "masker.fit()\n",
    "display(\"i got here\")"
   ]
  },
  {
   "cell_type": "code",
   "execution_count": 9,
   "metadata": {},
   "outputs": [
    {
     "name": "stderr",
     "output_type": "stream",
     "text": [
      "C:\\ProgramData\\Anaconda3\\lib\\site-packages\\nilearn\\image\\resampling.py:510: UserWarning: Casting data from int16 to float32\n",
      "  warnings.warn(\"Casting data from %s to %s\" % (data.dtype.name, aux))\n",
      "C:\\ProgramData\\Anaconda3\\lib\\site-packages\\nilearn\\signal.py:180: UserWarning: The frequency specified for the low pass filter is too high to be handled by a digital filter (superior to nyquist frequency). It has been lowered to 1.00 (nyquist frequency).\n",
      "  'frequency).' % (btype, wn))\n",
      "C:\\ProgramData\\Anaconda3\\lib\\site-packages\\nilearn\\image\\resampling.py:510: UserWarning: Casting data from int16 to float32\n",
      "  warnings.warn(\"Casting data from %s to %s\" % (data.dtype.name, aux))\n",
      "C:\\ProgramData\\Anaconda3\\lib\\site-packages\\nilearn\\signal.py:180: UserWarning: The frequency specified for the low pass filter is too high to be handled by a digital filter (superior to nyquist frequency). It has been lowered to 1.00 (nyquist frequency).\n",
      "  'frequency).' % (btype, wn))\n",
      "C:\\ProgramData\\Anaconda3\\lib\\site-packages\\nilearn\\image\\resampling.py:510: UserWarning: Casting data from int16 to float32\n",
      "  warnings.warn(\"Casting data from %s to %s\" % (data.dtype.name, aux))\n",
      "C:\\ProgramData\\Anaconda3\\lib\\site-packages\\nilearn\\signal.py:180: UserWarning: The frequency specified for the low pass filter is too high to be handled by a digital filter (superior to nyquist frequency). It has been lowered to 1.00 (nyquist frequency).\n",
      "  'frequency).' % (btype, wn))\n",
      "C:\\ProgramData\\Anaconda3\\lib\\site-packages\\nilearn\\image\\resampling.py:510: UserWarning: Casting data from int16 to float32\n",
      "  warnings.warn(\"Casting data from %s to %s\" % (data.dtype.name, aux))\n",
      "C:\\ProgramData\\Anaconda3\\lib\\site-packages\\nilearn\\signal.py:180: UserWarning: The frequency specified for the low pass filter is too high to be handled by a digital filter (superior to nyquist frequency). It has been lowered to 1.00 (nyquist frequency).\n",
      "  'frequency).' % (btype, wn))\n",
      "C:\\ProgramData\\Anaconda3\\lib\\site-packages\\nilearn\\image\\resampling.py:510: UserWarning: Casting data from int16 to float32\n",
      "  warnings.warn(\"Casting data from %s to %s\" % (data.dtype.name, aux))\n",
      "C:\\ProgramData\\Anaconda3\\lib\\site-packages\\nilearn\\signal.py:180: UserWarning: The frequency specified for the low pass filter is too high to be handled by a digital filter (superior to nyquist frequency). It has been lowered to 1.00 (nyquist frequency).\n",
      "  'frequency).' % (btype, wn))\n",
      "C:\\ProgramData\\Anaconda3\\lib\\site-packages\\nilearn\\image\\resampling.py:510: UserWarning: Casting data from int16 to float32\n",
      "  warnings.warn(\"Casting data from %s to %s\" % (data.dtype.name, aux))\n",
      "C:\\ProgramData\\Anaconda3\\lib\\site-packages\\nilearn\\signal.py:180: UserWarning: The frequency specified for the low pass filter is too high to be handled by a digital filter (superior to nyquist frequency). It has been lowered to 1.00 (nyquist frequency).\n",
      "  'frequency).' % (btype, wn))\n",
      "C:\\ProgramData\\Anaconda3\\lib\\site-packages\\nilearn\\image\\resampling.py:510: UserWarning: Casting data from int16 to float32\n",
      "  warnings.warn(\"Casting data from %s to %s\" % (data.dtype.name, aux))\n",
      "C:\\ProgramData\\Anaconda3\\lib\\site-packages\\nilearn\\signal.py:180: UserWarning: The frequency specified for the low pass filter is too high to be handled by a digital filter (superior to nyquist frequency). It has been lowered to 1.00 (nyquist frequency).\n",
      "  'frequency).' % (btype, wn))\n",
      "C:\\ProgramData\\Anaconda3\\lib\\site-packages\\nilearn\\image\\resampling.py:510: UserWarning: Casting data from int16 to float32\n",
      "  warnings.warn(\"Casting data from %s to %s\" % (data.dtype.name, aux))\n",
      "C:\\ProgramData\\Anaconda3\\lib\\site-packages\\nilearn\\signal.py:180: UserWarning: The frequency specified for the low pass filter is too high to be handled by a digital filter (superior to nyquist frequency). It has been lowered to 1.00 (nyquist frequency).\n",
      "  'frequency).' % (btype, wn))\n",
      "C:\\ProgramData\\Anaconda3\\lib\\site-packages\\nilearn\\image\\resampling.py:510: UserWarning: Casting data from int16 to float32\n",
      "  warnings.warn(\"Casting data from %s to %s\" % (data.dtype.name, aux))\n",
      "C:\\ProgramData\\Anaconda3\\lib\\site-packages\\nilearn\\signal.py:180: UserWarning: The frequency specified for the low pass filter is too high to be handled by a digital filter (superior to nyquist frequency). It has been lowered to 1.00 (nyquist frequency).\n",
      "  'frequency).' % (btype, wn))\n",
      "C:\\ProgramData\\Anaconda3\\lib\\site-packages\\nilearn\\image\\resampling.py:510: UserWarning: Casting data from int16 to float32\n",
      "  warnings.warn(\"Casting data from %s to %s\" % (data.dtype.name, aux))\n",
      "C:\\ProgramData\\Anaconda3\\lib\\site-packages\\nilearn\\signal.py:180: UserWarning: The frequency specified for the low pass filter is too high to be handled by a digital filter (superior to nyquist frequency). It has been lowered to 1.00 (nyquist frequency).\n",
      "  'frequency).' % (btype, wn))\n",
      "C:\\ProgramData\\Anaconda3\\lib\\site-packages\\nilearn\\image\\resampling.py:510: UserWarning: Casting data from int16 to float32\n",
      "  warnings.warn(\"Casting data from %s to %s\" % (data.dtype.name, aux))\n",
      "C:\\ProgramData\\Anaconda3\\lib\\site-packages\\nilearn\\signal.py:180: UserWarning: The frequency specified for the low pass filter is too high to be handled by a digital filter (superior to nyquist frequency). It has been lowered to 1.00 (nyquist frequency).\n",
      "  'frequency).' % (btype, wn))\n",
      "C:\\ProgramData\\Anaconda3\\lib\\site-packages\\nilearn\\image\\resampling.py:510: UserWarning: Casting data from int16 to float32\n",
      "  warnings.warn(\"Casting data from %s to %s\" % (data.dtype.name, aux))\n",
      "C:\\ProgramData\\Anaconda3\\lib\\site-packages\\nilearn\\signal.py:180: UserWarning: The frequency specified for the low pass filter is too high to be handled by a digital filter (superior to nyquist frequency). It has been lowered to 1.00 (nyquist frequency).\n",
      "  'frequency).' % (btype, wn))\n",
      "C:\\ProgramData\\Anaconda3\\lib\\site-packages\\nilearn\\image\\resampling.py:510: UserWarning: Casting data from int16 to float32\n",
      "  warnings.warn(\"Casting data from %s to %s\" % (data.dtype.name, aux))\n",
      "C:\\ProgramData\\Anaconda3\\lib\\site-packages\\nilearn\\signal.py:180: UserWarning: The frequency specified for the low pass filter is too high to be handled by a digital filter (superior to nyquist frequency). It has been lowered to 1.00 (nyquist frequency).\n",
      "  'frequency).' % (btype, wn))\n",
      "C:\\ProgramData\\Anaconda3\\lib\\site-packages\\nilearn\\image\\resampling.py:510: UserWarning: Casting data from int16 to float32\n",
      "  warnings.warn(\"Casting data from %s to %s\" % (data.dtype.name, aux))\n",
      "C:\\ProgramData\\Anaconda3\\lib\\site-packages\\nilearn\\signal.py:180: UserWarning: The frequency specified for the low pass filter is too high to be handled by a digital filter (superior to nyquist frequency). It has been lowered to 1.00 (nyquist frequency).\n",
      "  'frequency).' % (btype, wn))\n",
      "C:\\ProgramData\\Anaconda3\\lib\\site-packages\\nilearn\\image\\resampling.py:510: UserWarning: Casting data from int16 to float32\n",
      "  warnings.warn(\"Casting data from %s to %s\" % (data.dtype.name, aux))\n",
      "C:\\ProgramData\\Anaconda3\\lib\\site-packages\\nilearn\\signal.py:180: UserWarning: The frequency specified for the low pass filter is too high to be handled by a digital filter (superior to nyquist frequency). It has been lowered to 1.00 (nyquist frequency).\n",
      "  'frequency).' % (btype, wn))\n",
      "C:\\ProgramData\\Anaconda3\\lib\\site-packages\\nilearn\\image\\resampling.py:510: UserWarning: Casting data from int16 to float32\n",
      "  warnings.warn(\"Casting data from %s to %s\" % (data.dtype.name, aux))\n",
      "C:\\ProgramData\\Anaconda3\\lib\\site-packages\\nilearn\\signal.py:180: UserWarning: The frequency specified for the low pass filter is too high to be handled by a digital filter (superior to nyquist frequency). It has been lowered to 1.00 (nyquist frequency).\n",
      "  'frequency).' % (btype, wn))\n",
      "C:\\ProgramData\\Anaconda3\\lib\\site-packages\\nilearn\\image\\resampling.py:510: UserWarning: Casting data from int16 to float32\n",
      "  warnings.warn(\"Casting data from %s to %s\" % (data.dtype.name, aux))\n",
      "C:\\ProgramData\\Anaconda3\\lib\\site-packages\\nilearn\\signal.py:180: UserWarning: The frequency specified for the low pass filter is too high to be handled by a digital filter (superior to nyquist frequency). It has been lowered to 1.00 (nyquist frequency).\n",
      "  'frequency).' % (btype, wn))\n",
      "C:\\ProgramData\\Anaconda3\\lib\\site-packages\\nilearn\\image\\resampling.py:510: UserWarning: Casting data from int16 to float32\n",
      "  warnings.warn(\"Casting data from %s to %s\" % (data.dtype.name, aux))\n",
      "C:\\ProgramData\\Anaconda3\\lib\\site-packages\\nilearn\\signal.py:180: UserWarning: The frequency specified for the low pass filter is too high to be handled by a digital filter (superior to nyquist frequency). It has been lowered to 1.00 (nyquist frequency).\n",
      "  'frequency).' % (btype, wn))\n",
      "C:\\ProgramData\\Anaconda3\\lib\\site-packages\\nilearn\\image\\resampling.py:510: UserWarning: Casting data from int16 to float32\n",
      "  warnings.warn(\"Casting data from %s to %s\" % (data.dtype.name, aux))\n",
      "C:\\ProgramData\\Anaconda3\\lib\\site-packages\\nilearn\\signal.py:180: UserWarning: The frequency specified for the low pass filter is too high to be handled by a digital filter (superior to nyquist frequency). It has been lowered to 1.00 (nyquist frequency).\n",
      "  'frequency).' % (btype, wn))\n",
      "C:\\ProgramData\\Anaconda3\\lib\\site-packages\\nilearn\\image\\resampling.py:510: UserWarning: Casting data from int16 to float32\n",
      "  warnings.warn(\"Casting data from %s to %s\" % (data.dtype.name, aux))\n",
      "C:\\ProgramData\\Anaconda3\\lib\\site-packages\\nilearn\\signal.py:180: UserWarning: The frequency specified for the low pass filter is too high to be handled by a digital filter (superior to nyquist frequency). It has been lowered to 1.00 (nyquist frequency).\n",
      "  'frequency).' % (btype, wn))\n",
      "C:\\ProgramData\\Anaconda3\\lib\\site-packages\\nilearn\\image\\resampling.py:510: UserWarning: Casting data from int16 to float32\n",
      "  warnings.warn(\"Casting data from %s to %s\" % (data.dtype.name, aux))\n",
      "C:\\ProgramData\\Anaconda3\\lib\\site-packages\\nilearn\\signal.py:180: UserWarning: The frequency specified for the low pass filter is too high to be handled by a digital filter (superior to nyquist frequency). It has been lowered to 1.00 (nyquist frequency).\n",
      "  'frequency).' % (btype, wn))\n",
      "C:\\ProgramData\\Anaconda3\\lib\\site-packages\\nilearn\\image\\resampling.py:510: UserWarning: Casting data from int16 to float32\n",
      "  warnings.warn(\"Casting data from %s to %s\" % (data.dtype.name, aux))\n",
      "C:\\ProgramData\\Anaconda3\\lib\\site-packages\\nilearn\\signal.py:180: UserWarning: The frequency specified for the low pass filter is too high to be handled by a digital filter (superior to nyquist frequency). It has been lowered to 1.00 (nyquist frequency).\n",
      "  'frequency).' % (btype, wn))\n",
      "C:\\ProgramData\\Anaconda3\\lib\\site-packages\\nilearn\\image\\resampling.py:510: UserWarning: Casting data from int16 to float32\n",
      "  warnings.warn(\"Casting data from %s to %s\" % (data.dtype.name, aux))\n",
      "C:\\ProgramData\\Anaconda3\\lib\\site-packages\\nilearn\\signal.py:180: UserWarning: The frequency specified for the low pass filter is too high to be handled by a digital filter (superior to nyquist frequency). It has been lowered to 1.00 (nyquist frequency).\n",
      "  'frequency).' % (btype, wn))\n",
      "C:\\ProgramData\\Anaconda3\\lib\\site-packages\\nilearn\\image\\resampling.py:510: UserWarning: Casting data from int16 to float32\n",
      "  warnings.warn(\"Casting data from %s to %s\" % (data.dtype.name, aux))\n",
      "C:\\ProgramData\\Anaconda3\\lib\\site-packages\\nilearn\\signal.py:180: UserWarning: The frequency specified for the low pass filter is too high to be handled by a digital filter (superior to nyquist frequency). It has been lowered to 1.00 (nyquist frequency).\n",
      "  'frequency).' % (btype, wn))\n",
      "C:\\ProgramData\\Anaconda3\\lib\\site-packages\\nilearn\\image\\resampling.py:510: UserWarning: Casting data from int16 to float32\n",
      "  warnings.warn(\"Casting data from %s to %s\" % (data.dtype.name, aux))\n",
      "C:\\ProgramData\\Anaconda3\\lib\\site-packages\\nilearn\\signal.py:180: UserWarning: The frequency specified for the low pass filter is too high to be handled by a digital filter (superior to nyquist frequency). It has been lowered to 1.00 (nyquist frequency).\n",
      "  'frequency).' % (btype, wn))\n",
      "C:\\ProgramData\\Anaconda3\\lib\\site-packages\\nilearn\\image\\resampling.py:510: UserWarning: Casting data from int16 to float32\n",
      "  warnings.warn(\"Casting data from %s to %s\" % (data.dtype.name, aux))\n",
      "C:\\ProgramData\\Anaconda3\\lib\\site-packages\\nilearn\\signal.py:180: UserWarning: The frequency specified for the low pass filter is too high to be handled by a digital filter (superior to nyquist frequency). It has been lowered to 1.00 (nyquist frequency).\n",
      "  'frequency).' % (btype, wn))\n",
      "C:\\ProgramData\\Anaconda3\\lib\\site-packages\\nilearn\\image\\resampling.py:510: UserWarning: Casting data from int16 to float32\n",
      "  warnings.warn(\"Casting data from %s to %s\" % (data.dtype.name, aux))\n",
      "C:\\ProgramData\\Anaconda3\\lib\\site-packages\\nilearn\\signal.py:180: UserWarning: The frequency specified for the low pass filter is too high to be handled by a digital filter (superior to nyquist frequency). It has been lowered to 1.00 (nyquist frequency).\n",
      "  'frequency).' % (btype, wn))\n",
      "C:\\ProgramData\\Anaconda3\\lib\\site-packages\\nilearn\\image\\resampling.py:510: UserWarning: Casting data from int16 to float32\n",
      "  warnings.warn(\"Casting data from %s to %s\" % (data.dtype.name, aux))\n",
      "C:\\ProgramData\\Anaconda3\\lib\\site-packages\\nilearn\\signal.py:180: UserWarning: The frequency specified for the low pass filter is too high to be handled by a digital filter (superior to nyquist frequency). It has been lowered to 1.00 (nyquist frequency).\n",
      "  'frequency).' % (btype, wn))\n",
      "C:\\ProgramData\\Anaconda3\\lib\\site-packages\\nilearn\\image\\resampling.py:510: UserWarning: Casting data from int16 to float32\n",
      "  warnings.warn(\"Casting data from %s to %s\" % (data.dtype.name, aux))\n",
      "C:\\ProgramData\\Anaconda3\\lib\\site-packages\\nilearn\\signal.py:180: UserWarning: The frequency specified for the low pass filter is too high to be handled by a digital filter (superior to nyquist frequency). It has been lowered to 1.00 (nyquist frequency).\n",
      "  'frequency).' % (btype, wn))\n",
      "C:\\ProgramData\\Anaconda3\\lib\\site-packages\\nilearn\\image\\resampling.py:510: UserWarning: Casting data from int16 to float32\n",
      "  warnings.warn(\"Casting data from %s to %s\" % (data.dtype.name, aux))\n",
      "C:\\ProgramData\\Anaconda3\\lib\\site-packages\\nilearn\\signal.py:180: UserWarning: The frequency specified for the low pass filter is too high to be handled by a digital filter (superior to nyquist frequency). It has been lowered to 1.00 (nyquist frequency).\n",
      "  'frequency).' % (btype, wn))\n",
      "C:\\ProgramData\\Anaconda3\\lib\\site-packages\\nilearn\\image\\resampling.py:510: UserWarning: Casting data from int16 to float32\n",
      "  warnings.warn(\"Casting data from %s to %s\" % (data.dtype.name, aux))\n",
      "C:\\ProgramData\\Anaconda3\\lib\\site-packages\\nilearn\\signal.py:180: UserWarning: The frequency specified for the low pass filter is too high to be handled by a digital filter (superior to nyquist frequency). It has been lowered to 1.00 (nyquist frequency).\n",
      "  'frequency).' % (btype, wn))\n",
      "C:\\ProgramData\\Anaconda3\\lib\\site-packages\\nilearn\\image\\resampling.py:510: UserWarning: Casting data from int16 to float32\n",
      "  warnings.warn(\"Casting data from %s to %s\" % (data.dtype.name, aux))\n",
      "C:\\ProgramData\\Anaconda3\\lib\\site-packages\\nilearn\\signal.py:180: UserWarning: The frequency specified for the low pass filter is too high to be handled by a digital filter (superior to nyquist frequency). It has been lowered to 1.00 (nyquist frequency).\n",
      "  'frequency).' % (btype, wn))\n",
      "C:\\ProgramData\\Anaconda3\\lib\\site-packages\\nilearn\\image\\resampling.py:510: UserWarning: Casting data from int16 to float32\n",
      "  warnings.warn(\"Casting data from %s to %s\" % (data.dtype.name, aux))\n",
      "C:\\ProgramData\\Anaconda3\\lib\\site-packages\\nilearn\\signal.py:180: UserWarning: The frequency specified for the low pass filter is too high to be handled by a digital filter (superior to nyquist frequency). It has been lowered to 1.00 (nyquist frequency).\n",
      "  'frequency).' % (btype, wn))\n",
      "C:\\ProgramData\\Anaconda3\\lib\\site-packages\\nilearn\\image\\resampling.py:510: UserWarning: Casting data from int16 to float32\n",
      "  warnings.warn(\"Casting data from %s to %s\" % (data.dtype.name, aux))\n",
      "C:\\ProgramData\\Anaconda3\\lib\\site-packages\\nilearn\\signal.py:180: UserWarning: The frequency specified for the low pass filter is too high to be handled by a digital filter (superior to nyquist frequency). It has been lowered to 1.00 (nyquist frequency).\n",
      "  'frequency).' % (btype, wn))\n",
      "C:\\ProgramData\\Anaconda3\\lib\\site-packages\\nilearn\\image\\resampling.py:510: UserWarning: Casting data from int16 to float32\n",
      "  warnings.warn(\"Casting data from %s to %s\" % (data.dtype.name, aux))\n",
      "C:\\ProgramData\\Anaconda3\\lib\\site-packages\\nilearn\\signal.py:180: UserWarning: The frequency specified for the low pass filter is too high to be handled by a digital filter (superior to nyquist frequency). It has been lowered to 1.00 (nyquist frequency).\n",
      "  'frequency).' % (btype, wn))\n",
      "C:\\ProgramData\\Anaconda3\\lib\\site-packages\\nilearn\\image\\resampling.py:510: UserWarning: Casting data from int16 to float32\n",
      "  warnings.warn(\"Casting data from %s to %s\" % (data.dtype.name, aux))\n",
      "C:\\ProgramData\\Anaconda3\\lib\\site-packages\\nilearn\\signal.py:180: UserWarning: The frequency specified for the low pass filter is too high to be handled by a digital filter (superior to nyquist frequency). It has been lowered to 1.00 (nyquist frequency).\n",
      "  'frequency).' % (btype, wn))\n",
      "C:\\ProgramData\\Anaconda3\\lib\\site-packages\\nilearn\\image\\resampling.py:510: UserWarning: Casting data from int16 to float32\n",
      "  warnings.warn(\"Casting data from %s to %s\" % (data.dtype.name, aux))\n",
      "C:\\ProgramData\\Anaconda3\\lib\\site-packages\\nilearn\\signal.py:180: UserWarning: The frequency specified for the low pass filter is too high to be handled by a digital filter (superior to nyquist frequency). It has been lowered to 1.00 (nyquist frequency).\n",
      "  'frequency).' % (btype, wn))\n",
      "C:\\ProgramData\\Anaconda3\\lib\\site-packages\\nilearn\\image\\resampling.py:510: UserWarning: Casting data from int16 to float32\n",
      "  warnings.warn(\"Casting data from %s to %s\" % (data.dtype.name, aux))\n",
      "C:\\ProgramData\\Anaconda3\\lib\\site-packages\\nilearn\\signal.py:180: UserWarning: The frequency specified for the low pass filter is too high to be handled by a digital filter (superior to nyquist frequency). It has been lowered to 1.00 (nyquist frequency).\n",
      "  'frequency).' % (btype, wn))\n",
      "C:\\ProgramData\\Anaconda3\\lib\\site-packages\\nilearn\\image\\resampling.py:510: UserWarning: Casting data from int16 to float32\n",
      "  warnings.warn(\"Casting data from %s to %s\" % (data.dtype.name, aux))\n",
      "C:\\ProgramData\\Anaconda3\\lib\\site-packages\\nilearn\\signal.py:180: UserWarning: The frequency specified for the low pass filter is too high to be handled by a digital filter (superior to nyquist frequency). It has been lowered to 1.00 (nyquist frequency).\n",
      "  'frequency).' % (btype, wn))\n"
     ]
    },
    {
     "name": "stdout",
     "output_type": "stream",
     "text": [
      "________________________________________________________________________________\n",
      "[Memory] Calling nilearn.image.image.high_variance_confounds...\n",
      "high_variance_confounds('C:\\\\Users\\\\Imagi\\\\Documents\\\\5850\\\\datasets\\\\cobre\\\\fmri_0040039.nii.gz', n_confounds=10)\n",
      "__________________________________________high_variance_confounds - 0.2s, 0.0min\n"
     ]
    },
    {
     "name": "stderr",
     "output_type": "stream",
     "text": [
      "C:\\ProgramData\\Anaconda3\\lib\\site-packages\\nilearn\\image\\resampling.py:510: UserWarning: Casting data from int16 to float32\n",
      "  warnings.warn(\"Casting data from %s to %s\" % (data.dtype.name, aux))\n",
      "C:\\ProgramData\\Anaconda3\\lib\\site-packages\\nilearn\\signal.py:180: UserWarning: The frequency specified for the low pass filter is too high to be handled by a digital filter (superior to nyquist frequency). It has been lowered to 1.00 (nyquist frequency).\n",
      "  'frequency).' % (btype, wn))\n"
     ]
    },
    {
     "name": "stdout",
     "output_type": "stream",
     "text": [
      "________________________________________________________________________________\n",
      "[Memory] Calling nilearn.image.image.high_variance_confounds...\n",
      "high_variance_confounds('C:\\\\Users\\\\Imagi\\\\Documents\\\\5850\\\\datasets\\\\cobre\\\\fmri_0040040.nii.gz', n_confounds=10)\n",
      "__________________________________________high_variance_confounds - 0.1s, 0.0min\n"
     ]
    },
    {
     "name": "stderr",
     "output_type": "stream",
     "text": [
      "C:\\ProgramData\\Anaconda3\\lib\\site-packages\\nilearn\\image\\resampling.py:510: UserWarning: Casting data from int16 to float32\n",
      "  warnings.warn(\"Casting data from %s to %s\" % (data.dtype.name, aux))\n",
      "C:\\ProgramData\\Anaconda3\\lib\\site-packages\\nilearn\\signal.py:180: UserWarning: The frequency specified for the low pass filter is too high to be handled by a digital filter (superior to nyquist frequency). It has been lowered to 1.00 (nyquist frequency).\n",
      "  'frequency).' % (btype, wn))\n"
     ]
    },
    {
     "name": "stdout",
     "output_type": "stream",
     "text": [
      "________________________________________________________________________________\n",
      "[Memory] Calling nilearn.image.image.high_variance_confounds...\n",
      "high_variance_confounds('C:\\\\Users\\\\Imagi\\\\Documents\\\\5850\\\\datasets\\\\cobre\\\\fmri_0040041.nii.gz', n_confounds=10)\n",
      "__________________________________________high_variance_confounds - 0.1s, 0.0min\n"
     ]
    },
    {
     "name": "stderr",
     "output_type": "stream",
     "text": [
      "C:\\ProgramData\\Anaconda3\\lib\\site-packages\\nilearn\\image\\resampling.py:510: UserWarning: Casting data from int16 to float32\n",
      "  warnings.warn(\"Casting data from %s to %s\" % (data.dtype.name, aux))\n",
      "C:\\ProgramData\\Anaconda3\\lib\\site-packages\\nilearn\\signal.py:180: UserWarning: The frequency specified for the low pass filter is too high to be handled by a digital filter (superior to nyquist frequency). It has been lowered to 1.00 (nyquist frequency).\n",
      "  'frequency).' % (btype, wn))\n"
     ]
    },
    {
     "name": "stdout",
     "output_type": "stream",
     "text": [
      "________________________________________________________________________________\n",
      "[Memory] Calling nilearn.image.image.high_variance_confounds...\n",
      "high_variance_confounds('C:\\\\Users\\\\Imagi\\\\Documents\\\\5850\\\\datasets\\\\cobre\\\\fmri_0040042.nii.gz', n_confounds=10)\n",
      "__________________________________________high_variance_confounds - 0.2s, 0.0min\n"
     ]
    },
    {
     "name": "stderr",
     "output_type": "stream",
     "text": [
      "C:\\ProgramData\\Anaconda3\\lib\\site-packages\\nilearn\\image\\resampling.py:510: UserWarning: Casting data from int16 to float32\n",
      "  warnings.warn(\"Casting data from %s to %s\" % (data.dtype.name, aux))\n",
      "C:\\ProgramData\\Anaconda3\\lib\\site-packages\\nilearn\\signal.py:180: UserWarning: The frequency specified for the low pass filter is too high to be handled by a digital filter (superior to nyquist frequency). It has been lowered to 1.00 (nyquist frequency).\n",
      "  'frequency).' % (btype, wn))\n"
     ]
    },
    {
     "name": "stdout",
     "output_type": "stream",
     "text": [
      "________________________________________________________________________________\n",
      "[Memory] Calling nilearn.image.image.high_variance_confounds...\n",
      "high_variance_confounds('C:\\\\Users\\\\Imagi\\\\Documents\\\\5850\\\\datasets\\\\cobre\\\\fmri_0040043.nii.gz', n_confounds=10)\n",
      "__________________________________________high_variance_confounds - 0.2s, 0.0min\n"
     ]
    },
    {
     "name": "stderr",
     "output_type": "stream",
     "text": [
      "C:\\ProgramData\\Anaconda3\\lib\\site-packages\\nilearn\\image\\resampling.py:510: UserWarning: Casting data from int16 to float32\n",
      "  warnings.warn(\"Casting data from %s to %s\" % (data.dtype.name, aux))\n",
      "C:\\ProgramData\\Anaconda3\\lib\\site-packages\\nilearn\\signal.py:180: UserWarning: The frequency specified for the low pass filter is too high to be handled by a digital filter (superior to nyquist frequency). It has been lowered to 1.00 (nyquist frequency).\n",
      "  'frequency).' % (btype, wn))\n"
     ]
    },
    {
     "name": "stdout",
     "output_type": "stream",
     "text": [
      "________________________________________________________________________________\n",
      "[Memory] Calling nilearn.image.image.high_variance_confounds...\n",
      "high_variance_confounds('C:\\\\Users\\\\Imagi\\\\Documents\\\\5850\\\\datasets\\\\cobre\\\\fmri_0040044.nii.gz', n_confounds=10)\n",
      "__________________________________________high_variance_confounds - 0.3s, 0.0min\n"
     ]
    },
    {
     "name": "stderr",
     "output_type": "stream",
     "text": [
      "C:\\ProgramData\\Anaconda3\\lib\\site-packages\\nilearn\\image\\resampling.py:510: UserWarning: Casting data from int16 to float32\n",
      "  warnings.warn(\"Casting data from %s to %s\" % (data.dtype.name, aux))\n",
      "C:\\ProgramData\\Anaconda3\\lib\\site-packages\\nilearn\\signal.py:180: UserWarning: The frequency specified for the low pass filter is too high to be handled by a digital filter (superior to nyquist frequency). It has been lowered to 1.00 (nyquist frequency).\n",
      "  'frequency).' % (btype, wn))\n"
     ]
    },
    {
     "name": "stdout",
     "output_type": "stream",
     "text": [
      "________________________________________________________________________________\n",
      "[Memory] Calling nilearn.image.image.high_variance_confounds...\n",
      "high_variance_confounds('C:\\\\Users\\\\Imagi\\\\Documents\\\\5850\\\\datasets\\\\cobre\\\\fmri_0040045.nii.gz', n_confounds=10)\n",
      "__________________________________________high_variance_confounds - 0.2s, 0.0min\n"
     ]
    },
    {
     "name": "stderr",
     "output_type": "stream",
     "text": [
      "C:\\ProgramData\\Anaconda3\\lib\\site-packages\\nilearn\\image\\resampling.py:510: UserWarning: Casting data from int16 to float32\n",
      "  warnings.warn(\"Casting data from %s to %s\" % (data.dtype.name, aux))\n",
      "C:\\ProgramData\\Anaconda3\\lib\\site-packages\\nilearn\\signal.py:180: UserWarning: The frequency specified for the low pass filter is too high to be handled by a digital filter (superior to nyquist frequency). It has been lowered to 1.00 (nyquist frequency).\n",
      "  'frequency).' % (btype, wn))\n"
     ]
    },
    {
     "name": "stdout",
     "output_type": "stream",
     "text": [
      "________________________________________________________________________________\n",
      "[Memory] Calling nilearn.image.image.high_variance_confounds...\n",
      "high_variance_confounds('C:\\\\Users\\\\Imagi\\\\Documents\\\\5850\\\\datasets\\\\cobre\\\\fmri_0040046.nii.gz', n_confounds=10)\n",
      "__________________________________________high_variance_confounds - 0.1s, 0.0min\n"
     ]
    },
    {
     "name": "stderr",
     "output_type": "stream",
     "text": [
      "C:\\ProgramData\\Anaconda3\\lib\\site-packages\\nilearn\\image\\resampling.py:510: UserWarning: Casting data from int16 to float32\n",
      "  warnings.warn(\"Casting data from %s to %s\" % (data.dtype.name, aux))\n",
      "C:\\ProgramData\\Anaconda3\\lib\\site-packages\\nilearn\\signal.py:180: UserWarning: The frequency specified for the low pass filter is too high to be handled by a digital filter (superior to nyquist frequency). It has been lowered to 1.00 (nyquist frequency).\n",
      "  'frequency).' % (btype, wn))\n"
     ]
    },
    {
     "name": "stdout",
     "output_type": "stream",
     "text": [
      "________________________________________________________________________________\n",
      "[Memory] Calling nilearn.image.image.high_variance_confounds...\n",
      "high_variance_confounds('C:\\\\Users\\\\Imagi\\\\Documents\\\\5850\\\\datasets\\\\cobre\\\\fmri_0040047.nii.gz', n_confounds=10)\n",
      "__________________________________________high_variance_confounds - 0.1s, 0.0min\n"
     ]
    },
    {
     "name": "stderr",
     "output_type": "stream",
     "text": [
      "C:\\ProgramData\\Anaconda3\\lib\\site-packages\\nilearn\\image\\resampling.py:510: UserWarning: Casting data from int16 to float32\n",
      "  warnings.warn(\"Casting data from %s to %s\" % (data.dtype.name, aux))\n",
      "C:\\ProgramData\\Anaconda3\\lib\\site-packages\\nilearn\\signal.py:180: UserWarning: The frequency specified for the low pass filter is too high to be handled by a digital filter (superior to nyquist frequency). It has been lowered to 1.00 (nyquist frequency).\n",
      "  'frequency).' % (btype, wn))\n"
     ]
    },
    {
     "name": "stdout",
     "output_type": "stream",
     "text": [
      "________________________________________________________________________________\n",
      "[Memory] Calling nilearn.image.image.high_variance_confounds...\n",
      "high_variance_confounds('C:\\\\Users\\\\Imagi\\\\Documents\\\\5850\\\\datasets\\\\cobre\\\\fmri_0040048.nii.gz', n_confounds=10)\n",
      "__________________________________________high_variance_confounds - 0.4s, 0.0min\n"
     ]
    },
    {
     "name": "stderr",
     "output_type": "stream",
     "text": [
      "C:\\ProgramData\\Anaconda3\\lib\\site-packages\\nilearn\\image\\resampling.py:510: UserWarning: Casting data from int16 to float32\n",
      "  warnings.warn(\"Casting data from %s to %s\" % (data.dtype.name, aux))\n",
      "C:\\ProgramData\\Anaconda3\\lib\\site-packages\\nilearn\\signal.py:180: UserWarning: The frequency specified for the low pass filter is too high to be handled by a digital filter (superior to nyquist frequency). It has been lowered to 1.00 (nyquist frequency).\n",
      "  'frequency).' % (btype, wn))\n"
     ]
    },
    {
     "name": "stdout",
     "output_type": "stream",
     "text": [
      "________________________________________________________________________________\n",
      "[Memory] Calling nilearn.image.image.high_variance_confounds...\n",
      "high_variance_confounds('C:\\\\Users\\\\Imagi\\\\Documents\\\\5850\\\\datasets\\\\cobre\\\\fmri_0040049.nii.gz', n_confounds=10)\n",
      "__________________________________________high_variance_confounds - 0.1s, 0.0min\n"
     ]
    },
    {
     "name": "stderr",
     "output_type": "stream",
     "text": [
      "C:\\ProgramData\\Anaconda3\\lib\\site-packages\\nilearn\\image\\resampling.py:510: UserWarning: Casting data from int16 to float32\n",
      "  warnings.warn(\"Casting data from %s to %s\" % (data.dtype.name, aux))\n",
      "C:\\ProgramData\\Anaconda3\\lib\\site-packages\\nilearn\\signal.py:180: UserWarning: The frequency specified for the low pass filter is too high to be handled by a digital filter (superior to nyquist frequency). It has been lowered to 1.00 (nyquist frequency).\n",
      "  'frequency).' % (btype, wn))\n"
     ]
    },
    {
     "name": "stdout",
     "output_type": "stream",
     "text": [
      "________________________________________________________________________________\n",
      "[Memory] Calling nilearn.image.image.high_variance_confounds...\n",
      "high_variance_confounds('C:\\\\Users\\\\Imagi\\\\Documents\\\\5850\\\\datasets\\\\cobre\\\\fmri_0040050.nii.gz', n_confounds=10)\n",
      "__________________________________________high_variance_confounds - 0.2s, 0.0min\n"
     ]
    },
    {
     "name": "stderr",
     "output_type": "stream",
     "text": [
      "C:\\ProgramData\\Anaconda3\\lib\\site-packages\\nilearn\\image\\resampling.py:510: UserWarning: Casting data from int16 to float32\n",
      "  warnings.warn(\"Casting data from %s to %s\" % (data.dtype.name, aux))\n",
      "C:\\ProgramData\\Anaconda3\\lib\\site-packages\\nilearn\\signal.py:180: UserWarning: The frequency specified for the low pass filter is too high to be handled by a digital filter (superior to nyquist frequency). It has been lowered to 1.00 (nyquist frequency).\n",
      "  'frequency).' % (btype, wn))\n"
     ]
    },
    {
     "name": "stdout",
     "output_type": "stream",
     "text": [
      "________________________________________________________________________________\n",
      "[Memory] Calling nilearn.image.image.high_variance_confounds...\n",
      "high_variance_confounds('C:\\\\Users\\\\Imagi\\\\Documents\\\\5850\\\\datasets\\\\cobre\\\\fmri_0040051.nii.gz', n_confounds=10)\n",
      "__________________________________________high_variance_confounds - 0.1s, 0.0min\n"
     ]
    },
    {
     "name": "stderr",
     "output_type": "stream",
     "text": [
      "C:\\ProgramData\\Anaconda3\\lib\\site-packages\\nilearn\\image\\resampling.py:510: UserWarning: Casting data from int16 to float32\n",
      "  warnings.warn(\"Casting data from %s to %s\" % (data.dtype.name, aux))\n",
      "C:\\ProgramData\\Anaconda3\\lib\\site-packages\\nilearn\\signal.py:180: UserWarning: The frequency specified for the low pass filter is too high to be handled by a digital filter (superior to nyquist frequency). It has been lowered to 1.00 (nyquist frequency).\n",
      "  'frequency).' % (btype, wn))\n"
     ]
    },
    {
     "name": "stdout",
     "output_type": "stream",
     "text": [
      "________________________________________________________________________________\n",
      "[Memory] Calling nilearn.image.image.high_variance_confounds...\n",
      "high_variance_confounds('C:\\\\Users\\\\Imagi\\\\Documents\\\\5850\\\\datasets\\\\cobre\\\\fmri_0040052.nii.gz', n_confounds=10)\n",
      "__________________________________________high_variance_confounds - 0.2s, 0.0min\n"
     ]
    },
    {
     "name": "stderr",
     "output_type": "stream",
     "text": [
      "C:\\ProgramData\\Anaconda3\\lib\\site-packages\\nilearn\\image\\resampling.py:510: UserWarning: Casting data from int16 to float32\n",
      "  warnings.warn(\"Casting data from %s to %s\" % (data.dtype.name, aux))\n",
      "C:\\ProgramData\\Anaconda3\\lib\\site-packages\\nilearn\\signal.py:180: UserWarning: The frequency specified for the low pass filter is too high to be handled by a digital filter (superior to nyquist frequency). It has been lowered to 1.00 (nyquist frequency).\n",
      "  'frequency).' % (btype, wn))\n"
     ]
    },
    {
     "name": "stdout",
     "output_type": "stream",
     "text": [
      "________________________________________________________________________________\n",
      "[Memory] Calling nilearn.image.image.high_variance_confounds...\n",
      "high_variance_confounds('C:\\\\Users\\\\Imagi\\\\Documents\\\\5850\\\\datasets\\\\cobre\\\\fmri_0040053.nii.gz', n_confounds=10)\n",
      "__________________________________________high_variance_confounds - 0.1s, 0.0min\n"
     ]
    },
    {
     "name": "stderr",
     "output_type": "stream",
     "text": [
      "C:\\ProgramData\\Anaconda3\\lib\\site-packages\\nilearn\\image\\resampling.py:510: UserWarning: Casting data from int16 to float32\n",
      "  warnings.warn(\"Casting data from %s to %s\" % (data.dtype.name, aux))\n",
      "C:\\ProgramData\\Anaconda3\\lib\\site-packages\\nilearn\\signal.py:180: UserWarning: The frequency specified for the low pass filter is too high to be handled by a digital filter (superior to nyquist frequency). It has been lowered to 1.00 (nyquist frequency).\n",
      "  'frequency).' % (btype, wn))\n"
     ]
    },
    {
     "name": "stdout",
     "output_type": "stream",
     "text": [
      "________________________________________________________________________________\n",
      "[Memory] Calling nilearn.image.image.high_variance_confounds...\n",
      "high_variance_confounds('C:\\\\Users\\\\Imagi\\\\Documents\\\\5850\\\\datasets\\\\cobre\\\\fmri_0040054.nii.gz', n_confounds=10)\n",
      "__________________________________________high_variance_confounds - 0.1s, 0.0min\n"
     ]
    },
    {
     "name": "stderr",
     "output_type": "stream",
     "text": [
      "C:\\ProgramData\\Anaconda3\\lib\\site-packages\\nilearn\\image\\resampling.py:510: UserWarning: Casting data from int16 to float32\n",
      "  warnings.warn(\"Casting data from %s to %s\" % (data.dtype.name, aux))\n",
      "C:\\ProgramData\\Anaconda3\\lib\\site-packages\\nilearn\\signal.py:180: UserWarning: The frequency specified for the low pass filter is too high to be handled by a digital filter (superior to nyquist frequency). It has been lowered to 1.00 (nyquist frequency).\n",
      "  'frequency).' % (btype, wn))\n"
     ]
    },
    {
     "name": "stdout",
     "output_type": "stream",
     "text": [
      "________________________________________________________________________________\n",
      "[Memory] Calling nilearn.image.image.high_variance_confounds...\n",
      "high_variance_confounds('C:\\\\Users\\\\Imagi\\\\Documents\\\\5850\\\\datasets\\\\cobre\\\\fmri_0040055.nii.gz', n_confounds=10)\n",
      "__________________________________________high_variance_confounds - 0.2s, 0.0min\n"
     ]
    },
    {
     "name": "stderr",
     "output_type": "stream",
     "text": [
      "C:\\ProgramData\\Anaconda3\\lib\\site-packages\\nilearn\\image\\resampling.py:510: UserWarning: Casting data from int16 to float32\n",
      "  warnings.warn(\"Casting data from %s to %s\" % (data.dtype.name, aux))\n",
      "C:\\ProgramData\\Anaconda3\\lib\\site-packages\\nilearn\\signal.py:180: UserWarning: The frequency specified for the low pass filter is too high to be handled by a digital filter (superior to nyquist frequency). It has been lowered to 1.00 (nyquist frequency).\n",
      "  'frequency).' % (btype, wn))\n"
     ]
    },
    {
     "name": "stdout",
     "output_type": "stream",
     "text": [
      "________________________________________________________________________________\n",
      "[Memory] Calling nilearn.image.image.high_variance_confounds...\n",
      "high_variance_confounds('C:\\\\Users\\\\Imagi\\\\Documents\\\\5850\\\\datasets\\\\cobre\\\\fmri_0040056.nii.gz', n_confounds=10)\n",
      "__________________________________________high_variance_confounds - 0.1s, 0.0min\n"
     ]
    },
    {
     "name": "stderr",
     "output_type": "stream",
     "text": [
      "C:\\ProgramData\\Anaconda3\\lib\\site-packages\\nilearn\\image\\resampling.py:510: UserWarning: Casting data from int16 to float32\n",
      "  warnings.warn(\"Casting data from %s to %s\" % (data.dtype.name, aux))\n",
      "C:\\ProgramData\\Anaconda3\\lib\\site-packages\\nilearn\\signal.py:180: UserWarning: The frequency specified for the low pass filter is too high to be handled by a digital filter (superior to nyquist frequency). It has been lowered to 1.00 (nyquist frequency).\n",
      "  'frequency).' % (btype, wn))\n"
     ]
    },
    {
     "name": "stdout",
     "output_type": "stream",
     "text": [
      "________________________________________________________________________________\n",
      "[Memory] Calling nilearn.image.image.high_variance_confounds...\n",
      "high_variance_confounds('C:\\\\Users\\\\Imagi\\\\Documents\\\\5850\\\\datasets\\\\cobre\\\\fmri_0040057.nii.gz', n_confounds=10)\n",
      "__________________________________________high_variance_confounds - 0.2s, 0.0min\n"
     ]
    },
    {
     "name": "stderr",
     "output_type": "stream",
     "text": [
      "C:\\ProgramData\\Anaconda3\\lib\\site-packages\\nilearn\\image\\resampling.py:510: UserWarning: Casting data from int16 to float32\n",
      "  warnings.warn(\"Casting data from %s to %s\" % (data.dtype.name, aux))\n",
      "C:\\ProgramData\\Anaconda3\\lib\\site-packages\\nilearn\\signal.py:180: UserWarning: The frequency specified for the low pass filter is too high to be handled by a digital filter (superior to nyquist frequency). It has been lowered to 1.00 (nyquist frequency).\n",
      "  'frequency).' % (btype, wn))\n"
     ]
    },
    {
     "name": "stdout",
     "output_type": "stream",
     "text": [
      "________________________________________________________________________________\n",
      "[Memory] Calling nilearn.image.image.high_variance_confounds...\n",
      "high_variance_confounds('C:\\\\Users\\\\Imagi\\\\Documents\\\\5850\\\\datasets\\\\cobre\\\\fmri_0040058.nii.gz', n_confounds=10)\n",
      "__________________________________________high_variance_confounds - 0.1s, 0.0min\n"
     ]
    },
    {
     "name": "stderr",
     "output_type": "stream",
     "text": [
      "C:\\ProgramData\\Anaconda3\\lib\\site-packages\\nilearn\\image\\resampling.py:510: UserWarning: Casting data from int16 to float32\n",
      "  warnings.warn(\"Casting data from %s to %s\" % (data.dtype.name, aux))\n",
      "C:\\ProgramData\\Anaconda3\\lib\\site-packages\\nilearn\\signal.py:180: UserWarning: The frequency specified for the low pass filter is too high to be handled by a digital filter (superior to nyquist frequency). It has been lowered to 1.00 (nyquist frequency).\n",
      "  'frequency).' % (btype, wn))\n"
     ]
    },
    {
     "name": "stdout",
     "output_type": "stream",
     "text": [
      "________________________________________________________________________________\n",
      "[Memory] Calling nilearn.image.image.high_variance_confounds...\n",
      "high_variance_confounds('C:\\\\Users\\\\Imagi\\\\Documents\\\\5850\\\\datasets\\\\cobre\\\\fmri_0040059.nii.gz', n_confounds=10)\n",
      "__________________________________________high_variance_confounds - 0.1s, 0.0min\n"
     ]
    },
    {
     "name": "stderr",
     "output_type": "stream",
     "text": [
      "C:\\ProgramData\\Anaconda3\\lib\\site-packages\\nilearn\\image\\resampling.py:510: UserWarning: Casting data from int16 to float32\n",
      "  warnings.warn(\"Casting data from %s to %s\" % (data.dtype.name, aux))\n",
      "C:\\ProgramData\\Anaconda3\\lib\\site-packages\\nilearn\\signal.py:180: UserWarning: The frequency specified for the low pass filter is too high to be handled by a digital filter (superior to nyquist frequency). It has been lowered to 1.00 (nyquist frequency).\n",
      "  'frequency).' % (btype, wn))\n"
     ]
    },
    {
     "name": "stdout",
     "output_type": "stream",
     "text": [
      "________________________________________________________________________________\n",
      "[Memory] Calling nilearn.image.image.high_variance_confounds...\n",
      "high_variance_confounds('C:\\\\Users\\\\Imagi\\\\Documents\\\\5850\\\\datasets\\\\cobre\\\\fmri_0040060.nii.gz', n_confounds=10)\n",
      "__________________________________________high_variance_confounds - 0.3s, 0.0min\n"
     ]
    },
    {
     "name": "stderr",
     "output_type": "stream",
     "text": [
      "C:\\ProgramData\\Anaconda3\\lib\\site-packages\\nilearn\\image\\resampling.py:510: UserWarning: Casting data from int16 to float32\n",
      "  warnings.warn(\"Casting data from %s to %s\" % (data.dtype.name, aux))\n",
      "C:\\ProgramData\\Anaconda3\\lib\\site-packages\\nilearn\\signal.py:180: UserWarning: The frequency specified for the low pass filter is too high to be handled by a digital filter (superior to nyquist frequency). It has been lowered to 1.00 (nyquist frequency).\n",
      "  'frequency).' % (btype, wn))\n"
     ]
    },
    {
     "name": "stdout",
     "output_type": "stream",
     "text": [
      "________________________________________________________________________________\n",
      "[Memory] Calling nilearn.image.image.high_variance_confounds...\n",
      "high_variance_confounds('C:\\\\Users\\\\Imagi\\\\Documents\\\\5850\\\\datasets\\\\cobre\\\\fmri_0040061.nii.gz', n_confounds=10)\n",
      "__________________________________________high_variance_confounds - 0.1s, 0.0min\n"
     ]
    },
    {
     "name": "stderr",
     "output_type": "stream",
     "text": [
      "C:\\ProgramData\\Anaconda3\\lib\\site-packages\\nilearn\\image\\resampling.py:510: UserWarning: Casting data from int16 to float32\n",
      "  warnings.warn(\"Casting data from %s to %s\" % (data.dtype.name, aux))\n",
      "C:\\ProgramData\\Anaconda3\\lib\\site-packages\\nilearn\\signal.py:180: UserWarning: The frequency specified for the low pass filter is too high to be handled by a digital filter (superior to nyquist frequency). It has been lowered to 1.00 (nyquist frequency).\n",
      "  'frequency).' % (btype, wn))\n"
     ]
    },
    {
     "name": "stdout",
     "output_type": "stream",
     "text": [
      "________________________________________________________________________________\n",
      "[Memory] Calling nilearn.image.image.high_variance_confounds...\n",
      "high_variance_confounds('C:\\\\Users\\\\Imagi\\\\Documents\\\\5850\\\\datasets\\\\cobre\\\\fmri_0040062.nii.gz', n_confounds=10)\n",
      "__________________________________________high_variance_confounds - 0.1s, 0.0min\n"
     ]
    },
    {
     "name": "stderr",
     "output_type": "stream",
     "text": [
      "C:\\ProgramData\\Anaconda3\\lib\\site-packages\\nilearn\\image\\resampling.py:510: UserWarning: Casting data from int16 to float32\n",
      "  warnings.warn(\"Casting data from %s to %s\" % (data.dtype.name, aux))\n",
      "C:\\ProgramData\\Anaconda3\\lib\\site-packages\\nilearn\\signal.py:180: UserWarning: The frequency specified for the low pass filter is too high to be handled by a digital filter (superior to nyquist frequency). It has been lowered to 1.00 (nyquist frequency).\n",
      "  'frequency).' % (btype, wn))\n"
     ]
    },
    {
     "name": "stdout",
     "output_type": "stream",
     "text": [
      "________________________________________________________________________________\n",
      "[Memory] Calling nilearn.image.image.high_variance_confounds...\n",
      "high_variance_confounds('C:\\\\Users\\\\Imagi\\\\Documents\\\\5850\\\\datasets\\\\cobre\\\\fmri_0040063.nii.gz', n_confounds=10)\n",
      "__________________________________________high_variance_confounds - 0.1s, 0.0min\n"
     ]
    },
    {
     "name": "stderr",
     "output_type": "stream",
     "text": [
      "C:\\ProgramData\\Anaconda3\\lib\\site-packages\\nilearn\\image\\resampling.py:510: UserWarning: Casting data from int16 to float32\n",
      "  warnings.warn(\"Casting data from %s to %s\" % (data.dtype.name, aux))\n",
      "C:\\ProgramData\\Anaconda3\\lib\\site-packages\\nilearn\\signal.py:180: UserWarning: The frequency specified for the low pass filter is too high to be handled by a digital filter (superior to nyquist frequency). It has been lowered to 1.00 (nyquist frequency).\n",
      "  'frequency).' % (btype, wn))\n"
     ]
    },
    {
     "name": "stdout",
     "output_type": "stream",
     "text": [
      "________________________________________________________________________________\n",
      "[Memory] Calling nilearn.image.image.high_variance_confounds...\n",
      "high_variance_confounds('C:\\\\Users\\\\Imagi\\\\Documents\\\\5850\\\\datasets\\\\cobre\\\\fmri_0040064.nii.gz', n_confounds=10)\n",
      "__________________________________________high_variance_confounds - 0.1s, 0.0min\n"
     ]
    },
    {
     "name": "stderr",
     "output_type": "stream",
     "text": [
      "C:\\ProgramData\\Anaconda3\\lib\\site-packages\\nilearn\\image\\resampling.py:510: UserWarning: Casting data from int16 to float32\n",
      "  warnings.warn(\"Casting data from %s to %s\" % (data.dtype.name, aux))\n",
      "C:\\ProgramData\\Anaconda3\\lib\\site-packages\\nilearn\\signal.py:180: UserWarning: The frequency specified for the low pass filter is too high to be handled by a digital filter (superior to nyquist frequency). It has been lowered to 1.00 (nyquist frequency).\n",
      "  'frequency).' % (btype, wn))\n"
     ]
    },
    {
     "name": "stdout",
     "output_type": "stream",
     "text": [
      "________________________________________________________________________________\n",
      "[Memory] Calling nilearn.image.image.high_variance_confounds...\n",
      "high_variance_confounds('C:\\\\Users\\\\Imagi\\\\Documents\\\\5850\\\\datasets\\\\cobre\\\\fmri_0040065.nii.gz', n_confounds=10)\n",
      "__________________________________________high_variance_confounds - 0.2s, 0.0min\n"
     ]
    },
    {
     "name": "stderr",
     "output_type": "stream",
     "text": [
      "C:\\ProgramData\\Anaconda3\\lib\\site-packages\\nilearn\\image\\resampling.py:510: UserWarning: Casting data from int16 to float32\n",
      "  warnings.warn(\"Casting data from %s to %s\" % (data.dtype.name, aux))\n",
      "C:\\ProgramData\\Anaconda3\\lib\\site-packages\\nilearn\\signal.py:180: UserWarning: The frequency specified for the low pass filter is too high to be handled by a digital filter (superior to nyquist frequency). It has been lowered to 1.00 (nyquist frequency).\n",
      "  'frequency).' % (btype, wn))\n"
     ]
    },
    {
     "name": "stdout",
     "output_type": "stream",
     "text": [
      "________________________________________________________________________________\n",
      "[Memory] Calling nilearn.image.image.high_variance_confounds...\n",
      "high_variance_confounds('C:\\\\Users\\\\Imagi\\\\Documents\\\\5850\\\\datasets\\\\cobre\\\\fmri_0040066.nii.gz', n_confounds=10)\n",
      "__________________________________________high_variance_confounds - 0.2s, 0.0min\n"
     ]
    },
    {
     "name": "stderr",
     "output_type": "stream",
     "text": [
      "C:\\ProgramData\\Anaconda3\\lib\\site-packages\\nilearn\\image\\resampling.py:510: UserWarning: Casting data from int16 to float32\n",
      "  warnings.warn(\"Casting data from %s to %s\" % (data.dtype.name, aux))\n",
      "C:\\ProgramData\\Anaconda3\\lib\\site-packages\\nilearn\\signal.py:180: UserWarning: The frequency specified for the low pass filter is too high to be handled by a digital filter (superior to nyquist frequency). It has been lowered to 1.00 (nyquist frequency).\n",
      "  'frequency).' % (btype, wn))\n"
     ]
    },
    {
     "name": "stdout",
     "output_type": "stream",
     "text": [
      "________________________________________________________________________________\n",
      "[Memory] Calling nilearn.image.image.high_variance_confounds...\n",
      "high_variance_confounds('C:\\\\Users\\\\Imagi\\\\Documents\\\\5850\\\\datasets\\\\cobre\\\\fmri_0040067.nii.gz', n_confounds=10)\n",
      "__________________________________________high_variance_confounds - 0.2s, 0.0min\n"
     ]
    },
    {
     "name": "stderr",
     "output_type": "stream",
     "text": [
      "C:\\ProgramData\\Anaconda3\\lib\\site-packages\\nilearn\\image\\resampling.py:510: UserWarning: Casting data from int16 to float32\n",
      "  warnings.warn(\"Casting data from %s to %s\" % (data.dtype.name, aux))\n",
      "C:\\ProgramData\\Anaconda3\\lib\\site-packages\\nilearn\\signal.py:180: UserWarning: The frequency specified for the low pass filter is too high to be handled by a digital filter (superior to nyquist frequency). It has been lowered to 1.00 (nyquist frequency).\n",
      "  'frequency).' % (btype, wn))\n"
     ]
    },
    {
     "name": "stdout",
     "output_type": "stream",
     "text": [
      "________________________________________________________________________________\n",
      "[Memory] Calling nilearn.image.image.high_variance_confounds...\n",
      "high_variance_confounds('C:\\\\Users\\\\Imagi\\\\Documents\\\\5850\\\\datasets\\\\cobre\\\\fmri_0040068.nii.gz', n_confounds=10)\n",
      "__________________________________________high_variance_confounds - 0.1s, 0.0min\n"
     ]
    },
    {
     "name": "stderr",
     "output_type": "stream",
     "text": [
      "C:\\ProgramData\\Anaconda3\\lib\\site-packages\\nilearn\\image\\resampling.py:510: UserWarning: Casting data from int16 to float32\n",
      "  warnings.warn(\"Casting data from %s to %s\" % (data.dtype.name, aux))\n",
      "C:\\ProgramData\\Anaconda3\\lib\\site-packages\\nilearn\\signal.py:180: UserWarning: The frequency specified for the low pass filter is too high to be handled by a digital filter (superior to nyquist frequency). It has been lowered to 1.00 (nyquist frequency).\n",
      "  'frequency).' % (btype, wn))\n"
     ]
    },
    {
     "name": "stdout",
     "output_type": "stream",
     "text": [
      "________________________________________________________________________________\n",
      "[Memory] Calling nilearn.image.image.high_variance_confounds...\n",
      "high_variance_confounds('C:\\\\Users\\\\Imagi\\\\Documents\\\\5850\\\\datasets\\\\cobre\\\\fmri_0040069.nii.gz', n_confounds=10)\n",
      "__________________________________________high_variance_confounds - 0.1s, 0.0min\n"
     ]
    },
    {
     "name": "stderr",
     "output_type": "stream",
     "text": [
      "C:\\ProgramData\\Anaconda3\\lib\\site-packages\\nilearn\\image\\resampling.py:510: UserWarning: Casting data from int16 to float32\n",
      "  warnings.warn(\"Casting data from %s to %s\" % (data.dtype.name, aux))\n",
      "C:\\ProgramData\\Anaconda3\\lib\\site-packages\\nilearn\\signal.py:180: UserWarning: The frequency specified for the low pass filter is too high to be handled by a digital filter (superior to nyquist frequency). It has been lowered to 1.00 (nyquist frequency).\n",
      "  'frequency).' % (btype, wn))\n"
     ]
    },
    {
     "name": "stdout",
     "output_type": "stream",
     "text": [
      "________________________________________________________________________________\n",
      "[Memory] Calling nilearn.image.image.high_variance_confounds...\n",
      "high_variance_confounds('C:\\\\Users\\\\Imagi\\\\Documents\\\\5850\\\\datasets\\\\cobre\\\\fmri_0040071.nii.gz', n_confounds=10)\n",
      "__________________________________________high_variance_confounds - 0.1s, 0.0min\n"
     ]
    },
    {
     "name": "stderr",
     "output_type": "stream",
     "text": [
      "C:\\ProgramData\\Anaconda3\\lib\\site-packages\\nilearn\\image\\resampling.py:510: UserWarning: Casting data from int16 to float32\n",
      "  warnings.warn(\"Casting data from %s to %s\" % (data.dtype.name, aux))\n",
      "C:\\ProgramData\\Anaconda3\\lib\\site-packages\\nilearn\\signal.py:180: UserWarning: The frequency specified for the low pass filter is too high to be handled by a digital filter (superior to nyquist frequency). It has been lowered to 1.00 (nyquist frequency).\n",
      "  'frequency).' % (btype, wn))\n"
     ]
    },
    {
     "name": "stdout",
     "output_type": "stream",
     "text": [
      "________________________________________________________________________________\n",
      "[Memory] Calling nilearn.image.image.high_variance_confounds...\n",
      "high_variance_confounds('C:\\\\Users\\\\Imagi\\\\Documents\\\\5850\\\\datasets\\\\cobre\\\\fmri_0040072.nii.gz', n_confounds=10)\n",
      "__________________________________________high_variance_confounds - 0.1s, 0.0min\n"
     ]
    },
    {
     "name": "stderr",
     "output_type": "stream",
     "text": [
      "C:\\ProgramData\\Anaconda3\\lib\\site-packages\\nilearn\\image\\resampling.py:510: UserWarning: Casting data from int16 to float32\n",
      "  warnings.warn(\"Casting data from %s to %s\" % (data.dtype.name, aux))\n",
      "C:\\ProgramData\\Anaconda3\\lib\\site-packages\\nilearn\\signal.py:180: UserWarning: The frequency specified for the low pass filter is too high to be handled by a digital filter (superior to nyquist frequency). It has been lowered to 1.00 (nyquist frequency).\n",
      "  'frequency).' % (btype, wn))\n"
     ]
    },
    {
     "name": "stdout",
     "output_type": "stream",
     "text": [
      "________________________________________________________________________________\n",
      "[Memory] Calling nilearn.image.image.high_variance_confounds...\n",
      "high_variance_confounds('C:\\\\Users\\\\Imagi\\\\Documents\\\\5850\\\\datasets\\\\cobre\\\\fmri_0040073.nii.gz', n_confounds=10)\n",
      "__________________________________________high_variance_confounds - 0.2s, 0.0min\n"
     ]
    },
    {
     "name": "stderr",
     "output_type": "stream",
     "text": [
      "C:\\ProgramData\\Anaconda3\\lib\\site-packages\\nilearn\\image\\resampling.py:510: UserWarning: Casting data from int16 to float32\n",
      "  warnings.warn(\"Casting data from %s to %s\" % (data.dtype.name, aux))\n",
      "C:\\ProgramData\\Anaconda3\\lib\\site-packages\\nilearn\\signal.py:180: UserWarning: The frequency specified for the low pass filter is too high to be handled by a digital filter (superior to nyquist frequency). It has been lowered to 1.00 (nyquist frequency).\n",
      "  'frequency).' % (btype, wn))\n"
     ]
    },
    {
     "name": "stdout",
     "output_type": "stream",
     "text": [
      "________________________________________________________________________________\n",
      "[Memory] Calling nilearn.image.image.high_variance_confounds...\n",
      "high_variance_confounds('C:\\\\Users\\\\Imagi\\\\Documents\\\\5850\\\\datasets\\\\cobre\\\\fmri_0040074.nii.gz', n_confounds=10)\n",
      "__________________________________________high_variance_confounds - 0.1s, 0.0min\n"
     ]
    },
    {
     "name": "stderr",
     "output_type": "stream",
     "text": [
      "C:\\ProgramData\\Anaconda3\\lib\\site-packages\\nilearn\\image\\resampling.py:510: UserWarning: Casting data from int16 to float32\n",
      "  warnings.warn(\"Casting data from %s to %s\" % (data.dtype.name, aux))\n",
      "C:\\ProgramData\\Anaconda3\\lib\\site-packages\\nilearn\\signal.py:180: UserWarning: The frequency specified for the low pass filter is too high to be handled by a digital filter (superior to nyquist frequency). It has been lowered to 1.00 (nyquist frequency).\n",
      "  'frequency).' % (btype, wn))\n"
     ]
    },
    {
     "name": "stdout",
     "output_type": "stream",
     "text": [
      "________________________________________________________________________________\n",
      "[Memory] Calling nilearn.image.image.high_variance_confounds...\n",
      "high_variance_confounds('C:\\\\Users\\\\Imagi\\\\Documents\\\\5850\\\\datasets\\\\cobre\\\\fmri_0040077.nii.gz', n_confounds=10)\n",
      "__________________________________________high_variance_confounds - 0.2s, 0.0min\n"
     ]
    },
    {
     "name": "stderr",
     "output_type": "stream",
     "text": [
      "C:\\ProgramData\\Anaconda3\\lib\\site-packages\\nilearn\\image\\resampling.py:510: UserWarning: Casting data from int16 to float32\n",
      "  warnings.warn(\"Casting data from %s to %s\" % (data.dtype.name, aux))\n",
      "C:\\ProgramData\\Anaconda3\\lib\\site-packages\\nilearn\\signal.py:180: UserWarning: The frequency specified for the low pass filter is too high to be handled by a digital filter (superior to nyquist frequency). It has been lowered to 1.00 (nyquist frequency).\n",
      "  'frequency).' % (btype, wn))\n"
     ]
    },
    {
     "name": "stdout",
     "output_type": "stream",
     "text": [
      "________________________________________________________________________________\n",
      "[Memory] Calling nilearn.image.image.high_variance_confounds...\n",
      "high_variance_confounds('C:\\\\Users\\\\Imagi\\\\Documents\\\\5850\\\\datasets\\\\cobre\\\\fmri_0040078.nii.gz', n_confounds=10)\n",
      "__________________________________________high_variance_confounds - 0.1s, 0.0min\n"
     ]
    },
    {
     "name": "stderr",
     "output_type": "stream",
     "text": [
      "C:\\ProgramData\\Anaconda3\\lib\\site-packages\\nilearn\\image\\resampling.py:510: UserWarning: Casting data from int16 to float32\n",
      "  warnings.warn(\"Casting data from %s to %s\" % (data.dtype.name, aux))\n",
      "C:\\ProgramData\\Anaconda3\\lib\\site-packages\\nilearn\\signal.py:180: UserWarning: The frequency specified for the low pass filter is too high to be handled by a digital filter (superior to nyquist frequency). It has been lowered to 1.00 (nyquist frequency).\n",
      "  'frequency).' % (btype, wn))\n"
     ]
    },
    {
     "name": "stdout",
     "output_type": "stream",
     "text": [
      "________________________________________________________________________________\n",
      "[Memory] Calling nilearn.image.image.high_variance_confounds...\n",
      "high_variance_confounds('C:\\\\Users\\\\Imagi\\\\Documents\\\\5850\\\\datasets\\\\cobre\\\\fmri_0040079.nii.gz', n_confounds=10)\n",
      "__________________________________________high_variance_confounds - 0.1s, 0.0min\n"
     ]
    },
    {
     "name": "stderr",
     "output_type": "stream",
     "text": [
      "C:\\ProgramData\\Anaconda3\\lib\\site-packages\\nilearn\\image\\resampling.py:510: UserWarning: Casting data from int16 to float32\n",
      "  warnings.warn(\"Casting data from %s to %s\" % (data.dtype.name, aux))\n",
      "C:\\ProgramData\\Anaconda3\\lib\\site-packages\\nilearn\\signal.py:180: UserWarning: The frequency specified for the low pass filter is too high to be handled by a digital filter (superior to nyquist frequency). It has been lowered to 1.00 (nyquist frequency).\n",
      "  'frequency).' % (btype, wn))\n"
     ]
    },
    {
     "name": "stdout",
     "output_type": "stream",
     "text": [
      "________________________________________________________________________________\n",
      "[Memory] Calling nilearn.image.image.high_variance_confounds...\n",
      "high_variance_confounds('C:\\\\Users\\\\Imagi\\\\Documents\\\\5850\\\\datasets\\\\cobre\\\\fmri_0040080.nii.gz', n_confounds=10)\n",
      "__________________________________________high_variance_confounds - 0.1s, 0.0min\n"
     ]
    },
    {
     "name": "stderr",
     "output_type": "stream",
     "text": [
      "C:\\ProgramData\\Anaconda3\\lib\\site-packages\\nilearn\\image\\resampling.py:510: UserWarning: Casting data from int16 to float32\n",
      "  warnings.warn(\"Casting data from %s to %s\" % (data.dtype.name, aux))\n",
      "C:\\ProgramData\\Anaconda3\\lib\\site-packages\\nilearn\\signal.py:180: UserWarning: The frequency specified for the low pass filter is too high to be handled by a digital filter (superior to nyquist frequency). It has been lowered to 1.00 (nyquist frequency).\n",
      "  'frequency).' % (btype, wn))\n"
     ]
    },
    {
     "name": "stdout",
     "output_type": "stream",
     "text": [
      "________________________________________________________________________________\n",
      "[Memory] Calling nilearn.image.image.high_variance_confounds...\n",
      "high_variance_confounds('C:\\\\Users\\\\Imagi\\\\Documents\\\\5850\\\\datasets\\\\cobre\\\\fmri_0040081.nii.gz', n_confounds=10)\n",
      "__________________________________________high_variance_confounds - 0.2s, 0.0min\n"
     ]
    },
    {
     "name": "stderr",
     "output_type": "stream",
     "text": [
      "C:\\ProgramData\\Anaconda3\\lib\\site-packages\\nilearn\\image\\resampling.py:510: UserWarning: Casting data from int16 to float32\n",
      "  warnings.warn(\"Casting data from %s to %s\" % (data.dtype.name, aux))\n",
      "C:\\ProgramData\\Anaconda3\\lib\\site-packages\\nilearn\\signal.py:180: UserWarning: The frequency specified for the low pass filter is too high to be handled by a digital filter (superior to nyquist frequency). It has been lowered to 1.00 (nyquist frequency).\n",
      "  'frequency).' % (btype, wn))\n"
     ]
    },
    {
     "name": "stdout",
     "output_type": "stream",
     "text": [
      "________________________________________________________________________________\n",
      "[Memory] Calling nilearn.image.image.high_variance_confounds...\n",
      "high_variance_confounds('C:\\\\Users\\\\Imagi\\\\Documents\\\\5850\\\\datasets\\\\cobre\\\\fmri_0040082.nii.gz', n_confounds=10)\n",
      "__________________________________________high_variance_confounds - 0.1s, 0.0min\n"
     ]
    },
    {
     "name": "stderr",
     "output_type": "stream",
     "text": [
      "C:\\ProgramData\\Anaconda3\\lib\\site-packages\\nilearn\\image\\resampling.py:510: UserWarning: Casting data from int16 to float32\n",
      "  warnings.warn(\"Casting data from %s to %s\" % (data.dtype.name, aux))\n",
      "C:\\ProgramData\\Anaconda3\\lib\\site-packages\\nilearn\\signal.py:180: UserWarning: The frequency specified for the low pass filter is too high to be handled by a digital filter (superior to nyquist frequency). It has been lowered to 1.00 (nyquist frequency).\n",
      "  'frequency).' % (btype, wn))\n"
     ]
    },
    {
     "name": "stdout",
     "output_type": "stream",
     "text": [
      "________________________________________________________________________________\n",
      "[Memory] Calling nilearn.image.image.high_variance_confounds...\n",
      "high_variance_confounds('C:\\\\Users\\\\Imagi\\\\Documents\\\\5850\\\\datasets\\\\cobre\\\\fmri_0040084.nii.gz', n_confounds=10)\n",
      "__________________________________________high_variance_confounds - 0.1s, 0.0min\n"
     ]
    },
    {
     "name": "stderr",
     "output_type": "stream",
     "text": [
      "C:\\ProgramData\\Anaconda3\\lib\\site-packages\\nilearn\\image\\resampling.py:510: UserWarning: Casting data from int16 to float32\n",
      "  warnings.warn(\"Casting data from %s to %s\" % (data.dtype.name, aux))\n",
      "C:\\ProgramData\\Anaconda3\\lib\\site-packages\\nilearn\\signal.py:180: UserWarning: The frequency specified for the low pass filter is too high to be handled by a digital filter (superior to nyquist frequency). It has been lowered to 1.00 (nyquist frequency).\n",
      "  'frequency).' % (btype, wn))\n"
     ]
    },
    {
     "name": "stdout",
     "output_type": "stream",
     "text": [
      "________________________________________________________________________________\n",
      "[Memory] Calling nilearn.image.image.high_variance_confounds...\n",
      "high_variance_confounds('C:\\\\Users\\\\Imagi\\\\Documents\\\\5850\\\\datasets\\\\cobre\\\\fmri_0040085.nii.gz', n_confounds=10)\n",
      "__________________________________________high_variance_confounds - 0.2s, 0.0min\n"
     ]
    },
    {
     "name": "stderr",
     "output_type": "stream",
     "text": [
      "C:\\ProgramData\\Anaconda3\\lib\\site-packages\\nilearn\\image\\resampling.py:510: UserWarning: Casting data from int16 to float32\n",
      "  warnings.warn(\"Casting data from %s to %s\" % (data.dtype.name, aux))\n",
      "C:\\ProgramData\\Anaconda3\\lib\\site-packages\\nilearn\\signal.py:180: UserWarning: The frequency specified for the low pass filter is too high to be handled by a digital filter (superior to nyquist frequency). It has been lowered to 1.00 (nyquist frequency).\n",
      "  'frequency).' % (btype, wn))\n"
     ]
    },
    {
     "name": "stdout",
     "output_type": "stream",
     "text": [
      "________________________________________________________________________________\n",
      "[Memory] Calling nilearn.image.image.high_variance_confounds...\n",
      "high_variance_confounds('C:\\\\Users\\\\Imagi\\\\Documents\\\\5850\\\\datasets\\\\cobre\\\\fmri_0040086.nii.gz', n_confounds=10)\n",
      "__________________________________________high_variance_confounds - 0.1s, 0.0min\n"
     ]
    },
    {
     "name": "stderr",
     "output_type": "stream",
     "text": [
      "C:\\ProgramData\\Anaconda3\\lib\\site-packages\\nilearn\\image\\resampling.py:510: UserWarning: Casting data from int16 to float32\n",
      "  warnings.warn(\"Casting data from %s to %s\" % (data.dtype.name, aux))\n",
      "C:\\ProgramData\\Anaconda3\\lib\\site-packages\\nilearn\\signal.py:180: UserWarning: The frequency specified for the low pass filter is too high to be handled by a digital filter (superior to nyquist frequency). It has been lowered to 1.00 (nyquist frequency).\n",
      "  'frequency).' % (btype, wn))\n"
     ]
    },
    {
     "name": "stdout",
     "output_type": "stream",
     "text": [
      "________________________________________________________________________________\n",
      "[Memory] Calling nilearn.image.image.high_variance_confounds...\n",
      "high_variance_confounds('C:\\\\Users\\\\Imagi\\\\Documents\\\\5850\\\\datasets\\\\cobre\\\\fmri_0040087.nii.gz', n_confounds=10)\n",
      "__________________________________________high_variance_confounds - 0.1s, 0.0min\n"
     ]
    },
    {
     "name": "stderr",
     "output_type": "stream",
     "text": [
      "C:\\ProgramData\\Anaconda3\\lib\\site-packages\\nilearn\\image\\resampling.py:510: UserWarning: Casting data from int16 to float32\n",
      "  warnings.warn(\"Casting data from %s to %s\" % (data.dtype.name, aux))\n",
      "C:\\ProgramData\\Anaconda3\\lib\\site-packages\\nilearn\\signal.py:180: UserWarning: The frequency specified for the low pass filter is too high to be handled by a digital filter (superior to nyquist frequency). It has been lowered to 1.00 (nyquist frequency).\n",
      "  'frequency).' % (btype, wn))\n"
     ]
    },
    {
     "name": "stdout",
     "output_type": "stream",
     "text": [
      "________________________________________________________________________________\n",
      "[Memory] Calling nilearn.image.image.high_variance_confounds...\n",
      "high_variance_confounds('C:\\\\Users\\\\Imagi\\\\Documents\\\\5850\\\\datasets\\\\cobre\\\\fmri_0040088.nii.gz', n_confounds=10)\n",
      "__________________________________________high_variance_confounds - 0.3s, 0.0min\n"
     ]
    },
    {
     "name": "stderr",
     "output_type": "stream",
     "text": [
      "C:\\ProgramData\\Anaconda3\\lib\\site-packages\\nilearn\\image\\resampling.py:510: UserWarning: Casting data from int16 to float32\n",
      "  warnings.warn(\"Casting data from %s to %s\" % (data.dtype.name, aux))\n",
      "C:\\ProgramData\\Anaconda3\\lib\\site-packages\\nilearn\\signal.py:180: UserWarning: The frequency specified for the low pass filter is too high to be handled by a digital filter (superior to nyquist frequency). It has been lowered to 1.00 (nyquist frequency).\n",
      "  'frequency).' % (btype, wn))\n"
     ]
    },
    {
     "name": "stdout",
     "output_type": "stream",
     "text": [
      "________________________________________________________________________________\n",
      "[Memory] Calling nilearn.image.image.high_variance_confounds...\n",
      "high_variance_confounds('C:\\\\Users\\\\Imagi\\\\Documents\\\\5850\\\\datasets\\\\cobre\\\\fmri_0040089.nii.gz', n_confounds=10)\n",
      "__________________________________________high_variance_confounds - 0.1s, 0.0min\n"
     ]
    },
    {
     "name": "stderr",
     "output_type": "stream",
     "text": [
      "C:\\ProgramData\\Anaconda3\\lib\\site-packages\\nilearn\\image\\resampling.py:510: UserWarning: Casting data from int16 to float32\n",
      "  warnings.warn(\"Casting data from %s to %s\" % (data.dtype.name, aux))\n",
      "C:\\ProgramData\\Anaconda3\\lib\\site-packages\\nilearn\\signal.py:180: UserWarning: The frequency specified for the low pass filter is too high to be handled by a digital filter (superior to nyquist frequency). It has been lowered to 1.00 (nyquist frequency).\n",
      "  'frequency).' % (btype, wn))\n"
     ]
    },
    {
     "name": "stdout",
     "output_type": "stream",
     "text": [
      "________________________________________________________________________________\n",
      "[Memory] Calling nilearn.image.image.high_variance_confounds...\n",
      "high_variance_confounds('C:\\\\Users\\\\Imagi\\\\Documents\\\\5850\\\\datasets\\\\cobre\\\\fmri_0040090.nii.gz', n_confounds=10)\n",
      "__________________________________________high_variance_confounds - 0.2s, 0.0min\n"
     ]
    },
    {
     "name": "stderr",
     "output_type": "stream",
     "text": [
      "C:\\ProgramData\\Anaconda3\\lib\\site-packages\\nilearn\\image\\resampling.py:510: UserWarning: Casting data from int16 to float32\n",
      "  warnings.warn(\"Casting data from %s to %s\" % (data.dtype.name, aux))\n",
      "C:\\ProgramData\\Anaconda3\\lib\\site-packages\\nilearn\\signal.py:180: UserWarning: The frequency specified for the low pass filter is too high to be handled by a digital filter (superior to nyquist frequency). It has been lowered to 1.00 (nyquist frequency).\n",
      "  'frequency).' % (btype, wn))\n"
     ]
    },
    {
     "name": "stdout",
     "output_type": "stream",
     "text": [
      "________________________________________________________________________________\n",
      "[Memory] Calling nilearn.image.image.high_variance_confounds...\n",
      "high_variance_confounds('C:\\\\Users\\\\Imagi\\\\Documents\\\\5850\\\\datasets\\\\cobre\\\\fmri_0040091.nii.gz', n_confounds=10)\n",
      "__________________________________________high_variance_confounds - 0.2s, 0.0min\n"
     ]
    },
    {
     "name": "stderr",
     "output_type": "stream",
     "text": [
      "C:\\ProgramData\\Anaconda3\\lib\\site-packages\\nilearn\\image\\resampling.py:510: UserWarning: Casting data from int16 to float32\n",
      "  warnings.warn(\"Casting data from %s to %s\" % (data.dtype.name, aux))\n",
      "C:\\ProgramData\\Anaconda3\\lib\\site-packages\\nilearn\\signal.py:180: UserWarning: The frequency specified for the low pass filter is too high to be handled by a digital filter (superior to nyquist frequency). It has been lowered to 1.00 (nyquist frequency).\n",
      "  'frequency).' % (btype, wn))\n"
     ]
    },
    {
     "name": "stdout",
     "output_type": "stream",
     "text": [
      "________________________________________________________________________________\n",
      "[Memory] Calling nilearn.image.image.high_variance_confounds...\n",
      "high_variance_confounds('C:\\\\Users\\\\Imagi\\\\Documents\\\\5850\\\\datasets\\\\cobre\\\\fmri_0040092.nii.gz', n_confounds=10)\n",
      "__________________________________________high_variance_confounds - 0.1s, 0.0min\n"
     ]
    },
    {
     "name": "stderr",
     "output_type": "stream",
     "text": [
      "C:\\ProgramData\\Anaconda3\\lib\\site-packages\\nilearn\\image\\resampling.py:510: UserWarning: Casting data from int16 to float32\n",
      "  warnings.warn(\"Casting data from %s to %s\" % (data.dtype.name, aux))\n",
      "C:\\ProgramData\\Anaconda3\\lib\\site-packages\\nilearn\\signal.py:180: UserWarning: The frequency specified for the low pass filter is too high to be handled by a digital filter (superior to nyquist frequency). It has been lowered to 1.00 (nyquist frequency).\n",
      "  'frequency).' % (btype, wn))\n"
     ]
    },
    {
     "name": "stdout",
     "output_type": "stream",
     "text": [
      "________________________________________________________________________________\n",
      "[Memory] Calling nilearn.image.image.high_variance_confounds...\n",
      "high_variance_confounds('C:\\\\Users\\\\Imagi\\\\Documents\\\\5850\\\\datasets\\\\cobre\\\\fmri_0040093.nii.gz', n_confounds=10)\n",
      "__________________________________________high_variance_confounds - 0.3s, 0.0min\n"
     ]
    },
    {
     "name": "stderr",
     "output_type": "stream",
     "text": [
      "C:\\ProgramData\\Anaconda3\\lib\\site-packages\\nilearn\\image\\resampling.py:510: UserWarning: Casting data from int16 to float32\n",
      "  warnings.warn(\"Casting data from %s to %s\" % (data.dtype.name, aux))\n",
      "C:\\ProgramData\\Anaconda3\\lib\\site-packages\\nilearn\\signal.py:180: UserWarning: The frequency specified for the low pass filter is too high to be handled by a digital filter (superior to nyquist frequency). It has been lowered to 1.00 (nyquist frequency).\n",
      "  'frequency).' % (btype, wn))\n"
     ]
    },
    {
     "name": "stdout",
     "output_type": "stream",
     "text": [
      "________________________________________________________________________________\n",
      "[Memory] Calling nilearn.image.image.high_variance_confounds...\n",
      "high_variance_confounds('C:\\\\Users\\\\Imagi\\\\Documents\\\\5850\\\\datasets\\\\cobre\\\\fmri_0040094.nii.gz', n_confounds=10)\n",
      "__________________________________________high_variance_confounds - 0.4s, 0.0min\n"
     ]
    },
    {
     "name": "stderr",
     "output_type": "stream",
     "text": [
      "C:\\ProgramData\\Anaconda3\\lib\\site-packages\\nilearn\\image\\resampling.py:510: UserWarning: Casting data from int16 to float32\n",
      "  warnings.warn(\"Casting data from %s to %s\" % (data.dtype.name, aux))\n",
      "C:\\ProgramData\\Anaconda3\\lib\\site-packages\\nilearn\\signal.py:180: UserWarning: The frequency specified for the low pass filter is too high to be handled by a digital filter (superior to nyquist frequency). It has been lowered to 1.00 (nyquist frequency).\n",
      "  'frequency).' % (btype, wn))\n"
     ]
    },
    {
     "name": "stdout",
     "output_type": "stream",
     "text": [
      "________________________________________________________________________________\n",
      "[Memory] Calling nilearn.image.image.high_variance_confounds...\n",
      "high_variance_confounds('C:\\\\Users\\\\Imagi\\\\Documents\\\\5850\\\\datasets\\\\cobre\\\\fmri_0040095.nii.gz', n_confounds=10)\n",
      "__________________________________________high_variance_confounds - 0.1s, 0.0min\n"
     ]
    },
    {
     "name": "stderr",
     "output_type": "stream",
     "text": [
      "C:\\ProgramData\\Anaconda3\\lib\\site-packages\\nilearn\\image\\resampling.py:510: UserWarning: Casting data from int16 to float32\n",
      "  warnings.warn(\"Casting data from %s to %s\" % (data.dtype.name, aux))\n",
      "C:\\ProgramData\\Anaconda3\\lib\\site-packages\\nilearn\\signal.py:180: UserWarning: The frequency specified for the low pass filter is too high to be handled by a digital filter (superior to nyquist frequency). It has been lowered to 1.00 (nyquist frequency).\n",
      "  'frequency).' % (btype, wn))\n"
     ]
    },
    {
     "name": "stdout",
     "output_type": "stream",
     "text": [
      "________________________________________________________________________________\n",
      "[Memory] Calling nilearn.image.image.high_variance_confounds...\n",
      "high_variance_confounds('C:\\\\Users\\\\Imagi\\\\Documents\\\\5850\\\\datasets\\\\cobre\\\\fmri_0040096.nii.gz', n_confounds=10)\n",
      "__________________________________________high_variance_confounds - 0.1s, 0.0min\n"
     ]
    },
    {
     "name": "stderr",
     "output_type": "stream",
     "text": [
      "C:\\ProgramData\\Anaconda3\\lib\\site-packages\\nilearn\\image\\resampling.py:510: UserWarning: Casting data from int16 to float32\n",
      "  warnings.warn(\"Casting data from %s to %s\" % (data.dtype.name, aux))\n",
      "C:\\ProgramData\\Anaconda3\\lib\\site-packages\\nilearn\\signal.py:180: UserWarning: The frequency specified for the low pass filter is too high to be handled by a digital filter (superior to nyquist frequency). It has been lowered to 1.00 (nyquist frequency).\n",
      "  'frequency).' % (btype, wn))\n"
     ]
    },
    {
     "name": "stdout",
     "output_type": "stream",
     "text": [
      "________________________________________________________________________________\n",
      "[Memory] Calling nilearn.image.image.high_variance_confounds...\n",
      "high_variance_confounds('C:\\\\Users\\\\Imagi\\\\Documents\\\\5850\\\\datasets\\\\cobre\\\\fmri_0040097.nii.gz', n_confounds=10)\n",
      "__________________________________________high_variance_confounds - 0.4s, 0.0min\n"
     ]
    },
    {
     "name": "stderr",
     "output_type": "stream",
     "text": [
      "C:\\ProgramData\\Anaconda3\\lib\\site-packages\\nilearn\\image\\resampling.py:510: UserWarning: Casting data from int16 to float32\n",
      "  warnings.warn(\"Casting data from %s to %s\" % (data.dtype.name, aux))\n",
      "C:\\ProgramData\\Anaconda3\\lib\\site-packages\\nilearn\\signal.py:180: UserWarning: The frequency specified for the low pass filter is too high to be handled by a digital filter (superior to nyquist frequency). It has been lowered to 1.00 (nyquist frequency).\n",
      "  'frequency).' % (btype, wn))\n"
     ]
    },
    {
     "name": "stdout",
     "output_type": "stream",
     "text": [
      "________________________________________________________________________________\n",
      "[Memory] Calling nilearn.image.image.high_variance_confounds...\n",
      "high_variance_confounds('C:\\\\Users\\\\Imagi\\\\Documents\\\\5850\\\\datasets\\\\cobre\\\\fmri_0040098.nii.gz', n_confounds=10)\n",
      "__________________________________________high_variance_confounds - 0.1s, 0.0min\n"
     ]
    },
    {
     "name": "stderr",
     "output_type": "stream",
     "text": [
      "C:\\ProgramData\\Anaconda3\\lib\\site-packages\\nilearn\\image\\resampling.py:510: UserWarning: Casting data from int16 to float32\n",
      "  warnings.warn(\"Casting data from %s to %s\" % (data.dtype.name, aux))\n",
      "C:\\ProgramData\\Anaconda3\\lib\\site-packages\\nilearn\\signal.py:180: UserWarning: The frequency specified for the low pass filter is too high to be handled by a digital filter (superior to nyquist frequency). It has been lowered to 1.00 (nyquist frequency).\n",
      "  'frequency).' % (btype, wn))\n"
     ]
    },
    {
     "name": "stdout",
     "output_type": "stream",
     "text": [
      "________________________________________________________________________________\n",
      "[Memory] Calling nilearn.image.image.high_variance_confounds...\n",
      "high_variance_confounds('C:\\\\Users\\\\Imagi\\\\Documents\\\\5850\\\\datasets\\\\cobre\\\\fmri_0040099.nii.gz', n_confounds=10)\n",
      "__________________________________________high_variance_confounds - 0.2s, 0.0min\n"
     ]
    },
    {
     "name": "stderr",
     "output_type": "stream",
     "text": [
      "C:\\ProgramData\\Anaconda3\\lib\\site-packages\\nilearn\\image\\resampling.py:510: UserWarning: Casting data from int16 to float32\n",
      "  warnings.warn(\"Casting data from %s to %s\" % (data.dtype.name, aux))\n",
      "C:\\ProgramData\\Anaconda3\\lib\\site-packages\\nilearn\\signal.py:180: UserWarning: The frequency specified for the low pass filter is too high to be handled by a digital filter (superior to nyquist frequency). It has been lowered to 1.00 (nyquist frequency).\n",
      "  'frequency).' % (btype, wn))\n"
     ]
    },
    {
     "name": "stdout",
     "output_type": "stream",
     "text": [
      "________________________________________________________________________________\n",
      "[Memory] Calling nilearn.image.image.high_variance_confounds...\n",
      "high_variance_confounds('C:\\\\Users\\\\Imagi\\\\Documents\\\\5850\\\\datasets\\\\cobre\\\\fmri_0040100.nii.gz', n_confounds=10)\n",
      "__________________________________________high_variance_confounds - 0.1s, 0.0min\n"
     ]
    },
    {
     "name": "stderr",
     "output_type": "stream",
     "text": [
      "C:\\ProgramData\\Anaconda3\\lib\\site-packages\\nilearn\\image\\resampling.py:510: UserWarning: Casting data from int16 to float32\n",
      "  warnings.warn(\"Casting data from %s to %s\" % (data.dtype.name, aux))\n",
      "C:\\ProgramData\\Anaconda3\\lib\\site-packages\\nilearn\\signal.py:180: UserWarning: The frequency specified for the low pass filter is too high to be handled by a digital filter (superior to nyquist frequency). It has been lowered to 1.00 (nyquist frequency).\n",
      "  'frequency).' % (btype, wn))\n"
     ]
    },
    {
     "name": "stdout",
     "output_type": "stream",
     "text": [
      "________________________________________________________________________________\n",
      "[Memory] Calling nilearn.image.image.high_variance_confounds...\n",
      "high_variance_confounds('C:\\\\Users\\\\Imagi\\\\Documents\\\\5850\\\\datasets\\\\cobre\\\\fmri_0040101.nii.gz', n_confounds=10)\n",
      "__________________________________________high_variance_confounds - 0.1s, 0.0min\n"
     ]
    },
    {
     "name": "stderr",
     "output_type": "stream",
     "text": [
      "C:\\ProgramData\\Anaconda3\\lib\\site-packages\\nilearn\\image\\resampling.py:510: UserWarning: Casting data from int16 to float32\n",
      "  warnings.warn(\"Casting data from %s to %s\" % (data.dtype.name, aux))\n",
      "C:\\ProgramData\\Anaconda3\\lib\\site-packages\\nilearn\\signal.py:180: UserWarning: The frequency specified for the low pass filter is too high to be handled by a digital filter (superior to nyquist frequency). It has been lowered to 1.00 (nyquist frequency).\n",
      "  'frequency).' % (btype, wn))\n"
     ]
    },
    {
     "name": "stdout",
     "output_type": "stream",
     "text": [
      "________________________________________________________________________________\n",
      "[Memory] Calling nilearn.image.image.high_variance_confounds...\n",
      "high_variance_confounds('C:\\\\Users\\\\Imagi\\\\Documents\\\\5850\\\\datasets\\\\cobre\\\\fmri_0040102.nii.gz', n_confounds=10)\n",
      "__________________________________________high_variance_confounds - 0.3s, 0.0min\n"
     ]
    },
    {
     "name": "stderr",
     "output_type": "stream",
     "text": [
      "C:\\ProgramData\\Anaconda3\\lib\\site-packages\\nilearn\\image\\resampling.py:510: UserWarning: Casting data from int16 to float32\n",
      "  warnings.warn(\"Casting data from %s to %s\" % (data.dtype.name, aux))\n",
      "C:\\ProgramData\\Anaconda3\\lib\\site-packages\\nilearn\\signal.py:180: UserWarning: The frequency specified for the low pass filter is too high to be handled by a digital filter (superior to nyquist frequency). It has been lowered to 1.00 (nyquist frequency).\n",
      "  'frequency).' % (btype, wn))\n"
     ]
    },
    {
     "name": "stdout",
     "output_type": "stream",
     "text": [
      "________________________________________________________________________________\n",
      "[Memory] Calling nilearn.image.image.high_variance_confounds...\n",
      "high_variance_confounds('C:\\\\Users\\\\Imagi\\\\Documents\\\\5850\\\\datasets\\\\cobre\\\\fmri_0040103.nii.gz', n_confounds=10)\n",
      "__________________________________________high_variance_confounds - 0.2s, 0.0min\n"
     ]
    },
    {
     "name": "stderr",
     "output_type": "stream",
     "text": [
      "C:\\ProgramData\\Anaconda3\\lib\\site-packages\\nilearn\\image\\resampling.py:510: UserWarning: Casting data from int16 to float32\n",
      "  warnings.warn(\"Casting data from %s to %s\" % (data.dtype.name, aux))\n",
      "C:\\ProgramData\\Anaconda3\\lib\\site-packages\\nilearn\\signal.py:180: UserWarning: The frequency specified for the low pass filter is too high to be handled by a digital filter (superior to nyquist frequency). It has been lowered to 1.00 (nyquist frequency).\n",
      "  'frequency).' % (btype, wn))\n"
     ]
    },
    {
     "name": "stdout",
     "output_type": "stream",
     "text": [
      "________________________________________________________________________________\n",
      "[Memory] Calling nilearn.image.image.high_variance_confounds...\n",
      "high_variance_confounds('C:\\\\Users\\\\Imagi\\\\Documents\\\\5850\\\\datasets\\\\cobre\\\\fmri_0040104.nii.gz', n_confounds=10)\n",
      "__________________________________________high_variance_confounds - 0.1s, 0.0min\n"
     ]
    },
    {
     "name": "stderr",
     "output_type": "stream",
     "text": [
      "C:\\ProgramData\\Anaconda3\\lib\\site-packages\\nilearn\\image\\resampling.py:510: UserWarning: Casting data from int16 to float32\n",
      "  warnings.warn(\"Casting data from %s to %s\" % (data.dtype.name, aux))\n",
      "C:\\ProgramData\\Anaconda3\\lib\\site-packages\\nilearn\\signal.py:180: UserWarning: The frequency specified for the low pass filter is too high to be handled by a digital filter (superior to nyquist frequency). It has been lowered to 1.00 (nyquist frequency).\n",
      "  'frequency).' % (btype, wn))\n"
     ]
    },
    {
     "name": "stdout",
     "output_type": "stream",
     "text": [
      "________________________________________________________________________________\n",
      "[Memory] Calling nilearn.image.image.high_variance_confounds...\n",
      "high_variance_confounds('C:\\\\Users\\\\Imagi\\\\Documents\\\\5850\\\\datasets\\\\cobre\\\\fmri_0040105.nii.gz', n_confounds=10)\n",
      "__________________________________________high_variance_confounds - 0.1s, 0.0min\n"
     ]
    },
    {
     "name": "stderr",
     "output_type": "stream",
     "text": [
      "C:\\ProgramData\\Anaconda3\\lib\\site-packages\\nilearn\\image\\resampling.py:510: UserWarning: Casting data from int16 to float32\n",
      "  warnings.warn(\"Casting data from %s to %s\" % (data.dtype.name, aux))\n",
      "C:\\ProgramData\\Anaconda3\\lib\\site-packages\\nilearn\\signal.py:180: UserWarning: The frequency specified for the low pass filter is too high to be handled by a digital filter (superior to nyquist frequency). It has been lowered to 1.00 (nyquist frequency).\n",
      "  'frequency).' % (btype, wn))\n"
     ]
    },
    {
     "name": "stdout",
     "output_type": "stream",
     "text": [
      "________________________________________________________________________________\n",
      "[Memory] Calling nilearn.image.image.high_variance_confounds...\n",
      "high_variance_confounds('C:\\\\Users\\\\Imagi\\\\Documents\\\\5850\\\\datasets\\\\cobre\\\\fmri_0040106.nii.gz', n_confounds=10)\n",
      "__________________________________________high_variance_confounds - 0.1s, 0.0min\n"
     ]
    },
    {
     "name": "stderr",
     "output_type": "stream",
     "text": [
      "C:\\ProgramData\\Anaconda3\\lib\\site-packages\\nilearn\\image\\resampling.py:510: UserWarning: Casting data from int16 to float32\n",
      "  warnings.warn(\"Casting data from %s to %s\" % (data.dtype.name, aux))\n",
      "C:\\ProgramData\\Anaconda3\\lib\\site-packages\\nilearn\\signal.py:180: UserWarning: The frequency specified for the low pass filter is too high to be handled by a digital filter (superior to nyquist frequency). It has been lowered to 1.00 (nyquist frequency).\n",
      "  'frequency).' % (btype, wn))\n"
     ]
    },
    {
     "name": "stdout",
     "output_type": "stream",
     "text": [
      "________________________________________________________________________________\n",
      "[Memory] Calling nilearn.image.image.high_variance_confounds...\n",
      "high_variance_confounds('C:\\\\Users\\\\Imagi\\\\Documents\\\\5850\\\\datasets\\\\cobre\\\\fmri_0040107.nii.gz', n_confounds=10)\n",
      "__________________________________________high_variance_confounds - 0.1s, 0.0min\n"
     ]
    },
    {
     "name": "stderr",
     "output_type": "stream",
     "text": [
      "C:\\ProgramData\\Anaconda3\\lib\\site-packages\\nilearn\\image\\resampling.py:510: UserWarning: Casting data from int16 to float32\n",
      "  warnings.warn(\"Casting data from %s to %s\" % (data.dtype.name, aux))\n",
      "C:\\ProgramData\\Anaconda3\\lib\\site-packages\\nilearn\\signal.py:180: UserWarning: The frequency specified for the low pass filter is too high to be handled by a digital filter (superior to nyquist frequency). It has been lowered to 1.00 (nyquist frequency).\n",
      "  'frequency).' % (btype, wn))\n"
     ]
    },
    {
     "name": "stdout",
     "output_type": "stream",
     "text": [
      "________________________________________________________________________________\n",
      "[Memory] Calling nilearn.image.image.high_variance_confounds...\n",
      "high_variance_confounds('C:\\\\Users\\\\Imagi\\\\Documents\\\\5850\\\\datasets\\\\cobre\\\\fmri_0040108.nii.gz', n_confounds=10)\n",
      "__________________________________________high_variance_confounds - 0.2s, 0.0min\n"
     ]
    },
    {
     "name": "stderr",
     "output_type": "stream",
     "text": [
      "C:\\ProgramData\\Anaconda3\\lib\\site-packages\\nilearn\\image\\resampling.py:510: UserWarning: Casting data from int16 to float32\n",
      "  warnings.warn(\"Casting data from %s to %s\" % (data.dtype.name, aux))\n",
      "C:\\ProgramData\\Anaconda3\\lib\\site-packages\\nilearn\\signal.py:180: UserWarning: The frequency specified for the low pass filter is too high to be handled by a digital filter (superior to nyquist frequency). It has been lowered to 1.00 (nyquist frequency).\n",
      "  'frequency).' % (btype, wn))\n"
     ]
    },
    {
     "name": "stdout",
     "output_type": "stream",
     "text": [
      "________________________________________________________________________________\n",
      "[Memory] Calling nilearn.image.image.high_variance_confounds...\n",
      "high_variance_confounds('C:\\\\Users\\\\Imagi\\\\Documents\\\\5850\\\\datasets\\\\cobre\\\\fmri_0040109.nii.gz', n_confounds=10)\n",
      "__________________________________________high_variance_confounds - 0.1s, 0.0min\n"
     ]
    },
    {
     "name": "stderr",
     "output_type": "stream",
     "text": [
      "C:\\ProgramData\\Anaconda3\\lib\\site-packages\\nilearn\\image\\resampling.py:510: UserWarning: Casting data from int16 to float32\n",
      "  warnings.warn(\"Casting data from %s to %s\" % (data.dtype.name, aux))\n",
      "C:\\ProgramData\\Anaconda3\\lib\\site-packages\\nilearn\\signal.py:180: UserWarning: The frequency specified for the low pass filter is too high to be handled by a digital filter (superior to nyquist frequency). It has been lowered to 1.00 (nyquist frequency).\n",
      "  'frequency).' % (btype, wn))\n"
     ]
    },
    {
     "name": "stdout",
     "output_type": "stream",
     "text": [
      "________________________________________________________________________________\n",
      "[Memory] Calling nilearn.image.image.high_variance_confounds...\n",
      "high_variance_confounds('C:\\\\Users\\\\Imagi\\\\Documents\\\\5850\\\\datasets\\\\cobre\\\\fmri_0040110.nii.gz', n_confounds=10)\n",
      "__________________________________________high_variance_confounds - 0.1s, 0.0min\n"
     ]
    },
    {
     "name": "stderr",
     "output_type": "stream",
     "text": [
      "C:\\ProgramData\\Anaconda3\\lib\\site-packages\\nilearn\\image\\resampling.py:510: UserWarning: Casting data from int16 to float32\n",
      "  warnings.warn(\"Casting data from %s to %s\" % (data.dtype.name, aux))\n",
      "C:\\ProgramData\\Anaconda3\\lib\\site-packages\\nilearn\\signal.py:180: UserWarning: The frequency specified for the low pass filter is too high to be handled by a digital filter (superior to nyquist frequency). It has been lowered to 1.00 (nyquist frequency).\n",
      "  'frequency).' % (btype, wn))\n"
     ]
    },
    {
     "name": "stdout",
     "output_type": "stream",
     "text": [
      "________________________________________________________________________________\n",
      "[Memory] Calling nilearn.image.image.high_variance_confounds...\n",
      "high_variance_confounds('C:\\\\Users\\\\Imagi\\\\Documents\\\\5850\\\\datasets\\\\cobre\\\\fmri_0040111.nii.gz', n_confounds=10)\n",
      "__________________________________________high_variance_confounds - 0.2s, 0.0min\n"
     ]
    },
    {
     "name": "stderr",
     "output_type": "stream",
     "text": [
      "C:\\ProgramData\\Anaconda3\\lib\\site-packages\\nilearn\\image\\resampling.py:510: UserWarning: Casting data from int16 to float32\n",
      "  warnings.warn(\"Casting data from %s to %s\" % (data.dtype.name, aux))\n",
      "C:\\ProgramData\\Anaconda3\\lib\\site-packages\\nilearn\\signal.py:180: UserWarning: The frequency specified for the low pass filter is too high to be handled by a digital filter (superior to nyquist frequency). It has been lowered to 1.00 (nyquist frequency).\n",
      "  'frequency).' % (btype, wn))\n"
     ]
    },
    {
     "name": "stdout",
     "output_type": "stream",
     "text": [
      "________________________________________________________________________________\n",
      "[Memory] Calling nilearn.image.image.high_variance_confounds...\n",
      "high_variance_confounds('C:\\\\Users\\\\Imagi\\\\Documents\\\\5850\\\\datasets\\\\cobre\\\\fmri_0040112.nii.gz', n_confounds=10)\n",
      "__________________________________________high_variance_confounds - 0.2s, 0.0min\n"
     ]
    },
    {
     "name": "stderr",
     "output_type": "stream",
     "text": [
      "C:\\ProgramData\\Anaconda3\\lib\\site-packages\\nilearn\\image\\resampling.py:510: UserWarning: Casting data from int16 to float32\n",
      "  warnings.warn(\"Casting data from %s to %s\" % (data.dtype.name, aux))\n",
      "C:\\ProgramData\\Anaconda3\\lib\\site-packages\\nilearn\\signal.py:180: UserWarning: The frequency specified for the low pass filter is too high to be handled by a digital filter (superior to nyquist frequency). It has been lowered to 1.00 (nyquist frequency).\n",
      "  'frequency).' % (btype, wn))\n"
     ]
    },
    {
     "name": "stdout",
     "output_type": "stream",
     "text": [
      "________________________________________________________________________________\n",
      "[Memory] Calling nilearn.image.image.high_variance_confounds...\n",
      "high_variance_confounds('C:\\\\Users\\\\Imagi\\\\Documents\\\\5850\\\\datasets\\\\cobre\\\\fmri_0040113.nii.gz', n_confounds=10)\n",
      "__________________________________________high_variance_confounds - 0.1s, 0.0min\n"
     ]
    },
    {
     "name": "stderr",
     "output_type": "stream",
     "text": [
      "C:\\ProgramData\\Anaconda3\\lib\\site-packages\\nilearn\\image\\resampling.py:510: UserWarning: Casting data from int16 to float32\n",
      "  warnings.warn(\"Casting data from %s to %s\" % (data.dtype.name, aux))\n",
      "C:\\ProgramData\\Anaconda3\\lib\\site-packages\\nilearn\\signal.py:180: UserWarning: The frequency specified for the low pass filter is too high to be handled by a digital filter (superior to nyquist frequency). It has been lowered to 1.00 (nyquist frequency).\n",
      "  'frequency).' % (btype, wn))\n"
     ]
    },
    {
     "name": "stdout",
     "output_type": "stream",
     "text": [
      "________________________________________________________________________________\n",
      "[Memory] Calling nilearn.image.image.high_variance_confounds...\n",
      "high_variance_confounds('C:\\\\Users\\\\Imagi\\\\Documents\\\\5850\\\\datasets\\\\cobre\\\\fmri_0040114.nii.gz', n_confounds=10)\n",
      "__________________________________________high_variance_confounds - 0.1s, 0.0min\n"
     ]
    },
    {
     "name": "stderr",
     "output_type": "stream",
     "text": [
      "C:\\ProgramData\\Anaconda3\\lib\\site-packages\\nilearn\\image\\resampling.py:510: UserWarning: Casting data from int16 to float32\n",
      "  warnings.warn(\"Casting data from %s to %s\" % (data.dtype.name, aux))\n",
      "C:\\ProgramData\\Anaconda3\\lib\\site-packages\\nilearn\\signal.py:180: UserWarning: The frequency specified for the low pass filter is too high to be handled by a digital filter (superior to nyquist frequency). It has been lowered to 1.00 (nyquist frequency).\n",
      "  'frequency).' % (btype, wn))\n"
     ]
    },
    {
     "name": "stdout",
     "output_type": "stream",
     "text": [
      "________________________________________________________________________________\n",
      "[Memory] Calling nilearn.image.image.high_variance_confounds...\n",
      "high_variance_confounds('C:\\\\Users\\\\Imagi\\\\Documents\\\\5850\\\\datasets\\\\cobre\\\\fmri_0040115.nii.gz', n_confounds=10)\n",
      "__________________________________________high_variance_confounds - 0.2s, 0.0min\n"
     ]
    },
    {
     "name": "stderr",
     "output_type": "stream",
     "text": [
      "C:\\ProgramData\\Anaconda3\\lib\\site-packages\\nilearn\\image\\resampling.py:510: UserWarning: Casting data from int16 to float32\n",
      "  warnings.warn(\"Casting data from %s to %s\" % (data.dtype.name, aux))\n",
      "C:\\ProgramData\\Anaconda3\\lib\\site-packages\\nilearn\\signal.py:180: UserWarning: The frequency specified for the low pass filter is too high to be handled by a digital filter (superior to nyquist frequency). It has been lowered to 1.00 (nyquist frequency).\n",
      "  'frequency).' % (btype, wn))\n"
     ]
    },
    {
     "name": "stdout",
     "output_type": "stream",
     "text": [
      "________________________________________________________________________________\n",
      "[Memory] Calling nilearn.image.image.high_variance_confounds...\n",
      "high_variance_confounds('C:\\\\Users\\\\Imagi\\\\Documents\\\\5850\\\\datasets\\\\cobre\\\\fmri_0040116.nii.gz', n_confounds=10)\n",
      "__________________________________________high_variance_confounds - 0.2s, 0.0min\n"
     ]
    },
    {
     "name": "stderr",
     "output_type": "stream",
     "text": [
      "C:\\ProgramData\\Anaconda3\\lib\\site-packages\\nilearn\\image\\resampling.py:510: UserWarning: Casting data from int16 to float32\n",
      "  warnings.warn(\"Casting data from %s to %s\" % (data.dtype.name, aux))\n",
      "C:\\ProgramData\\Anaconda3\\lib\\site-packages\\nilearn\\signal.py:180: UserWarning: The frequency specified for the low pass filter is too high to be handled by a digital filter (superior to nyquist frequency). It has been lowered to 1.00 (nyquist frequency).\n",
      "  'frequency).' % (btype, wn))\n"
     ]
    },
    {
     "name": "stdout",
     "output_type": "stream",
     "text": [
      "________________________________________________________________________________\n",
      "[Memory] Calling nilearn.image.image.high_variance_confounds...\n",
      "high_variance_confounds('C:\\\\Users\\\\Imagi\\\\Documents\\\\5850\\\\datasets\\\\cobre\\\\fmri_0040117.nii.gz', n_confounds=10)\n",
      "__________________________________________high_variance_confounds - 0.2s, 0.0min\n"
     ]
    },
    {
     "name": "stderr",
     "output_type": "stream",
     "text": [
      "C:\\ProgramData\\Anaconda3\\lib\\site-packages\\nilearn\\image\\resampling.py:510: UserWarning: Casting data from int16 to float32\n",
      "  warnings.warn(\"Casting data from %s to %s\" % (data.dtype.name, aux))\n",
      "C:\\ProgramData\\Anaconda3\\lib\\site-packages\\nilearn\\signal.py:180: UserWarning: The frequency specified for the low pass filter is too high to be handled by a digital filter (superior to nyquist frequency). It has been lowered to 1.00 (nyquist frequency).\n",
      "  'frequency).' % (btype, wn))\n"
     ]
    },
    {
     "name": "stdout",
     "output_type": "stream",
     "text": [
      "________________________________________________________________________________\n",
      "[Memory] Calling nilearn.image.image.high_variance_confounds...\n",
      "high_variance_confounds('C:\\\\Users\\\\Imagi\\\\Documents\\\\5850\\\\datasets\\\\cobre\\\\fmri_0040118.nii.gz', n_confounds=10)\n",
      "__________________________________________high_variance_confounds - 0.1s, 0.0min\n"
     ]
    },
    {
     "name": "stderr",
     "output_type": "stream",
     "text": [
      "C:\\ProgramData\\Anaconda3\\lib\\site-packages\\nilearn\\image\\resampling.py:510: UserWarning: Casting data from int16 to float32\n",
      "  warnings.warn(\"Casting data from %s to %s\" % (data.dtype.name, aux))\n",
      "C:\\ProgramData\\Anaconda3\\lib\\site-packages\\nilearn\\signal.py:180: UserWarning: The frequency specified for the low pass filter is too high to be handled by a digital filter (superior to nyquist frequency). It has been lowered to 1.00 (nyquist frequency).\n",
      "  'frequency).' % (btype, wn))\n"
     ]
    },
    {
     "name": "stdout",
     "output_type": "stream",
     "text": [
      "________________________________________________________________________________\n",
      "[Memory] Calling nilearn.image.image.high_variance_confounds...\n",
      "high_variance_confounds('C:\\\\Users\\\\Imagi\\\\Documents\\\\5850\\\\datasets\\\\cobre\\\\fmri_0040119.nii.gz', n_confounds=10)\n",
      "__________________________________________high_variance_confounds - 0.1s, 0.0min\n"
     ]
    },
    {
     "name": "stderr",
     "output_type": "stream",
     "text": [
      "C:\\ProgramData\\Anaconda3\\lib\\site-packages\\nilearn\\image\\resampling.py:510: UserWarning: Casting data from int16 to float32\n",
      "  warnings.warn(\"Casting data from %s to %s\" % (data.dtype.name, aux))\n",
      "C:\\ProgramData\\Anaconda3\\lib\\site-packages\\nilearn\\signal.py:180: UserWarning: The frequency specified for the low pass filter is too high to be handled by a digital filter (superior to nyquist frequency). It has been lowered to 1.00 (nyquist frequency).\n",
      "  'frequency).' % (btype, wn))\n"
     ]
    },
    {
     "name": "stdout",
     "output_type": "stream",
     "text": [
      "________________________________________________________________________________\n",
      "[Memory] Calling nilearn.image.image.high_variance_confounds...\n",
      "high_variance_confounds('C:\\\\Users\\\\Imagi\\\\Documents\\\\5850\\\\datasets\\\\cobre\\\\fmri_0040120.nii.gz', n_confounds=10)\n",
      "__________________________________________high_variance_confounds - 0.2s, 0.0min\n"
     ]
    },
    {
     "name": "stderr",
     "output_type": "stream",
     "text": [
      "C:\\ProgramData\\Anaconda3\\lib\\site-packages\\nilearn\\image\\resampling.py:510: UserWarning: Casting data from int16 to float32\n",
      "  warnings.warn(\"Casting data from %s to %s\" % (data.dtype.name, aux))\n",
      "C:\\ProgramData\\Anaconda3\\lib\\site-packages\\nilearn\\signal.py:180: UserWarning: The frequency specified for the low pass filter is too high to be handled by a digital filter (superior to nyquist frequency). It has been lowered to 1.00 (nyquist frequency).\n",
      "  'frequency).' % (btype, wn))\n"
     ]
    },
    {
     "name": "stdout",
     "output_type": "stream",
     "text": [
      "________________________________________________________________________________\n",
      "[Memory] Calling nilearn.image.image.high_variance_confounds...\n",
      "high_variance_confounds('C:\\\\Users\\\\Imagi\\\\Documents\\\\5850\\\\datasets\\\\cobre\\\\fmri_0040121.nii.gz', n_confounds=10)\n",
      "__________________________________________high_variance_confounds - 0.2s, 0.0min\n"
     ]
    },
    {
     "name": "stderr",
     "output_type": "stream",
     "text": [
      "C:\\ProgramData\\Anaconda3\\lib\\site-packages\\nilearn\\image\\resampling.py:510: UserWarning: Casting data from int16 to float32\n",
      "  warnings.warn(\"Casting data from %s to %s\" % (data.dtype.name, aux))\n",
      "C:\\ProgramData\\Anaconda3\\lib\\site-packages\\nilearn\\signal.py:180: UserWarning: The frequency specified for the low pass filter is too high to be handled by a digital filter (superior to nyquist frequency). It has been lowered to 1.00 (nyquist frequency).\n",
      "  'frequency).' % (btype, wn))\n"
     ]
    },
    {
     "name": "stdout",
     "output_type": "stream",
     "text": [
      "________________________________________________________________________________\n",
      "[Memory] Calling nilearn.image.image.high_variance_confounds...\n",
      "high_variance_confounds('C:\\\\Users\\\\Imagi\\\\Documents\\\\5850\\\\datasets\\\\cobre\\\\fmri_0040122.nii.gz', n_confounds=10)\n",
      "__________________________________________high_variance_confounds - 0.1s, 0.0min\n"
     ]
    },
    {
     "name": "stderr",
     "output_type": "stream",
     "text": [
      "C:\\ProgramData\\Anaconda3\\lib\\site-packages\\nilearn\\image\\resampling.py:510: UserWarning: Casting data from int16 to float32\n",
      "  warnings.warn(\"Casting data from %s to %s\" % (data.dtype.name, aux))\n",
      "C:\\ProgramData\\Anaconda3\\lib\\site-packages\\nilearn\\signal.py:180: UserWarning: The frequency specified for the low pass filter is too high to be handled by a digital filter (superior to nyquist frequency). It has been lowered to 1.00 (nyquist frequency).\n",
      "  'frequency).' % (btype, wn))\n"
     ]
    },
    {
     "name": "stdout",
     "output_type": "stream",
     "text": [
      "________________________________________________________________________________\n",
      "[Memory] Calling nilearn.image.image.high_variance_confounds...\n",
      "high_variance_confounds('C:\\\\Users\\\\Imagi\\\\Documents\\\\5850\\\\datasets\\\\cobre\\\\fmri_0040123.nii.gz', n_confounds=10)\n",
      "__________________________________________high_variance_confounds - 0.2s, 0.0min\n"
     ]
    },
    {
     "name": "stderr",
     "output_type": "stream",
     "text": [
      "C:\\ProgramData\\Anaconda3\\lib\\site-packages\\nilearn\\image\\resampling.py:510: UserWarning: Casting data from int16 to float32\n",
      "  warnings.warn(\"Casting data from %s to %s\" % (data.dtype.name, aux))\n",
      "C:\\ProgramData\\Anaconda3\\lib\\site-packages\\nilearn\\signal.py:180: UserWarning: The frequency specified for the low pass filter is too high to be handled by a digital filter (superior to nyquist frequency). It has been lowered to 1.00 (nyquist frequency).\n",
      "  'frequency).' % (btype, wn))\n"
     ]
    },
    {
     "name": "stdout",
     "output_type": "stream",
     "text": [
      "________________________________________________________________________________\n",
      "[Memory] Calling nilearn.image.image.high_variance_confounds...\n",
      "high_variance_confounds('C:\\\\Users\\\\Imagi\\\\Documents\\\\5850\\\\datasets\\\\cobre\\\\fmri_0040124.nii.gz', n_confounds=10)\n",
      "__________________________________________high_variance_confounds - 0.1s, 0.0min\n"
     ]
    },
    {
     "name": "stderr",
     "output_type": "stream",
     "text": [
      "C:\\ProgramData\\Anaconda3\\lib\\site-packages\\nilearn\\image\\resampling.py:510: UserWarning: Casting data from int16 to float32\n",
      "  warnings.warn(\"Casting data from %s to %s\" % (data.dtype.name, aux))\n",
      "C:\\ProgramData\\Anaconda3\\lib\\site-packages\\nilearn\\signal.py:180: UserWarning: The frequency specified for the low pass filter is too high to be handled by a digital filter (superior to nyquist frequency). It has been lowered to 1.00 (nyquist frequency).\n",
      "  'frequency).' % (btype, wn))\n"
     ]
    },
    {
     "name": "stdout",
     "output_type": "stream",
     "text": [
      "________________________________________________________________________________\n",
      "[Memory] Calling nilearn.image.image.high_variance_confounds...\n",
      "high_variance_confounds('C:\\\\Users\\\\Imagi\\\\Documents\\\\5850\\\\datasets\\\\cobre\\\\fmri_0040125.nii.gz', n_confounds=10)\n",
      "__________________________________________high_variance_confounds - 0.1s, 0.0min\n"
     ]
    },
    {
     "name": "stderr",
     "output_type": "stream",
     "text": [
      "C:\\ProgramData\\Anaconda3\\lib\\site-packages\\nilearn\\image\\resampling.py:510: UserWarning: Casting data from int16 to float32\n",
      "  warnings.warn(\"Casting data from %s to %s\" % (data.dtype.name, aux))\n",
      "C:\\ProgramData\\Anaconda3\\lib\\site-packages\\nilearn\\signal.py:180: UserWarning: The frequency specified for the low pass filter is too high to be handled by a digital filter (superior to nyquist frequency). It has been lowered to 1.00 (nyquist frequency).\n",
      "  'frequency).' % (btype, wn))\n"
     ]
    },
    {
     "name": "stdout",
     "output_type": "stream",
     "text": [
      "________________________________________________________________________________\n",
      "[Memory] Calling nilearn.image.image.high_variance_confounds...\n",
      "high_variance_confounds('C:\\\\Users\\\\Imagi\\\\Documents\\\\5850\\\\datasets\\\\cobre\\\\fmri_0040126.nii.gz', n_confounds=10)\n",
      "__________________________________________high_variance_confounds - 0.1s, 0.0min\n"
     ]
    },
    {
     "name": "stderr",
     "output_type": "stream",
     "text": [
      "C:\\ProgramData\\Anaconda3\\lib\\site-packages\\nilearn\\image\\resampling.py:510: UserWarning: Casting data from int16 to float32\n",
      "  warnings.warn(\"Casting data from %s to %s\" % (data.dtype.name, aux))\n",
      "C:\\ProgramData\\Anaconda3\\lib\\site-packages\\nilearn\\signal.py:180: UserWarning: The frequency specified for the low pass filter is too high to be handled by a digital filter (superior to nyquist frequency). It has been lowered to 1.00 (nyquist frequency).\n",
      "  'frequency).' % (btype, wn))\n"
     ]
    },
    {
     "name": "stdout",
     "output_type": "stream",
     "text": [
      "________________________________________________________________________________\n",
      "[Memory] Calling nilearn.image.image.high_variance_confounds...\n",
      "high_variance_confounds('C:\\\\Users\\\\Imagi\\\\Documents\\\\5850\\\\datasets\\\\cobre\\\\fmri_0040127.nii.gz', n_confounds=10)\n",
      "__________________________________________high_variance_confounds - 0.1s, 0.0min\n"
     ]
    },
    {
     "name": "stderr",
     "output_type": "stream",
     "text": [
      "C:\\ProgramData\\Anaconda3\\lib\\site-packages\\nilearn\\image\\resampling.py:510: UserWarning: Casting data from int16 to float32\n",
      "  warnings.warn(\"Casting data from %s to %s\" % (data.dtype.name, aux))\n",
      "C:\\ProgramData\\Anaconda3\\lib\\site-packages\\nilearn\\signal.py:180: UserWarning: The frequency specified for the low pass filter is too high to be handled by a digital filter (superior to nyquist frequency). It has been lowered to 1.00 (nyquist frequency).\n",
      "  'frequency).' % (btype, wn))\n"
     ]
    },
    {
     "name": "stdout",
     "output_type": "stream",
     "text": [
      "________________________________________________________________________________\n",
      "[Memory] Calling nilearn.image.image.high_variance_confounds...\n",
      "high_variance_confounds('C:\\\\Users\\\\Imagi\\\\Documents\\\\5850\\\\datasets\\\\cobre\\\\fmri_0040128.nii.gz', n_confounds=10)\n",
      "__________________________________________high_variance_confounds - 0.1s, 0.0min\n"
     ]
    },
    {
     "name": "stderr",
     "output_type": "stream",
     "text": [
      "C:\\ProgramData\\Anaconda3\\lib\\site-packages\\nilearn\\image\\resampling.py:510: UserWarning: Casting data from int16 to float32\n",
      "  warnings.warn(\"Casting data from %s to %s\" % (data.dtype.name, aux))\n",
      "C:\\ProgramData\\Anaconda3\\lib\\site-packages\\nilearn\\signal.py:180: UserWarning: The frequency specified for the low pass filter is too high to be handled by a digital filter (superior to nyquist frequency). It has been lowered to 1.00 (nyquist frequency).\n",
      "  'frequency).' % (btype, wn))\n"
     ]
    },
    {
     "name": "stdout",
     "output_type": "stream",
     "text": [
      "________________________________________________________________________________\n",
      "[Memory] Calling nilearn.image.image.high_variance_confounds...\n",
      "high_variance_confounds('C:\\\\Users\\\\Imagi\\\\Documents\\\\5850\\\\datasets\\\\cobre\\\\fmri_0040129.nii.gz', n_confounds=10)\n",
      "__________________________________________high_variance_confounds - 0.1s, 0.0min\n"
     ]
    },
    {
     "name": "stderr",
     "output_type": "stream",
     "text": [
      "C:\\ProgramData\\Anaconda3\\lib\\site-packages\\nilearn\\image\\resampling.py:510: UserWarning: Casting data from int16 to float32\n",
      "  warnings.warn(\"Casting data from %s to %s\" % (data.dtype.name, aux))\n",
      "C:\\ProgramData\\Anaconda3\\lib\\site-packages\\nilearn\\signal.py:180: UserWarning: The frequency specified for the low pass filter is too high to be handled by a digital filter (superior to nyquist frequency). It has been lowered to 1.00 (nyquist frequency).\n",
      "  'frequency).' % (btype, wn))\n"
     ]
    },
    {
     "name": "stdout",
     "output_type": "stream",
     "text": [
      "________________________________________________________________________________\n",
      "[Memory] Calling nilearn.image.image.high_variance_confounds...\n",
      "high_variance_confounds('C:\\\\Users\\\\Imagi\\\\Documents\\\\5850\\\\datasets\\\\cobre\\\\fmri_0040130.nii.gz', n_confounds=10)\n",
      "__________________________________________high_variance_confounds - 0.2s, 0.0min\n"
     ]
    },
    {
     "name": "stderr",
     "output_type": "stream",
     "text": [
      "C:\\ProgramData\\Anaconda3\\lib\\site-packages\\nilearn\\image\\resampling.py:510: UserWarning: Casting data from int16 to float32\n",
      "  warnings.warn(\"Casting data from %s to %s\" % (data.dtype.name, aux))\n",
      "C:\\ProgramData\\Anaconda3\\lib\\site-packages\\nilearn\\signal.py:180: UserWarning: The frequency specified for the low pass filter is too high to be handled by a digital filter (superior to nyquist frequency). It has been lowered to 1.00 (nyquist frequency).\n",
      "  'frequency).' % (btype, wn))\n"
     ]
    },
    {
     "name": "stdout",
     "output_type": "stream",
     "text": [
      "________________________________________________________________________________\n",
      "[Memory] Calling nilearn.image.image.high_variance_confounds...\n",
      "high_variance_confounds('C:\\\\Users\\\\Imagi\\\\Documents\\\\5850\\\\datasets\\\\cobre\\\\fmri_0040131.nii.gz', n_confounds=10)\n",
      "__________________________________________high_variance_confounds - 0.1s, 0.0min\n"
     ]
    },
    {
     "name": "stderr",
     "output_type": "stream",
     "text": [
      "C:\\ProgramData\\Anaconda3\\lib\\site-packages\\nilearn\\image\\resampling.py:510: UserWarning: Casting data from int16 to float32\n",
      "  warnings.warn(\"Casting data from %s to %s\" % (data.dtype.name, aux))\n",
      "C:\\ProgramData\\Anaconda3\\lib\\site-packages\\nilearn\\signal.py:180: UserWarning: The frequency specified for the low pass filter is too high to be handled by a digital filter (superior to nyquist frequency). It has been lowered to 1.00 (nyquist frequency).\n",
      "  'frequency).' % (btype, wn))\n"
     ]
    },
    {
     "name": "stdout",
     "output_type": "stream",
     "text": [
      "________________________________________________________________________________\n",
      "[Memory] Calling nilearn.image.image.high_variance_confounds...\n",
      "high_variance_confounds('C:\\\\Users\\\\Imagi\\\\Documents\\\\5850\\\\datasets\\\\cobre\\\\fmri_0040132.nii.gz', n_confounds=10)\n",
      "__________________________________________high_variance_confounds - 0.1s, 0.0min\n"
     ]
    },
    {
     "name": "stderr",
     "output_type": "stream",
     "text": [
      "C:\\ProgramData\\Anaconda3\\lib\\site-packages\\nilearn\\image\\resampling.py:510: UserWarning: Casting data from int16 to float32\n",
      "  warnings.warn(\"Casting data from %s to %s\" % (data.dtype.name, aux))\n",
      "C:\\ProgramData\\Anaconda3\\lib\\site-packages\\nilearn\\signal.py:180: UserWarning: The frequency specified for the low pass filter is too high to be handled by a digital filter (superior to nyquist frequency). It has been lowered to 1.00 (nyquist frequency).\n",
      "  'frequency).' % (btype, wn))\n"
     ]
    },
    {
     "name": "stdout",
     "output_type": "stream",
     "text": [
      "________________________________________________________________________________\n",
      "[Memory] Calling nilearn.image.image.high_variance_confounds...\n",
      "high_variance_confounds('C:\\\\Users\\\\Imagi\\\\Documents\\\\5850\\\\datasets\\\\cobre\\\\fmri_0040133.nii.gz', n_confounds=10)\n",
      "__________________________________________high_variance_confounds - 0.1s, 0.0min\n"
     ]
    },
    {
     "name": "stderr",
     "output_type": "stream",
     "text": [
      "C:\\ProgramData\\Anaconda3\\lib\\site-packages\\nilearn\\image\\resampling.py:510: UserWarning: Casting data from int16 to float32\n",
      "  warnings.warn(\"Casting data from %s to %s\" % (data.dtype.name, aux))\n",
      "C:\\ProgramData\\Anaconda3\\lib\\site-packages\\nilearn\\signal.py:180: UserWarning: The frequency specified for the low pass filter is too high to be handled by a digital filter (superior to nyquist frequency). It has been lowered to 1.00 (nyquist frequency).\n",
      "  'frequency).' % (btype, wn))\n"
     ]
    },
    {
     "name": "stdout",
     "output_type": "stream",
     "text": [
      "________________________________________________________________________________\n",
      "[Memory] Calling nilearn.image.image.high_variance_confounds...\n",
      "high_variance_confounds('C:\\\\Users\\\\Imagi\\\\Documents\\\\5850\\\\datasets\\\\cobre\\\\fmri_0040134.nii.gz', n_confounds=10)\n",
      "__________________________________________high_variance_confounds - 0.2s, 0.0min\n"
     ]
    },
    {
     "name": "stderr",
     "output_type": "stream",
     "text": [
      "C:\\ProgramData\\Anaconda3\\lib\\site-packages\\nilearn\\image\\resampling.py:510: UserWarning: Casting data from int16 to float32\n",
      "  warnings.warn(\"Casting data from %s to %s\" % (data.dtype.name, aux))\n",
      "C:\\ProgramData\\Anaconda3\\lib\\site-packages\\nilearn\\signal.py:180: UserWarning: The frequency specified for the low pass filter is too high to be handled by a digital filter (superior to nyquist frequency). It has been lowered to 1.00 (nyquist frequency).\n",
      "  'frequency).' % (btype, wn))\n"
     ]
    },
    {
     "name": "stdout",
     "output_type": "stream",
     "text": [
      "________________________________________________________________________________\n",
      "[Memory] Calling nilearn.image.image.high_variance_confounds...\n",
      "high_variance_confounds('C:\\\\Users\\\\Imagi\\\\Documents\\\\5850\\\\datasets\\\\cobre\\\\fmri_0040135.nii.gz', n_confounds=10)\n",
      "__________________________________________high_variance_confounds - 0.1s, 0.0min\n"
     ]
    },
    {
     "name": "stderr",
     "output_type": "stream",
     "text": [
      "C:\\ProgramData\\Anaconda3\\lib\\site-packages\\nilearn\\image\\resampling.py:510: UserWarning: Casting data from int16 to float32\n",
      "  warnings.warn(\"Casting data from %s to %s\" % (data.dtype.name, aux))\n",
      "C:\\ProgramData\\Anaconda3\\lib\\site-packages\\nilearn\\signal.py:180: UserWarning: The frequency specified for the low pass filter is too high to be handled by a digital filter (superior to nyquist frequency). It has been lowered to 1.00 (nyquist frequency).\n",
      "  'frequency).' % (btype, wn))\n"
     ]
    },
    {
     "name": "stdout",
     "output_type": "stream",
     "text": [
      "________________________________________________________________________________\n",
      "[Memory] Calling nilearn.image.image.high_variance_confounds...\n",
      "high_variance_confounds('C:\\\\Users\\\\Imagi\\\\Documents\\\\5850\\\\datasets\\\\cobre\\\\fmri_0040136.nii.gz', n_confounds=10)\n",
      "__________________________________________high_variance_confounds - 0.2s, 0.0min\n"
     ]
    },
    {
     "name": "stderr",
     "output_type": "stream",
     "text": [
      "C:\\ProgramData\\Anaconda3\\lib\\site-packages\\nilearn\\image\\resampling.py:510: UserWarning: Casting data from int16 to float32\n",
      "  warnings.warn(\"Casting data from %s to %s\" % (data.dtype.name, aux))\n",
      "C:\\ProgramData\\Anaconda3\\lib\\site-packages\\nilearn\\signal.py:180: UserWarning: The frequency specified for the low pass filter is too high to be handled by a digital filter (superior to nyquist frequency). It has been lowered to 1.00 (nyquist frequency).\n",
      "  'frequency).' % (btype, wn))\n"
     ]
    },
    {
     "name": "stdout",
     "output_type": "stream",
     "text": [
      "________________________________________________________________________________\n",
      "[Memory] Calling nilearn.image.image.high_variance_confounds...\n",
      "high_variance_confounds('C:\\\\Users\\\\Imagi\\\\Documents\\\\5850\\\\datasets\\\\cobre\\\\fmri_0040137.nii.gz', n_confounds=10)\n",
      "__________________________________________high_variance_confounds - 0.2s, 0.0min\n"
     ]
    },
    {
     "name": "stderr",
     "output_type": "stream",
     "text": [
      "C:\\ProgramData\\Anaconda3\\lib\\site-packages\\nilearn\\image\\resampling.py:510: UserWarning: Casting data from int16 to float32\n",
      "  warnings.warn(\"Casting data from %s to %s\" % (data.dtype.name, aux))\n",
      "C:\\ProgramData\\Anaconda3\\lib\\site-packages\\nilearn\\signal.py:180: UserWarning: The frequency specified for the low pass filter is too high to be handled by a digital filter (superior to nyquist frequency). It has been lowered to 1.00 (nyquist frequency).\n",
      "  'frequency).' % (btype, wn))\n"
     ]
    },
    {
     "name": "stdout",
     "output_type": "stream",
     "text": [
      "________________________________________________________________________________\n",
      "[Memory] Calling nilearn.image.image.high_variance_confounds...\n",
      "high_variance_confounds('C:\\\\Users\\\\Imagi\\\\Documents\\\\5850\\\\datasets\\\\cobre\\\\fmri_0040138.nii.gz', n_confounds=10)\n",
      "__________________________________________high_variance_confounds - 0.1s, 0.0min\n"
     ]
    },
    {
     "name": "stderr",
     "output_type": "stream",
     "text": [
      "C:\\ProgramData\\Anaconda3\\lib\\site-packages\\nilearn\\image\\resampling.py:510: UserWarning: Casting data from int16 to float32\n",
      "  warnings.warn(\"Casting data from %s to %s\" % (data.dtype.name, aux))\n",
      "C:\\ProgramData\\Anaconda3\\lib\\site-packages\\nilearn\\signal.py:180: UserWarning: The frequency specified for the low pass filter is too high to be handled by a digital filter (superior to nyquist frequency). It has been lowered to 1.00 (nyquist frequency).\n",
      "  'frequency).' % (btype, wn))\n"
     ]
    },
    {
     "name": "stdout",
     "output_type": "stream",
     "text": [
      "________________________________________________________________________________\n",
      "[Memory] Calling nilearn.image.image.high_variance_confounds...\n",
      "high_variance_confounds('C:\\\\Users\\\\Imagi\\\\Documents\\\\5850\\\\datasets\\\\cobre\\\\fmri_0040139.nii.gz', n_confounds=10)\n",
      "__________________________________________high_variance_confounds - 0.3s, 0.0min\n"
     ]
    },
    {
     "name": "stderr",
     "output_type": "stream",
     "text": [
      "C:\\ProgramData\\Anaconda3\\lib\\site-packages\\nilearn\\image\\resampling.py:510: UserWarning: Casting data from int16 to float32\n",
      "  warnings.warn(\"Casting data from %s to %s\" % (data.dtype.name, aux))\n",
      "C:\\ProgramData\\Anaconda3\\lib\\site-packages\\nilearn\\signal.py:180: UserWarning: The frequency specified for the low pass filter is too high to be handled by a digital filter (superior to nyquist frequency). It has been lowered to 1.00 (nyquist frequency).\n",
      "  'frequency).' % (btype, wn))\n"
     ]
    },
    {
     "name": "stdout",
     "output_type": "stream",
     "text": [
      "________________________________________________________________________________\n",
      "[Memory] Calling nilearn.image.image.high_variance_confounds...\n",
      "high_variance_confounds('C:\\\\Users\\\\Imagi\\\\Documents\\\\5850\\\\datasets\\\\cobre\\\\fmri_0040140.nii.gz', n_confounds=10)\n",
      "__________________________________________high_variance_confounds - 0.1s, 0.0min\n"
     ]
    },
    {
     "name": "stderr",
     "output_type": "stream",
     "text": [
      "C:\\ProgramData\\Anaconda3\\lib\\site-packages\\nilearn\\image\\resampling.py:510: UserWarning: Casting data from int16 to float32\n",
      "  warnings.warn(\"Casting data from %s to %s\" % (data.dtype.name, aux))\n",
      "C:\\ProgramData\\Anaconda3\\lib\\site-packages\\nilearn\\signal.py:180: UserWarning: The frequency specified for the low pass filter is too high to be handled by a digital filter (superior to nyquist frequency). It has been lowered to 1.00 (nyquist frequency).\n",
      "  'frequency).' % (btype, wn))\n"
     ]
    },
    {
     "name": "stdout",
     "output_type": "stream",
     "text": [
      "________________________________________________________________________________\n",
      "[Memory] Calling nilearn.image.image.high_variance_confounds...\n",
      "high_variance_confounds('C:\\\\Users\\\\Imagi\\\\Documents\\\\5850\\\\datasets\\\\cobre\\\\fmri_0040141.nii.gz', n_confounds=10)\n",
      "__________________________________________high_variance_confounds - 0.1s, 0.0min\n"
     ]
    },
    {
     "name": "stderr",
     "output_type": "stream",
     "text": [
      "C:\\ProgramData\\Anaconda3\\lib\\site-packages\\nilearn\\image\\resampling.py:510: UserWarning: Casting data from int16 to float32\n",
      "  warnings.warn(\"Casting data from %s to %s\" % (data.dtype.name, aux))\n",
      "C:\\ProgramData\\Anaconda3\\lib\\site-packages\\nilearn\\signal.py:180: UserWarning: The frequency specified for the low pass filter is too high to be handled by a digital filter (superior to nyquist frequency). It has been lowered to 1.00 (nyquist frequency).\n",
      "  'frequency).' % (btype, wn))\n"
     ]
    },
    {
     "name": "stdout",
     "output_type": "stream",
     "text": [
      "________________________________________________________________________________\n",
      "[Memory] Calling nilearn.image.image.high_variance_confounds...\n",
      "high_variance_confounds('C:\\\\Users\\\\Imagi\\\\Documents\\\\5850\\\\datasets\\\\cobre\\\\fmri_0040142.nii.gz', n_confounds=10)\n",
      "__________________________________________high_variance_confounds - 0.1s, 0.0min\n"
     ]
    },
    {
     "name": "stderr",
     "output_type": "stream",
     "text": [
      "C:\\ProgramData\\Anaconda3\\lib\\site-packages\\nilearn\\image\\resampling.py:510: UserWarning: Casting data from int16 to float32\n",
      "  warnings.warn(\"Casting data from %s to %s\" % (data.dtype.name, aux))\n",
      "C:\\ProgramData\\Anaconda3\\lib\\site-packages\\nilearn\\signal.py:180: UserWarning: The frequency specified for the low pass filter is too high to be handled by a digital filter (superior to nyquist frequency). It has been lowered to 1.00 (nyquist frequency).\n",
      "  'frequency).' % (btype, wn))\n"
     ]
    },
    {
     "name": "stdout",
     "output_type": "stream",
     "text": [
      "________________________________________________________________________________\n",
      "[Memory] Calling nilearn.image.image.high_variance_confounds...\n",
      "high_variance_confounds('C:\\\\Users\\\\Imagi\\\\Documents\\\\5850\\\\datasets\\\\cobre\\\\fmri_0040143.nii.gz', n_confounds=10)\n",
      "__________________________________________high_variance_confounds - 0.2s, 0.0min\n"
     ]
    },
    {
     "name": "stderr",
     "output_type": "stream",
     "text": [
      "C:\\ProgramData\\Anaconda3\\lib\\site-packages\\nilearn\\image\\resampling.py:510: UserWarning: Casting data from int16 to float32\n",
      "  warnings.warn(\"Casting data from %s to %s\" % (data.dtype.name, aux))\n",
      "C:\\ProgramData\\Anaconda3\\lib\\site-packages\\nilearn\\signal.py:180: UserWarning: The frequency specified for the low pass filter is too high to be handled by a digital filter (superior to nyquist frequency). It has been lowered to 1.00 (nyquist frequency).\n",
      "  'frequency).' % (btype, wn))\n"
     ]
    },
    {
     "name": "stdout",
     "output_type": "stream",
     "text": [
      "________________________________________________________________________________\n",
      "[Memory] Calling nilearn.image.image.high_variance_confounds...\n",
      "high_variance_confounds('C:\\\\Users\\\\Imagi\\\\Documents\\\\5850\\\\datasets\\\\cobre\\\\fmri_0040144.nii.gz', n_confounds=10)\n",
      "__________________________________________high_variance_confounds - 0.1s, 0.0min\n"
     ]
    },
    {
     "name": "stderr",
     "output_type": "stream",
     "text": [
      "C:\\ProgramData\\Anaconda3\\lib\\site-packages\\nilearn\\image\\resampling.py:510: UserWarning: Casting data from int16 to float32\n",
      "  warnings.warn(\"Casting data from %s to %s\" % (data.dtype.name, aux))\n",
      "C:\\ProgramData\\Anaconda3\\lib\\site-packages\\nilearn\\signal.py:180: UserWarning: The frequency specified for the low pass filter is too high to be handled by a digital filter (superior to nyquist frequency). It has been lowered to 1.00 (nyquist frequency).\n",
      "  'frequency).' % (btype, wn))\n"
     ]
    },
    {
     "name": "stdout",
     "output_type": "stream",
     "text": [
      "________________________________________________________________________________\n",
      "[Memory] Calling nilearn.image.image.high_variance_confounds...\n",
      "high_variance_confounds('C:\\\\Users\\\\Imagi\\\\Documents\\\\5850\\\\datasets\\\\cobre\\\\fmri_0040145.nii.gz', n_confounds=10)\n",
      "__________________________________________high_variance_confounds - 0.1s, 0.0min\n"
     ]
    },
    {
     "name": "stderr",
     "output_type": "stream",
     "text": [
      "C:\\ProgramData\\Anaconda3\\lib\\site-packages\\nilearn\\image\\resampling.py:510: UserWarning: Casting data from int16 to float32\n",
      "  warnings.warn(\"Casting data from %s to %s\" % (data.dtype.name, aux))\n",
      "C:\\ProgramData\\Anaconda3\\lib\\site-packages\\nilearn\\signal.py:180: UserWarning: The frequency specified for the low pass filter is too high to be handled by a digital filter (superior to nyquist frequency). It has been lowered to 1.00 (nyquist frequency).\n",
      "  'frequency).' % (btype, wn))\n"
     ]
    },
    {
     "name": "stdout",
     "output_type": "stream",
     "text": [
      "________________________________________________________________________________\n",
      "[Memory] Calling nilearn.image.image.high_variance_confounds...\n",
      "high_variance_confounds('C:\\\\Users\\\\Imagi\\\\Documents\\\\5850\\\\datasets\\\\cobre\\\\fmri_0040146.nii.gz', n_confounds=10)\n",
      "__________________________________________high_variance_confounds - 0.2s, 0.0min\n"
     ]
    },
    {
     "name": "stderr",
     "output_type": "stream",
     "text": [
      "C:\\ProgramData\\Anaconda3\\lib\\site-packages\\nilearn\\image\\resampling.py:510: UserWarning: Casting data from int16 to float32\n",
      "  warnings.warn(\"Casting data from %s to %s\" % (data.dtype.name, aux))\n",
      "C:\\ProgramData\\Anaconda3\\lib\\site-packages\\nilearn\\signal.py:180: UserWarning: The frequency specified for the low pass filter is too high to be handled by a digital filter (superior to nyquist frequency). It has been lowered to 1.00 (nyquist frequency).\n",
      "  'frequency).' % (btype, wn))\n"
     ]
    },
    {
     "name": "stdout",
     "output_type": "stream",
     "text": [
      "________________________________________________________________________________\n",
      "[Memory] Calling nilearn.image.image.high_variance_confounds...\n",
      "high_variance_confounds('C:\\\\Users\\\\Imagi\\\\Documents\\\\5850\\\\datasets\\\\cobre\\\\fmri_0040147.nii.gz', n_confounds=10)\n",
      "__________________________________________high_variance_confounds - 0.1s, 0.0min\n"
     ]
    },
    {
     "name": "stderr",
     "output_type": "stream",
     "text": [
      "C:\\ProgramData\\Anaconda3\\lib\\site-packages\\nilearn\\image\\resampling.py:510: UserWarning: Casting data from int16 to float32\n",
      "  warnings.warn(\"Casting data from %s to %s\" % (data.dtype.name, aux))\n",
      "C:\\ProgramData\\Anaconda3\\lib\\site-packages\\nilearn\\signal.py:180: UserWarning: The frequency specified for the low pass filter is too high to be handled by a digital filter (superior to nyquist frequency). It has been lowered to 1.00 (nyquist frequency).\n",
      "  'frequency).' % (btype, wn))\n"
     ]
    },
    {
     "data": {
      "text/plain": [
       "'i got here'"
      ]
     },
     "metadata": {},
     "output_type": "display_data"
    }
   ],
   "source": [
    "# for each of our fmri scams, compute confounds, transform them into mask, and append\n",
    "# to time series list\n",
    "subject_time_series = []\n",
    "for file_path, confound in zip(file_paths, confounds):\n",
    "\n",
    "    # Computing some confounds\n",
    "    hv_confounds = mem.cache(image.high_variance_confounds)(\n",
    "        file_path, n_confounds=10)\n",
    "\n",
    "    region_ts = masker.transform(file_path, \n",
    "                                 confounds=[hv_confounds, confound])\n",
    "    subject_time_series.append(region_ts)\n",
    "\n",
    "display(\"i got here\")"
   ]
  },
  {
   "cell_type": "code",
   "execution_count": 13,
   "metadata": {},
   "outputs": [
    {
     "data": {
      "text/plain": [
       "(144, 150, 39)"
      ]
     },
     "metadata": {},
     "output_type": "display_data"
    }
   ],
   "source": [
    "#Here is where I prepare the data for input\n",
    "X = np.array(subject_time_series)\n",
    "display(X.shape)"
   ]
  },
  {
   "cell_type": "code",
   "execution_count": 32,
   "metadata": {},
   "outputs": [
    {
     "name": "stdout",
     "output_type": "stream",
     "text": [
      "(120, 150, 39, 1)\n",
      "(120, 2)\n",
      "(25, 2)\n",
      "(24, 150, 39, 1)\n"
     ]
    }
   ],
   "source": [
    "fullx = X.astype('float32').reshape(X.shape+(1,))\n",
    "\n",
    "Y = keras.utils.to_categorical(Y, len(np.unique(Y))) #one hot encoding\n",
    "\n",
    "x_train = fullx[:120]\n",
    "x_test = fullx[120:]\n",
    "y_train = Y[:120]\n",
    "y_test = Y[120:]\n",
    "\n",
    "#one-hot encoding\n",
    "\n",
    "\n",
    "\n",
    "print(x_train.shape)\n",
    "print(y_train.shape)\n",
    "print(y_test.shape)\n",
    "print(x_test.shape)"
   ]
  },
  {
   "cell_type": "code",
   "execution_count": 46,
   "metadata": {},
   "outputs": [
    {
     "name": "stdout",
     "output_type": "stream",
     "text": [
      "_________________________________________________________________\n",
      "Layer (type)                 Output Shape              Param #   \n",
      "=================================================================\n",
      "conv2d_13 (Conv2D)           (None, 149, 38, 256)      1280      \n",
      "_________________________________________________________________\n",
      "conv2d_14 (Conv2D)           (None, 142, 31, 128)      2097280   \n",
      "_________________________________________________________________\n",
      "max_pooling2d_7 (MaxPooling2 (None, 71, 15, 128)       0         \n",
      "_________________________________________________________________\n",
      "dropout_13 (Dropout)         (None, 71, 15, 128)       0         \n",
      "_________________________________________________________________\n",
      "flatten_7 (Flatten)          (None, 136320)            0         \n",
      "_________________________________________________________________\n",
      "dense_11 (Dense)             (None, 128)               17449088  \n",
      "_________________________________________________________________\n",
      "dropout_14 (Dropout)         (None, 128)               0         \n",
      "_________________________________________________________________\n",
      "dense_12 (Dense)             (None, 2)                 258       \n",
      "=================================================================\n",
      "Total params: 19,547,906\n",
      "Trainable params: 19,547,906\n",
      "Non-trainable params: 0\n",
      "_________________________________________________________________\n"
     ]
    }
   ],
   "source": [
    "#time to finally build a model and test it!\n",
    "model1 = keras.Sequential()\n",
    "model1.add(keras.layers.Conv2D(256, kernel_size = (2,2), activation = 'relu'\n",
    "                              ,input_shape=[150,39,1]))\n",
    "#model1.add(keras.layer.MaxPooling2D(pool_size=(2,2)))\n",
    "#model1.add(keras.layer.LTSM)\n",
    "model1.add(keras.layers.Conv2D(128, (8,8), activation='relu'))\n",
    "model1.add(keras.layers.MaxPooling2D(pool_size=(2,2)))\n",
    "model1.add(keras.layers.Dropout(0.6))\n",
    "model1.add(keras.layers.Flatten())\n",
    "model1.add(keras.layers.Dense(128, activation='relu'))\n",
    "model1.add(keras.layers.Dropout(0.3))\n",
    "model1.add(keras.layers.Dense(y_train.shape[1], activation='softmax')) #y_train.shape[1]??\n",
    "\n",
    "model1.compile(loss=keras.losses.categorical_crossentropy, optimizer=keras.optimizers.Adam(), \n",
    "              metrics=['accuracy'])\n",
    "model1.summary()"
   ]
  },
  {
   "cell_type": "code",
   "execution_count": 47,
   "metadata": {},
   "outputs": [
    {
     "data": {
      "text/plain": [
       "'running...'"
      ]
     },
     "metadata": {},
     "output_type": "display_data"
    },
    {
     "data": {
      "application/vnd.jupyter.widget-view+json": {
       "model_id": "a888edb49a09474d9b687bcc2aff93db",
       "version_major": 2,
       "version_minor": 0
      },
      "text/plain": [
       "HBox(children=(IntProgress(value=0, description='Training', max=10, style=ProgressStyle(description_width='ini…"
      ]
     },
     "metadata": {},
     "output_type": "display_data"
    },
    {
     "data": {
      "application/vnd.jupyter.widget-view+json": {
       "model_id": "",
       "version_major": 2,
       "version_minor": 0
      },
      "text/plain": [
       "HBox(children=(IntProgress(value=0, description='Epoch 0', max=96, style=ProgressStyle(description_width='init…"
      ]
     },
     "metadata": {},
     "output_type": "display_data"
    },
    {
     "data": {
      "application/vnd.jupyter.widget-view+json": {
       "model_id": "",
       "version_major": 2,
       "version_minor": 0
      },
      "text/plain": [
       "HBox(children=(IntProgress(value=0, description='Epoch 1', max=96, style=ProgressStyle(description_width='init…"
      ]
     },
     "metadata": {},
     "output_type": "display_data"
    },
    {
     "data": {
      "application/vnd.jupyter.widget-view+json": {
       "model_id": "",
       "version_major": 2,
       "version_minor": 0
      },
      "text/plain": [
       "HBox(children=(IntProgress(value=0, description='Epoch 2', max=96, style=ProgressStyle(description_width='init…"
      ]
     },
     "metadata": {},
     "output_type": "display_data"
    },
    {
     "data": {
      "application/vnd.jupyter.widget-view+json": {
       "model_id": "",
       "version_major": 2,
       "version_minor": 0
      },
      "text/plain": [
       "HBox(children=(IntProgress(value=0, description='Epoch 3', max=96, style=ProgressStyle(description_width='init…"
      ]
     },
     "metadata": {},
     "output_type": "display_data"
    },
    {
     "data": {
      "application/vnd.jupyter.widget-view+json": {
       "model_id": "",
       "version_major": 2,
       "version_minor": 0
      },
      "text/plain": [
       "HBox(children=(IntProgress(value=0, description='Epoch 4', max=96, style=ProgressStyle(description_width='init…"
      ]
     },
     "metadata": {},
     "output_type": "display_data"
    },
    {
     "data": {
      "application/vnd.jupyter.widget-view+json": {
       "model_id": "",
       "version_major": 2,
       "version_minor": 0
      },
      "text/plain": [
       "HBox(children=(IntProgress(value=0, description='Epoch 5', max=96, style=ProgressStyle(description_width='init…"
      ]
     },
     "metadata": {},
     "output_type": "display_data"
    },
    {
     "data": {
      "application/vnd.jupyter.widget-view+json": {
       "model_id": "",
       "version_major": 2,
       "version_minor": 0
      },
      "text/plain": [
       "HBox(children=(IntProgress(value=0, description='Epoch 6', max=96, style=ProgressStyle(description_width='init…"
      ]
     },
     "metadata": {},
     "output_type": "display_data"
    },
    {
     "data": {
      "application/vnd.jupyter.widget-view+json": {
       "model_id": "",
       "version_major": 2,
       "version_minor": 0
      },
      "text/plain": [
       "HBox(children=(IntProgress(value=0, description='Epoch 7', max=96, style=ProgressStyle(description_width='init…"
      ]
     },
     "metadata": {},
     "output_type": "display_data"
    },
    {
     "data": {
      "application/vnd.jupyter.widget-view+json": {
       "model_id": "",
       "version_major": 2,
       "version_minor": 0
      },
      "text/plain": [
       "HBox(children=(IntProgress(value=0, description='Epoch 8', max=96, style=ProgressStyle(description_width='init…"
      ]
     },
     "metadata": {},
     "output_type": "display_data"
    },
    {
     "data": {
      "application/vnd.jupyter.widget-view+json": {
       "model_id": "",
       "version_major": 2,
       "version_minor": 0
      },
      "text/plain": [
       "HBox(children=(IntProgress(value=0, description='Epoch 9', max=96, style=ProgressStyle(description_width='init…"
      ]
     },
     "metadata": {},
     "output_type": "display_data"
    },
    {
     "name": "stdout",
     "output_type": "stream",
     "text": [
      "\n",
      "Finished\n"
     ]
    }
   ],
   "source": [
    "#model1.compile(loss=keras.losses.categorical_crossentropy, optimizer=keras.optimizers.Adam(), metrics=['accuracy'])\n",
    "batch_size = 10\n",
    "epochs = 10\n",
    "validation_split = 0.2\n",
    "display(\"running...\")\n",
    "\n",
    "history = model1.fit(x_train, y_train, batch_size = batch_size, epochs = epochs\n",
    "                     , verbose = 0, validation_split = validation_split, callbacks=[TQDMNotebookCallback()])\n",
    "\n",
    "print(\"Finished\")"
   ]
  },
  {
   "cell_type": "code",
   "execution_count": 48,
   "metadata": {},
   "outputs": [
    {
     "name": "stdout",
     "output_type": "stream",
     "text": []
    },
    {
     "name": "stdout",
     "output_type": "stream",
     "text": [
      "24/24 [==============================] - 7s 310ms/step\n",
      "Accuracy: 70.83333134651184 %\n"
     ]
    }
   ],
   "source": [
    "print('Accuracy:',model1.evaluate(x_test,y_test[0:24, :])[1]*100.0,'%')"
   ]
  },
  {
   "cell_type": "code",
   "execution_count": 49,
   "metadata": {},
   "outputs": [
    {
     "data": {
      "image/png": "[encoded data removed]",
      "text/plain": [
       "<Figure size 432x288 with 2 Axes>"
      ]
     },
     "metadata": {
      "needs_background": "light"
     },
     "output_type": "display_data"
    }
   ],
   "source": [
    "plt.figure()\n",
    "plt.subplot(211)\n",
    "\n",
    "#summarize accuracy history\n",
    "plt.plot(history.history['acc'])\n",
    "plt.plot(history.history['val_acc'])\n",
    "plt.title('model accuracy')\n",
    "plt.xlabel('epoch')\n",
    "plt.ylabel('accuracy')\n",
    "plt.legend(['train', 'test'], loc='upper left')\n",
    "\n",
    "#summarize loss history\n",
    "plt.subplot(212)\n",
    "plt.plot(history.history['loss'])\n",
    "plt.plot(history.history['val_loss'])\n",
    "plt.title('model loss')\n",
    "plt.xlabel('epoch')\n",
    "plt.ylabel('loss')\n",
    "plt.legend(['train', 'test'], loc='upper left')\n",
    "\n",
    "\n",
    "plt.tight_layout()\n",
    "plt.show()"
   ]
  },
  {
   "cell_type": "code",
   "execution_count": 50,
   "metadata": {},
   "outputs": [
    {
     "name": "stdout",
     "output_type": "stream",
     "text": []
    },
    {
     "name": "stdout",
     "output_type": "stream",
     "text": [
      "24/24 [==============================] - 7s 303ms/step\n"
     ]
    }
   ],
   "source": [
    "score = model1.evaluate(x_test,y_test[0:24, :])"
   ]
  },
  {
   "cell_type": "code",
   "execution_count": 53,
   "metadata": {},
   "outputs": [
    {
     "data": {
      "text/plain": [
       "4.701111316680908"
      ]
     },
     "metadata": {},
     "output_type": "display_data"
    },
    {
     "data": {
      "text/plain": [
       "0.7083333134651184"
      ]
     },
     "metadata": {},
     "output_type": "display_data"
    }
   ],
   "source": [
    "display(score[0])\n",
    "display(score[1])"
   ]
  },
  {
   "cell_type": "markdown",
   "metadata": {},
   "source": [
    "## Evaluation\n",
    "This network \"turned out\" the best, although the network itself really didn't do that well; I just got lucky. I went from getting about 39% pretty consistently to suddently getting 70%! I was so amazed that I double checked myself and ran the \"evaluate\" function again at the end just to prove it. That said, I later ran the exact same network with the only difference being a smaller validation_split and I added 10 to x_test and y_test. The output of that was 41%... so back to the mean. This was more or less what I expected, however.\n",
    "\n",
    "The big difference between nets 3 and 4, and nets 1 and 2 were preprocessing, with lots of help from Kevin, and actually doing the accuracy testing at the end properly."
   ]
  },
  {
   "cell_type": "code",
   "execution_count": null,
   "metadata": {},
   "outputs": [],
   "source": []
  }
 ],
 "metadata": {
  "kernelspec": {
   "display_name": "Python 3",
   "language": "python",
   "name": "python3"
  },
  "language_info": {
   "codemirror_mode": {
    "name": "ipython",
    "version": 3
   },
   "file_extension": ".py",
   "mimetype": "text/x-python",
   "name": "python",
   "nbconvert_exporter": "python",
   "pygments_lexer": "ipython3",
   "version": "3.7.3"
  }
 },
 "nbformat": 4,
 "nbformat_minor": 2
}
