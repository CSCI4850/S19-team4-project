{
 "cells": [
  {
   "cell_type": "code",
   "execution_count": 1,
   "metadata": {},
   "outputs": [
    {
     "name": "stderr",
     "output_type": "stream",
     "text": [
      "Using TensorFlow backend.\n",
      "C:\\ProgramData\\Anaconda3\\lib\\site-packages\\numpy\\lib\\npyio.py:2315: VisibleDeprecationWarning: Reading unicode strings without specifying the encoding argument is deprecated. Set the encoding, use None for the system default.\n",
      "  output = genfromtxt(fname, **kwargs)\n"
     ]
    }
   ],
   "source": [
    "import numpy as np\n",
    "from nibabel.testing import data_path\n",
    "import nibabel as nib\n",
    "\n",
    "import keras\n",
    "from keras import backend as K\n",
    "import matplotlib.pyplot as plt\n",
    "from mpl_toolkits.mplot3d import axes3d\n",
    "%matplotlib inline\n",
    "from IPython.display import display\n",
    "\n",
    "import nilearn\n",
    "from nilearn import plotting\n",
    "from nilearn import image\n",
    "from nilearn import datasets\n",
    "\n",
    "from keras_tqdm import TQDMNotebookCallback\n",
    "\n",
    "# Get dataset with nilearn function\n",
    "# if not downloaded, will download. If already downloaded, will use local version\n",
    "dataset = nilearn.datasets.fetch_cobre(n_subjects=146, data_dir=\"C:\\\\Users\\\\Imagi\\\\Documents\\\\5850\\\\datasets\", url=None, verbose=1)"
   ]
  },
  {
   "cell_type": "code",
   "execution_count": 2,
   "metadata": {},
   "outputs": [
    {
     "data": {
      "text/plain": [
       "(145,)"
      ]
     },
     "metadata": {},
     "output_type": "display_data"
    }
   ],
   "source": [
    "phenotypes = dataset[\"phenotypic\"]\n",
    "confounds = dataset[\"confounds\"]\n",
    "file_paths = dataset[\"func\"]\n",
    "phenotypes.sort(0) #sort by column corresponding to patient number\n",
    "file_paths.sort() #sort file names by alphabetical order, which will result in sorting by patient number\n",
    "confounds.sort()\n",
    "\n",
    "#file_paths is now a regular python list of the file paths to the fmri scans\n",
    "#phenotypes is now a np.recarray of np.records storing patient info\n",
    "# get just the diagnosis information from the phenotypes\n",
    "diagnosis = phenotypes['diagnosis']\n",
    "diagnosis_converted = []\n",
    "#this stem is necessary to convert np.byte array into strings, \n",
    "#and then fit those strings into 2 categories:\n",
    "#Schizophrenia or no Schizophrenia\n",
    "for item in diagnosis:\n",
    "    s = item.decode('UTF-8')\n",
    "    if s != \"None\":\n",
    "        diagnosis_converted.append(float(1))   #person has schizophrenia\n",
    "    else:\n",
    "        diagnosis_converted.append(float(0))   #person doesn't have schizophrenia\n",
    "\n",
    "del diagnosis_converted[74] # item 74 is a messed up scan with different dimensions\n",
    "del file_paths[74]          # so it needs to be removed\n",
    "del confounds[74]\n",
    "\n",
    "Y = np.array(diagnosis_converted)\n",
    "display(Y.shape)"
   ]
  },
  {
   "cell_type": "code",
   "execution_count": 3,
   "metadata": {},
   "outputs": [
    {
     "data": {
      "text/plain": [
       "'i got here'"
      ]
     },
     "metadata": {},
     "output_type": "display_data"
    }
   ],
   "source": [
    "# this is a brain anatomical atlas template, that gives us brain reigons with their labels\n",
    "msdl_atlas_dataset = nilearn.datasets.fetch_atlas_msdl(data_dir=\"C:\\\\Users\\\\Imagi\\\\Documents\\\\5850\")\n",
    "\n",
    "from nilearn import image\n",
    "from nilearn import input_data\n",
    "from sklearn.externals.joblib import Memory   # A \"memory\" to avoid recomputation\n",
    "mem = Memory('nilearn_cache')\n",
    "\n",
    "# mask the data, used the atlas template as the mask img.\n",
    "masker = input_data.NiftiMapsMasker(\n",
    "    msdl_atlas_dataset.maps, resampling_target=\"maps\", detrend=True,\n",
    "    low_pass=.5, high_pass=0.01, t_r=2.0, standardize=True,\n",
    "    memory='nilearn_cache', memory_level=1, verbose=0)\n",
    "masker.fit()\n",
    "display(\"i got here\")"
   ]
  },
  {
   "cell_type": "code",
   "execution_count": 4,
   "metadata": {},
   "outputs": [
    {
     "name": "stderr",
     "output_type": "stream",
     "text": [
      "C:\\ProgramData\\Anaconda3\\lib\\site-packages\\nilearn\\image\\resampling.py:510: UserWarning: Casting data from int16 to float32\n",
      "  warnings.warn(\"Casting data from %s to %s\" % (data.dtype.name, aux))\n",
      "C:\\ProgramData\\Anaconda3\\lib\\site-packages\\nilearn\\signal.py:180: UserWarning: The frequency specified for the low pass filter is too high to be handled by a digital filter (superior to nyquist frequency). It has been lowered to 1.00 (nyquist frequency).\n",
      "  'frequency).' % (btype, wn))\n"
     ]
    },
    {
     "name": "stdout",
     "output_type": "stream",
     "text": [
      "________________________________________________________________________________\n",
      "[Memory] Calling nilearn.image.image.high_variance_confounds...\n",
      "high_variance_confounds('C:\\\\Users\\\\Imagi\\\\Documents\\\\5850\\\\datasets\\\\cobre\\\\fmri_0040076.nii.gz', n_confounds=10)\n",
      "__________________________________________high_variance_confounds - 0.9s, 0.0min\n"
     ]
    },
    {
     "name": "stderr",
     "output_type": "stream",
     "text": [
      "C:\\ProgramData\\Anaconda3\\lib\\site-packages\\nilearn\\image\\resampling.py:510: UserWarning: Casting data from int16 to float32\n",
      "  warnings.warn(\"Casting data from %s to %s\" % (data.dtype.name, aux))\n",
      "C:\\ProgramData\\Anaconda3\\lib\\site-packages\\nilearn\\signal.py:180: UserWarning: The frequency specified for the low pass filter is too high to be handled by a digital filter (superior to nyquist frequency). It has been lowered to 1.00 (nyquist frequency).\n",
      "  'frequency).' % (btype, wn))\n",
      "C:\\ProgramData\\Anaconda3\\lib\\site-packages\\nilearn\\image\\resampling.py:510: UserWarning: Casting data from int16 to float32\n",
      "  warnings.warn(\"Casting data from %s to %s\" % (data.dtype.name, aux))\n",
      "C:\\ProgramData\\Anaconda3\\lib\\site-packages\\nilearn\\signal.py:180: UserWarning: The frequency specified for the low pass filter is too high to be handled by a digital filter (superior to nyquist frequency). It has been lowered to 1.00 (nyquist frequency).\n",
      "  'frequency).' % (btype, wn))\n",
      "C:\\ProgramData\\Anaconda3\\lib\\site-packages\\nilearn\\image\\resampling.py:510: UserWarning: Casting data from int16 to float32\n",
      "  warnings.warn(\"Casting data from %s to %s\" % (data.dtype.name, aux))\n",
      "C:\\ProgramData\\Anaconda3\\lib\\site-packages\\nilearn\\signal.py:180: UserWarning: The frequency specified for the low pass filter is too high to be handled by a digital filter (superior to nyquist frequency). It has been lowered to 1.00 (nyquist frequency).\n",
      "  'frequency).' % (btype, wn))\n",
      "C:\\ProgramData\\Anaconda3\\lib\\site-packages\\nilearn\\image\\resampling.py:510: UserWarning: Casting data from int16 to float32\n",
      "  warnings.warn(\"Casting data from %s to %s\" % (data.dtype.name, aux))\n",
      "C:\\ProgramData\\Anaconda3\\lib\\site-packages\\nilearn\\signal.py:180: UserWarning: The frequency specified for the low pass filter is too high to be handled by a digital filter (superior to nyquist frequency). It has been lowered to 1.00 (nyquist frequency).\n",
      "  'frequency).' % (btype, wn))\n",
      "C:\\ProgramData\\Anaconda3\\lib\\site-packages\\nilearn\\image\\resampling.py:510: UserWarning: Casting data from int16 to float32\n",
      "  warnings.warn(\"Casting data from %s to %s\" % (data.dtype.name, aux))\n",
      "C:\\ProgramData\\Anaconda3\\lib\\site-packages\\nilearn\\signal.py:180: UserWarning: The frequency specified for the low pass filter is too high to be handled by a digital filter (superior to nyquist frequency). It has been lowered to 1.00 (nyquist frequency).\n",
      "  'frequency).' % (btype, wn))\n",
      "C:\\ProgramData\\Anaconda3\\lib\\site-packages\\nilearn\\image\\resampling.py:510: UserWarning: Casting data from int16 to float32\n",
      "  warnings.warn(\"Casting data from %s to %s\" % (data.dtype.name, aux))\n",
      "C:\\ProgramData\\Anaconda3\\lib\\site-packages\\nilearn\\signal.py:180: UserWarning: The frequency specified for the low pass filter is too high to be handled by a digital filter (superior to nyquist frequency). It has been lowered to 1.00 (nyquist frequency).\n",
      "  'frequency).' % (btype, wn))\n",
      "C:\\ProgramData\\Anaconda3\\lib\\site-packages\\nilearn\\image\\resampling.py:510: UserWarning: Casting data from int16 to float32\n",
      "  warnings.warn(\"Casting data from %s to %s\" % (data.dtype.name, aux))\n",
      "C:\\ProgramData\\Anaconda3\\lib\\site-packages\\nilearn\\signal.py:180: UserWarning: The frequency specified for the low pass filter is too high to be handled by a digital filter (superior to nyquist frequency). It has been lowered to 1.00 (nyquist frequency).\n",
      "  'frequency).' % (btype, wn))\n",
      "C:\\ProgramData\\Anaconda3\\lib\\site-packages\\nilearn\\image\\resampling.py:510: UserWarning: Casting data from int16 to float32\n",
      "  warnings.warn(\"Casting data from %s to %s\" % (data.dtype.name, aux))\n",
      "C:\\ProgramData\\Anaconda3\\lib\\site-packages\\nilearn\\signal.py:180: UserWarning: The frequency specified for the low pass filter is too high to be handled by a digital filter (superior to nyquist frequency). It has been lowered to 1.00 (nyquist frequency).\n",
      "  'frequency).' % (btype, wn))\n",
      "C:\\ProgramData\\Anaconda3\\lib\\site-packages\\nilearn\\image\\resampling.py:510: UserWarning: Casting data from int16 to float32\n",
      "  warnings.warn(\"Casting data from %s to %s\" % (data.dtype.name, aux))\n",
      "C:\\ProgramData\\Anaconda3\\lib\\site-packages\\nilearn\\signal.py:180: UserWarning: The frequency specified for the low pass filter is too high to be handled by a digital filter (superior to nyquist frequency). It has been lowered to 1.00 (nyquist frequency).\n",
      "  'frequency).' % (btype, wn))\n",
      "C:\\ProgramData\\Anaconda3\\lib\\site-packages\\nilearn\\image\\resampling.py:510: UserWarning: Casting data from int16 to float32\n",
      "  warnings.warn(\"Casting data from %s to %s\" % (data.dtype.name, aux))\n",
      "C:\\ProgramData\\Anaconda3\\lib\\site-packages\\nilearn\\signal.py:180: UserWarning: The frequency specified for the low pass filter is too high to be handled by a digital filter (superior to nyquist frequency). It has been lowered to 1.00 (nyquist frequency).\n",
      "  'frequency).' % (btype, wn))\n",
      "C:\\ProgramData\\Anaconda3\\lib\\site-packages\\nilearn\\image\\resampling.py:510: UserWarning: Casting data from int16 to float32\n",
      "  warnings.warn(\"Casting data from %s to %s\" % (data.dtype.name, aux))\n",
      "C:\\ProgramData\\Anaconda3\\lib\\site-packages\\nilearn\\signal.py:180: UserWarning: The frequency specified for the low pass filter is too high to be handled by a digital filter (superior to nyquist frequency). It has been lowered to 1.00 (nyquist frequency).\n",
      "  'frequency).' % (btype, wn))\n",
      "C:\\ProgramData\\Anaconda3\\lib\\site-packages\\nilearn\\image\\resampling.py:510: UserWarning: Casting data from int16 to float32\n",
      "  warnings.warn(\"Casting data from %s to %s\" % (data.dtype.name, aux))\n",
      "C:\\ProgramData\\Anaconda3\\lib\\site-packages\\nilearn\\signal.py:180: UserWarning: The frequency specified for the low pass filter is too high to be handled by a digital filter (superior to nyquist frequency). It has been lowered to 1.00 (nyquist frequency).\n",
      "  'frequency).' % (btype, wn))\n",
      "C:\\ProgramData\\Anaconda3\\lib\\site-packages\\nilearn\\image\\resampling.py:510: UserWarning: Casting data from int16 to float32\n",
      "  warnings.warn(\"Casting data from %s to %s\" % (data.dtype.name, aux))\n",
      "C:\\ProgramData\\Anaconda3\\lib\\site-packages\\nilearn\\signal.py:180: UserWarning: The frequency specified for the low pass filter is too high to be handled by a digital filter (superior to nyquist frequency). It has been lowered to 1.00 (nyquist frequency).\n",
      "  'frequency).' % (btype, wn))\n",
      "C:\\ProgramData\\Anaconda3\\lib\\site-packages\\nilearn\\image\\resampling.py:510: UserWarning: Casting data from int16 to float32\n",
      "  warnings.warn(\"Casting data from %s to %s\" % (data.dtype.name, aux))\n",
      "C:\\ProgramData\\Anaconda3\\lib\\site-packages\\nilearn\\signal.py:180: UserWarning: The frequency specified for the low pass filter is too high to be handled by a digital filter (superior to nyquist frequency). It has been lowered to 1.00 (nyquist frequency).\n",
      "  'frequency).' % (btype, wn))\n",
      "C:\\ProgramData\\Anaconda3\\lib\\site-packages\\nilearn\\image\\resampling.py:510: UserWarning: Casting data from int16 to float32\n",
      "  warnings.warn(\"Casting data from %s to %s\" % (data.dtype.name, aux))\n",
      "C:\\ProgramData\\Anaconda3\\lib\\site-packages\\nilearn\\signal.py:180: UserWarning: The frequency specified for the low pass filter is too high to be handled by a digital filter (superior to nyquist frequency). It has been lowered to 1.00 (nyquist frequency).\n",
      "  'frequency).' % (btype, wn))\n",
      "C:\\ProgramData\\Anaconda3\\lib\\site-packages\\nilearn\\image\\resampling.py:510: UserWarning: Casting data from int16 to float32\n",
      "  warnings.warn(\"Casting data from %s to %s\" % (data.dtype.name, aux))\n",
      "C:\\ProgramData\\Anaconda3\\lib\\site-packages\\nilearn\\signal.py:180: UserWarning: The frequency specified for the low pass filter is too high to be handled by a digital filter (superior to nyquist frequency). It has been lowered to 1.00 (nyquist frequency).\n",
      "  'frequency).' % (btype, wn))\n",
      "C:\\ProgramData\\Anaconda3\\lib\\site-packages\\nilearn\\image\\resampling.py:510: UserWarning: Casting data from int16 to float32\n",
      "  warnings.warn(\"Casting data from %s to %s\" % (data.dtype.name, aux))\n",
      "C:\\ProgramData\\Anaconda3\\lib\\site-packages\\nilearn\\signal.py:180: UserWarning: The frequency specified for the low pass filter is too high to be handled by a digital filter (superior to nyquist frequency). It has been lowered to 1.00 (nyquist frequency).\n",
      "  'frequency).' % (btype, wn))\n",
      "C:\\ProgramData\\Anaconda3\\lib\\site-packages\\nilearn\\image\\resampling.py:510: UserWarning: Casting data from int16 to float32\n",
      "  warnings.warn(\"Casting data from %s to %s\" % (data.dtype.name, aux))\n",
      "C:\\ProgramData\\Anaconda3\\lib\\site-packages\\nilearn\\signal.py:180: UserWarning: The frequency specified for the low pass filter is too high to be handled by a digital filter (superior to nyquist frequency). It has been lowered to 1.00 (nyquist frequency).\n",
      "  'frequency).' % (btype, wn))\n",
      "C:\\ProgramData\\Anaconda3\\lib\\site-packages\\nilearn\\image\\resampling.py:510: UserWarning: Casting data from int16 to float32\n",
      "  warnings.warn(\"Casting data from %s to %s\" % (data.dtype.name, aux))\n",
      "C:\\ProgramData\\Anaconda3\\lib\\site-packages\\nilearn\\signal.py:180: UserWarning: The frequency specified for the low pass filter is too high to be handled by a digital filter (superior to nyquist frequency). It has been lowered to 1.00 (nyquist frequency).\n",
      "  'frequency).' % (btype, wn))\n",
      "C:\\ProgramData\\Anaconda3\\lib\\site-packages\\nilearn\\image\\resampling.py:510: UserWarning: Casting data from int16 to float32\n",
      "  warnings.warn(\"Casting data from %s to %s\" % (data.dtype.name, aux))\n",
      "C:\\ProgramData\\Anaconda3\\lib\\site-packages\\nilearn\\signal.py:180: UserWarning: The frequency specified for the low pass filter is too high to be handled by a digital filter (superior to nyquist frequency). It has been lowered to 1.00 (nyquist frequency).\n",
      "  'frequency).' % (btype, wn))\n",
      "C:\\ProgramData\\Anaconda3\\lib\\site-packages\\nilearn\\image\\resampling.py:510: UserWarning: Casting data from int16 to float32\n",
      "  warnings.warn(\"Casting data from %s to %s\" % (data.dtype.name, aux))\n",
      "C:\\ProgramData\\Anaconda3\\lib\\site-packages\\nilearn\\signal.py:180: UserWarning: The frequency specified for the low pass filter is too high to be handled by a digital filter (superior to nyquist frequency). It has been lowered to 1.00 (nyquist frequency).\n",
      "  'frequency).' % (btype, wn))\n",
      "C:\\ProgramData\\Anaconda3\\lib\\site-packages\\nilearn\\image\\resampling.py:510: UserWarning: Casting data from int16 to float32\n",
      "  warnings.warn(\"Casting data from %s to %s\" % (data.dtype.name, aux))\n",
      "C:\\ProgramData\\Anaconda3\\lib\\site-packages\\nilearn\\signal.py:180: UserWarning: The frequency specified for the low pass filter is too high to be handled by a digital filter (superior to nyquist frequency). It has been lowered to 1.00 (nyquist frequency).\n",
      "  'frequency).' % (btype, wn))\n",
      "C:\\ProgramData\\Anaconda3\\lib\\site-packages\\nilearn\\image\\resampling.py:510: UserWarning: Casting data from int16 to float32\n",
      "  warnings.warn(\"Casting data from %s to %s\" % (data.dtype.name, aux))\n",
      "C:\\ProgramData\\Anaconda3\\lib\\site-packages\\nilearn\\signal.py:180: UserWarning: The frequency specified for the low pass filter is too high to be handled by a digital filter (superior to nyquist frequency). It has been lowered to 1.00 (nyquist frequency).\n",
      "  'frequency).' % (btype, wn))\n",
      "C:\\ProgramData\\Anaconda3\\lib\\site-packages\\nilearn\\image\\resampling.py:510: UserWarning: Casting data from int16 to float32\n",
      "  warnings.warn(\"Casting data from %s to %s\" % (data.dtype.name, aux))\n",
      "C:\\ProgramData\\Anaconda3\\lib\\site-packages\\nilearn\\signal.py:180: UserWarning: The frequency specified for the low pass filter is too high to be handled by a digital filter (superior to nyquist frequency). It has been lowered to 1.00 (nyquist frequency).\n",
      "  'frequency).' % (btype, wn))\n",
      "C:\\ProgramData\\Anaconda3\\lib\\site-packages\\nilearn\\image\\resampling.py:510: UserWarning: Casting data from int16 to float32\n",
      "  warnings.warn(\"Casting data from %s to %s\" % (data.dtype.name, aux))\n",
      "C:\\ProgramData\\Anaconda3\\lib\\site-packages\\nilearn\\signal.py:180: UserWarning: The frequency specified for the low pass filter is too high to be handled by a digital filter (superior to nyquist frequency). It has been lowered to 1.00 (nyquist frequency).\n",
      "  'frequency).' % (btype, wn))\n",
      "C:\\ProgramData\\Anaconda3\\lib\\site-packages\\nilearn\\image\\resampling.py:510: UserWarning: Casting data from int16 to float32\n",
      "  warnings.warn(\"Casting data from %s to %s\" % (data.dtype.name, aux))\n",
      "C:\\ProgramData\\Anaconda3\\lib\\site-packages\\nilearn\\signal.py:180: UserWarning: The frequency specified for the low pass filter is too high to be handled by a digital filter (superior to nyquist frequency). It has been lowered to 1.00 (nyquist frequency).\n",
      "  'frequency).' % (btype, wn))\n",
      "C:\\ProgramData\\Anaconda3\\lib\\site-packages\\nilearn\\image\\resampling.py:510: UserWarning: Casting data from int16 to float32\n",
      "  warnings.warn(\"Casting data from %s to %s\" % (data.dtype.name, aux))\n",
      "C:\\ProgramData\\Anaconda3\\lib\\site-packages\\nilearn\\signal.py:180: UserWarning: The frequency specified for the low pass filter is too high to be handled by a digital filter (superior to nyquist frequency). It has been lowered to 1.00 (nyquist frequency).\n",
      "  'frequency).' % (btype, wn))\n",
      "C:\\ProgramData\\Anaconda3\\lib\\site-packages\\nilearn\\image\\resampling.py:510: UserWarning: Casting data from int16 to float32\n",
      "  warnings.warn(\"Casting data from %s to %s\" % (data.dtype.name, aux))\n",
      "C:\\ProgramData\\Anaconda3\\lib\\site-packages\\nilearn\\signal.py:180: UserWarning: The frequency specified for the low pass filter is too high to be handled by a digital filter (superior to nyquist frequency). It has been lowered to 1.00 (nyquist frequency).\n",
      "  'frequency).' % (btype, wn))\n",
      "C:\\ProgramData\\Anaconda3\\lib\\site-packages\\nilearn\\image\\resampling.py:510: UserWarning: Casting data from int16 to float32\n",
      "  warnings.warn(\"Casting data from %s to %s\" % (data.dtype.name, aux))\n",
      "C:\\ProgramData\\Anaconda3\\lib\\site-packages\\nilearn\\signal.py:180: UserWarning: The frequency specified for the low pass filter is too high to be handled by a digital filter (superior to nyquist frequency). It has been lowered to 1.00 (nyquist frequency).\n",
      "  'frequency).' % (btype, wn))\n",
      "C:\\ProgramData\\Anaconda3\\lib\\site-packages\\nilearn\\image\\resampling.py:510: UserWarning: Casting data from int16 to float32\n",
      "  warnings.warn(\"Casting data from %s to %s\" % (data.dtype.name, aux))\n",
      "C:\\ProgramData\\Anaconda3\\lib\\site-packages\\nilearn\\signal.py:180: UserWarning: The frequency specified for the low pass filter is too high to be handled by a digital filter (superior to nyquist frequency). It has been lowered to 1.00 (nyquist frequency).\n",
      "  'frequency).' % (btype, wn))\n",
      "C:\\ProgramData\\Anaconda3\\lib\\site-packages\\nilearn\\image\\resampling.py:510: UserWarning: Casting data from int16 to float32\n",
      "  warnings.warn(\"Casting data from %s to %s\" % (data.dtype.name, aux))\n",
      "C:\\ProgramData\\Anaconda3\\lib\\site-packages\\nilearn\\signal.py:180: UserWarning: The frequency specified for the low pass filter is too high to be handled by a digital filter (superior to nyquist frequency). It has been lowered to 1.00 (nyquist frequency).\n",
      "  'frequency).' % (btype, wn))\n",
      "C:\\ProgramData\\Anaconda3\\lib\\site-packages\\nilearn\\image\\resampling.py:510: UserWarning: Casting data from int16 to float32\n",
      "  warnings.warn(\"Casting data from %s to %s\" % (data.dtype.name, aux))\n",
      "C:\\ProgramData\\Anaconda3\\lib\\site-packages\\nilearn\\signal.py:180: UserWarning: The frequency specified for the low pass filter is too high to be handled by a digital filter (superior to nyquist frequency). It has been lowered to 1.00 (nyquist frequency).\n",
      "  'frequency).' % (btype, wn))\n",
      "C:\\ProgramData\\Anaconda3\\lib\\site-packages\\nilearn\\image\\resampling.py:510: UserWarning: Casting data from int16 to float32\n",
      "  warnings.warn(\"Casting data from %s to %s\" % (data.dtype.name, aux))\n",
      "C:\\ProgramData\\Anaconda3\\lib\\site-packages\\nilearn\\signal.py:180: UserWarning: The frequency specified for the low pass filter is too high to be handled by a digital filter (superior to nyquist frequency). It has been lowered to 1.00 (nyquist frequency).\n",
      "  'frequency).' % (btype, wn))\n",
      "C:\\ProgramData\\Anaconda3\\lib\\site-packages\\nilearn\\image\\resampling.py:510: UserWarning: Casting data from int16 to float32\n",
      "  warnings.warn(\"Casting data from %s to %s\" % (data.dtype.name, aux))\n",
      "C:\\ProgramData\\Anaconda3\\lib\\site-packages\\nilearn\\signal.py:180: UserWarning: The frequency specified for the low pass filter is too high to be handled by a digital filter (superior to nyquist frequency). It has been lowered to 1.00 (nyquist frequency).\n",
      "  'frequency).' % (btype, wn))\n",
      "C:\\ProgramData\\Anaconda3\\lib\\site-packages\\nilearn\\image\\resampling.py:510: UserWarning: Casting data from int16 to float32\n",
      "  warnings.warn(\"Casting data from %s to %s\" % (data.dtype.name, aux))\n",
      "C:\\ProgramData\\Anaconda3\\lib\\site-packages\\nilearn\\signal.py:180: UserWarning: The frequency specified for the low pass filter is too high to be handled by a digital filter (superior to nyquist frequency). It has been lowered to 1.00 (nyquist frequency).\n",
      "  'frequency).' % (btype, wn))\n",
      "C:\\ProgramData\\Anaconda3\\lib\\site-packages\\nilearn\\image\\resampling.py:510: UserWarning: Casting data from int16 to float32\n",
      "  warnings.warn(\"Casting data from %s to %s\" % (data.dtype.name, aux))\n",
      "C:\\ProgramData\\Anaconda3\\lib\\site-packages\\nilearn\\signal.py:180: UserWarning: The frequency specified for the low pass filter is too high to be handled by a digital filter (superior to nyquist frequency). It has been lowered to 1.00 (nyquist frequency).\n",
      "  'frequency).' % (btype, wn))\n",
      "C:\\ProgramData\\Anaconda3\\lib\\site-packages\\nilearn\\image\\resampling.py:510: UserWarning: Casting data from int16 to float32\n",
      "  warnings.warn(\"Casting data from %s to %s\" % (data.dtype.name, aux))\n",
      "C:\\ProgramData\\Anaconda3\\lib\\site-packages\\nilearn\\signal.py:180: UserWarning: The frequency specified for the low pass filter is too high to be handled by a digital filter (superior to nyquist frequency). It has been lowered to 1.00 (nyquist frequency).\n",
      "  'frequency).' % (btype, wn))\n",
      "C:\\ProgramData\\Anaconda3\\lib\\site-packages\\nilearn\\image\\resampling.py:510: UserWarning: Casting data from int16 to float32\n",
      "  warnings.warn(\"Casting data from %s to %s\" % (data.dtype.name, aux))\n",
      "C:\\ProgramData\\Anaconda3\\lib\\site-packages\\nilearn\\signal.py:180: UserWarning: The frequency specified for the low pass filter is too high to be handled by a digital filter (superior to nyquist frequency). It has been lowered to 1.00 (nyquist frequency).\n",
      "  'frequency).' % (btype, wn))\n",
      "C:\\ProgramData\\Anaconda3\\lib\\site-packages\\nilearn\\image\\resampling.py:510: UserWarning: Casting data from int16 to float32\n",
      "  warnings.warn(\"Casting data from %s to %s\" % (data.dtype.name, aux))\n",
      "C:\\ProgramData\\Anaconda3\\lib\\site-packages\\nilearn\\signal.py:180: UserWarning: The frequency specified for the low pass filter is too high to be handled by a digital filter (superior to nyquist frequency). It has been lowered to 1.00 (nyquist frequency).\n",
      "  'frequency).' % (btype, wn))\n",
      "C:\\ProgramData\\Anaconda3\\lib\\site-packages\\nilearn\\image\\resampling.py:510: UserWarning: Casting data from int16 to float32\n",
      "  warnings.warn(\"Casting data from %s to %s\" % (data.dtype.name, aux))\n",
      "C:\\ProgramData\\Anaconda3\\lib\\site-packages\\nilearn\\signal.py:180: UserWarning: The frequency specified for the low pass filter is too high to be handled by a digital filter (superior to nyquist frequency). It has been lowered to 1.00 (nyquist frequency).\n",
      "  'frequency).' % (btype, wn))\n",
      "C:\\ProgramData\\Anaconda3\\lib\\site-packages\\nilearn\\image\\resampling.py:510: UserWarning: Casting data from int16 to float32\n",
      "  warnings.warn(\"Casting data from %s to %s\" % (data.dtype.name, aux))\n",
      "C:\\ProgramData\\Anaconda3\\lib\\site-packages\\nilearn\\signal.py:180: UserWarning: The frequency specified for the low pass filter is too high to be handled by a digital filter (superior to nyquist frequency). It has been lowered to 1.00 (nyquist frequency).\n",
      "  'frequency).' % (btype, wn))\n",
      "C:\\ProgramData\\Anaconda3\\lib\\site-packages\\nilearn\\image\\resampling.py:510: UserWarning: Casting data from int16 to float32\n",
      "  warnings.warn(\"Casting data from %s to %s\" % (data.dtype.name, aux))\n",
      "C:\\ProgramData\\Anaconda3\\lib\\site-packages\\nilearn\\signal.py:180: UserWarning: The frequency specified for the low pass filter is too high to be handled by a digital filter (superior to nyquist frequency). It has been lowered to 1.00 (nyquist frequency).\n",
      "  'frequency).' % (btype, wn))\n",
      "C:\\ProgramData\\Anaconda3\\lib\\site-packages\\nilearn\\image\\resampling.py:510: UserWarning: Casting data from int16 to float32\n",
      "  warnings.warn(\"Casting data from %s to %s\" % (data.dtype.name, aux))\n",
      "C:\\ProgramData\\Anaconda3\\lib\\site-packages\\nilearn\\signal.py:180: UserWarning: The frequency specified for the low pass filter is too high to be handled by a digital filter (superior to nyquist frequency). It has been lowered to 1.00 (nyquist frequency).\n",
      "  'frequency).' % (btype, wn))\n",
      "C:\\ProgramData\\Anaconda3\\lib\\site-packages\\nilearn\\image\\resampling.py:510: UserWarning: Casting data from int16 to float32\n",
      "  warnings.warn(\"Casting data from %s to %s\" % (data.dtype.name, aux))\n",
      "C:\\ProgramData\\Anaconda3\\lib\\site-packages\\nilearn\\signal.py:180: UserWarning: The frequency specified for the low pass filter is too high to be handled by a digital filter (superior to nyquist frequency). It has been lowered to 1.00 (nyquist frequency).\n",
      "  'frequency).' % (btype, wn))\n",
      "C:\\ProgramData\\Anaconda3\\lib\\site-packages\\nilearn\\image\\resampling.py:510: UserWarning: Casting data from int16 to float32\n",
      "  warnings.warn(\"Casting data from %s to %s\" % (data.dtype.name, aux))\n",
      "C:\\ProgramData\\Anaconda3\\lib\\site-packages\\nilearn\\signal.py:180: UserWarning: The frequency specified for the low pass filter is too high to be handled by a digital filter (superior to nyquist frequency). It has been lowered to 1.00 (nyquist frequency).\n",
      "  'frequency).' % (btype, wn))\n",
      "C:\\ProgramData\\Anaconda3\\lib\\site-packages\\nilearn\\image\\resampling.py:510: UserWarning: Casting data from int16 to float32\n",
      "  warnings.warn(\"Casting data from %s to %s\" % (data.dtype.name, aux))\n",
      "C:\\ProgramData\\Anaconda3\\lib\\site-packages\\nilearn\\signal.py:180: UserWarning: The frequency specified for the low pass filter is too high to be handled by a digital filter (superior to nyquist frequency). It has been lowered to 1.00 (nyquist frequency).\n",
      "  'frequency).' % (btype, wn))\n",
      "C:\\ProgramData\\Anaconda3\\lib\\site-packages\\nilearn\\image\\resampling.py:510: UserWarning: Casting data from int16 to float32\n",
      "  warnings.warn(\"Casting data from %s to %s\" % (data.dtype.name, aux))\n",
      "C:\\ProgramData\\Anaconda3\\lib\\site-packages\\nilearn\\signal.py:180: UserWarning: The frequency specified for the low pass filter is too high to be handled by a digital filter (superior to nyquist frequency). It has been lowered to 1.00 (nyquist frequency).\n",
      "  'frequency).' % (btype, wn))\n",
      "C:\\ProgramData\\Anaconda3\\lib\\site-packages\\nilearn\\image\\resampling.py:510: UserWarning: Casting data from int16 to float32\n",
      "  warnings.warn(\"Casting data from %s to %s\" % (data.dtype.name, aux))\n",
      "C:\\ProgramData\\Anaconda3\\lib\\site-packages\\nilearn\\signal.py:180: UserWarning: The frequency specified for the low pass filter is too high to be handled by a digital filter (superior to nyquist frequency). It has been lowered to 1.00 (nyquist frequency).\n",
      "  'frequency).' % (btype, wn))\n",
      "C:\\ProgramData\\Anaconda3\\lib\\site-packages\\nilearn\\image\\resampling.py:510: UserWarning: Casting data from int16 to float32\n",
      "  warnings.warn(\"Casting data from %s to %s\" % (data.dtype.name, aux))\n",
      "C:\\ProgramData\\Anaconda3\\lib\\site-packages\\nilearn\\signal.py:180: UserWarning: The frequency specified for the low pass filter is too high to be handled by a digital filter (superior to nyquist frequency). It has been lowered to 1.00 (nyquist frequency).\n",
      "  'frequency).' % (btype, wn))\n",
      "C:\\ProgramData\\Anaconda3\\lib\\site-packages\\nilearn\\image\\resampling.py:510: UserWarning: Casting data from int16 to float32\n",
      "  warnings.warn(\"Casting data from %s to %s\" % (data.dtype.name, aux))\n",
      "C:\\ProgramData\\Anaconda3\\lib\\site-packages\\nilearn\\signal.py:180: UserWarning: The frequency specified for the low pass filter is too high to be handled by a digital filter (superior to nyquist frequency). It has been lowered to 1.00 (nyquist frequency).\n",
      "  'frequency).' % (btype, wn))\n",
      "C:\\ProgramData\\Anaconda3\\lib\\site-packages\\nilearn\\image\\resampling.py:510: UserWarning: Casting data from int16 to float32\n",
      "  warnings.warn(\"Casting data from %s to %s\" % (data.dtype.name, aux))\n",
      "C:\\ProgramData\\Anaconda3\\lib\\site-packages\\nilearn\\signal.py:180: UserWarning: The frequency specified for the low pass filter is too high to be handled by a digital filter (superior to nyquist frequency). It has been lowered to 1.00 (nyquist frequency).\n",
      "  'frequency).' % (btype, wn))\n",
      "C:\\ProgramData\\Anaconda3\\lib\\site-packages\\nilearn\\image\\resampling.py:510: UserWarning: Casting data from int16 to float32\n",
      "  warnings.warn(\"Casting data from %s to %s\" % (data.dtype.name, aux))\n",
      "C:\\ProgramData\\Anaconda3\\lib\\site-packages\\nilearn\\signal.py:180: UserWarning: The frequency specified for the low pass filter is too high to be handled by a digital filter (superior to nyquist frequency). It has been lowered to 1.00 (nyquist frequency).\n",
      "  'frequency).' % (btype, wn))\n",
      "C:\\ProgramData\\Anaconda3\\lib\\site-packages\\nilearn\\image\\resampling.py:510: UserWarning: Casting data from int16 to float32\n",
      "  warnings.warn(\"Casting data from %s to %s\" % (data.dtype.name, aux))\n",
      "C:\\ProgramData\\Anaconda3\\lib\\site-packages\\nilearn\\signal.py:180: UserWarning: The frequency specified for the low pass filter is too high to be handled by a digital filter (superior to nyquist frequency). It has been lowered to 1.00 (nyquist frequency).\n",
      "  'frequency).' % (btype, wn))\n",
      "C:\\ProgramData\\Anaconda3\\lib\\site-packages\\nilearn\\image\\resampling.py:510: UserWarning: Casting data from int16 to float32\n",
      "  warnings.warn(\"Casting data from %s to %s\" % (data.dtype.name, aux))\n",
      "C:\\ProgramData\\Anaconda3\\lib\\site-packages\\nilearn\\signal.py:180: UserWarning: The frequency specified for the low pass filter is too high to be handled by a digital filter (superior to nyquist frequency). It has been lowered to 1.00 (nyquist frequency).\n",
      "  'frequency).' % (btype, wn))\n",
      "C:\\ProgramData\\Anaconda3\\lib\\site-packages\\nilearn\\image\\resampling.py:510: UserWarning: Casting data from int16 to float32\n",
      "  warnings.warn(\"Casting data from %s to %s\" % (data.dtype.name, aux))\n",
      "C:\\ProgramData\\Anaconda3\\lib\\site-packages\\nilearn\\signal.py:180: UserWarning: The frequency specified for the low pass filter is too high to be handled by a digital filter (superior to nyquist frequency). It has been lowered to 1.00 (nyquist frequency).\n",
      "  'frequency).' % (btype, wn))\n",
      "C:\\ProgramData\\Anaconda3\\lib\\site-packages\\nilearn\\image\\resampling.py:510: UserWarning: Casting data from int16 to float32\n",
      "  warnings.warn(\"Casting data from %s to %s\" % (data.dtype.name, aux))\n",
      "C:\\ProgramData\\Anaconda3\\lib\\site-packages\\nilearn\\signal.py:180: UserWarning: The frequency specified for the low pass filter is too high to be handled by a digital filter (superior to nyquist frequency). It has been lowered to 1.00 (nyquist frequency).\n",
      "  'frequency).' % (btype, wn))\n",
      "C:\\ProgramData\\Anaconda3\\lib\\site-packages\\nilearn\\image\\resampling.py:510: UserWarning: Casting data from int16 to float32\n",
      "  warnings.warn(\"Casting data from %s to %s\" % (data.dtype.name, aux))\n",
      "C:\\ProgramData\\Anaconda3\\lib\\site-packages\\nilearn\\signal.py:180: UserWarning: The frequency specified for the low pass filter is too high to be handled by a digital filter (superior to nyquist frequency). It has been lowered to 1.00 (nyquist frequency).\n",
      "  'frequency).' % (btype, wn))\n",
      "C:\\ProgramData\\Anaconda3\\lib\\site-packages\\nilearn\\image\\resampling.py:510: UserWarning: Casting data from int16 to float32\n",
      "  warnings.warn(\"Casting data from %s to %s\" % (data.dtype.name, aux))\n",
      "C:\\ProgramData\\Anaconda3\\lib\\site-packages\\nilearn\\signal.py:180: UserWarning: The frequency specified for the low pass filter is too high to be handled by a digital filter (superior to nyquist frequency). It has been lowered to 1.00 (nyquist frequency).\n",
      "  'frequency).' % (btype, wn))\n",
      "C:\\ProgramData\\Anaconda3\\lib\\site-packages\\nilearn\\image\\resampling.py:510: UserWarning: Casting data from int16 to float32\n",
      "  warnings.warn(\"Casting data from %s to %s\" % (data.dtype.name, aux))\n",
      "C:\\ProgramData\\Anaconda3\\lib\\site-packages\\nilearn\\signal.py:180: UserWarning: The frequency specified for the low pass filter is too high to be handled by a digital filter (superior to nyquist frequency). It has been lowered to 1.00 (nyquist frequency).\n",
      "  'frequency).' % (btype, wn))\n",
      "C:\\ProgramData\\Anaconda3\\lib\\site-packages\\nilearn\\image\\resampling.py:510: UserWarning: Casting data from int16 to float32\n",
      "  warnings.warn(\"Casting data from %s to %s\" % (data.dtype.name, aux))\n",
      "C:\\ProgramData\\Anaconda3\\lib\\site-packages\\nilearn\\signal.py:180: UserWarning: The frequency specified for the low pass filter is too high to be handled by a digital filter (superior to nyquist frequency). It has been lowered to 1.00 (nyquist frequency).\n",
      "  'frequency).' % (btype, wn))\n",
      "C:\\ProgramData\\Anaconda3\\lib\\site-packages\\nilearn\\image\\resampling.py:510: UserWarning: Casting data from int16 to float32\n",
      "  warnings.warn(\"Casting data from %s to %s\" % (data.dtype.name, aux))\n",
      "C:\\ProgramData\\Anaconda3\\lib\\site-packages\\nilearn\\signal.py:180: UserWarning: The frequency specified for the low pass filter is too high to be handled by a digital filter (superior to nyquist frequency). It has been lowered to 1.00 (nyquist frequency).\n",
      "  'frequency).' % (btype, wn))\n",
      "C:\\ProgramData\\Anaconda3\\lib\\site-packages\\nilearn\\image\\resampling.py:510: UserWarning: Casting data from int16 to float32\n",
      "  warnings.warn(\"Casting data from %s to %s\" % (data.dtype.name, aux))\n",
      "C:\\ProgramData\\Anaconda3\\lib\\site-packages\\nilearn\\signal.py:180: UserWarning: The frequency specified for the low pass filter is too high to be handled by a digital filter (superior to nyquist frequency). It has been lowered to 1.00 (nyquist frequency).\n",
      "  'frequency).' % (btype, wn))\n",
      "C:\\ProgramData\\Anaconda3\\lib\\site-packages\\nilearn\\image\\resampling.py:510: UserWarning: Casting data from int16 to float32\n",
      "  warnings.warn(\"Casting data from %s to %s\" % (data.dtype.name, aux))\n",
      "C:\\ProgramData\\Anaconda3\\lib\\site-packages\\nilearn\\signal.py:180: UserWarning: The frequency specified for the low pass filter is too high to be handled by a digital filter (superior to nyquist frequency). It has been lowered to 1.00 (nyquist frequency).\n",
      "  'frequency).' % (btype, wn))\n",
      "C:\\ProgramData\\Anaconda3\\lib\\site-packages\\nilearn\\image\\resampling.py:510: UserWarning: Casting data from int16 to float32\n",
      "  warnings.warn(\"Casting data from %s to %s\" % (data.dtype.name, aux))\n",
      "C:\\ProgramData\\Anaconda3\\lib\\site-packages\\nilearn\\signal.py:180: UserWarning: The frequency specified for the low pass filter is too high to be handled by a digital filter (superior to nyquist frequency). It has been lowered to 1.00 (nyquist frequency).\n",
      "  'frequency).' % (btype, wn))\n",
      "C:\\ProgramData\\Anaconda3\\lib\\site-packages\\nilearn\\image\\resampling.py:510: UserWarning: Casting data from int16 to float32\n",
      "  warnings.warn(\"Casting data from %s to %s\" % (data.dtype.name, aux))\n",
      "C:\\ProgramData\\Anaconda3\\lib\\site-packages\\nilearn\\signal.py:180: UserWarning: The frequency specified for the low pass filter is too high to be handled by a digital filter (superior to nyquist frequency). It has been lowered to 1.00 (nyquist frequency).\n",
      "  'frequency).' % (btype, wn))\n",
      "C:\\ProgramData\\Anaconda3\\lib\\site-packages\\nilearn\\image\\resampling.py:510: UserWarning: Casting data from int16 to float32\n",
      "  warnings.warn(\"Casting data from %s to %s\" % (data.dtype.name, aux))\n",
      "C:\\ProgramData\\Anaconda3\\lib\\site-packages\\nilearn\\signal.py:180: UserWarning: The frequency specified for the low pass filter is too high to be handled by a digital filter (superior to nyquist frequency). It has been lowered to 1.00 (nyquist frequency).\n",
      "  'frequency).' % (btype, wn))\n",
      "C:\\ProgramData\\Anaconda3\\lib\\site-packages\\nilearn\\image\\resampling.py:510: UserWarning: Casting data from int16 to float32\n",
      "  warnings.warn(\"Casting data from %s to %s\" % (data.dtype.name, aux))\n",
      "C:\\ProgramData\\Anaconda3\\lib\\site-packages\\nilearn\\signal.py:180: UserWarning: The frequency specified for the low pass filter is too high to be handled by a digital filter (superior to nyquist frequency). It has been lowered to 1.00 (nyquist frequency).\n",
      "  'frequency).' % (btype, wn))\n",
      "C:\\ProgramData\\Anaconda3\\lib\\site-packages\\nilearn\\image\\resampling.py:510: UserWarning: Casting data from int16 to float32\n",
      "  warnings.warn(\"Casting data from %s to %s\" % (data.dtype.name, aux))\n",
      "C:\\ProgramData\\Anaconda3\\lib\\site-packages\\nilearn\\signal.py:180: UserWarning: The frequency specified for the low pass filter is too high to be handled by a digital filter (superior to nyquist frequency). It has been lowered to 1.00 (nyquist frequency).\n",
      "  'frequency).' % (btype, wn))\n",
      "C:\\ProgramData\\Anaconda3\\lib\\site-packages\\nilearn\\image\\resampling.py:510: UserWarning: Casting data from int16 to float32\n",
      "  warnings.warn(\"Casting data from %s to %s\" % (data.dtype.name, aux))\n",
      "C:\\ProgramData\\Anaconda3\\lib\\site-packages\\nilearn\\signal.py:180: UserWarning: The frequency specified for the low pass filter is too high to be handled by a digital filter (superior to nyquist frequency). It has been lowered to 1.00 (nyquist frequency).\n",
      "  'frequency).' % (btype, wn))\n",
      "C:\\ProgramData\\Anaconda3\\lib\\site-packages\\nilearn\\image\\resampling.py:510: UserWarning: Casting data from int16 to float32\n",
      "  warnings.warn(\"Casting data from %s to %s\" % (data.dtype.name, aux))\n",
      "C:\\ProgramData\\Anaconda3\\lib\\site-packages\\nilearn\\signal.py:180: UserWarning: The frequency specified for the low pass filter is too high to be handled by a digital filter (superior to nyquist frequency). It has been lowered to 1.00 (nyquist frequency).\n",
      "  'frequency).' % (btype, wn))\n",
      "C:\\ProgramData\\Anaconda3\\lib\\site-packages\\nilearn\\image\\resampling.py:510: UserWarning: Casting data from int16 to float32\n",
      "  warnings.warn(\"Casting data from %s to %s\" % (data.dtype.name, aux))\n",
      "C:\\ProgramData\\Anaconda3\\lib\\site-packages\\nilearn\\signal.py:180: UserWarning: The frequency specified for the low pass filter is too high to be handled by a digital filter (superior to nyquist frequency). It has been lowered to 1.00 (nyquist frequency).\n",
      "  'frequency).' % (btype, wn))\n"
     ]
    },
    {
     "data": {
      "text/plain": [
       "'i got here'"
      ]
     },
     "metadata": {},
     "output_type": "display_data"
    }
   ],
   "source": [
    "# for each of our fmri scams, compute confounds, transform them into mask, and append\n",
    "# to time series list\n",
    "subject_time_series = []\n",
    "for file_path, confound in zip(file_paths, confounds):\n",
    "\n",
    "    # Computing some confounds\n",
    "    hv_confounds = mem.cache(image.high_variance_confounds)(\n",
    "        file_path, n_confounds=10)\n",
    "\n",
    "    region_ts = masker.transform(file_path, \n",
    "                                 confounds=[hv_confounds, confound])\n",
    "    subject_time_series.append(region_ts)\n",
    "\n",
    "display(\"i got here\")"
   ]
  },
  {
   "cell_type": "code",
   "execution_count": 5,
   "metadata": {},
   "outputs": [
    {
     "name": "stdout",
     "output_type": "stream",
     "text": [
      "(110, 150, 39, 1)\n",
      "(110, 2)\n",
      "(35, 2)\n",
      "(35, 150, 39, 1)\n"
     ]
    }
   ],
   "source": [
    "#Here is where I prepare the data for input\n",
    "X = np.array(subject_time_series)\n",
    "fullx = X.astype('float32').reshape(X.shape+(1,))\n",
    "\n",
    "#one-hot encoding\n",
    "Y = keras.utils.to_categorical(Y, len(np.unique(Y))) #one hot encoding\n",
    "\n",
    "x_train = fullx[:110]\n",
    "x_test = fullx[110:]\n",
    "y_train = Y[:110]\n",
    "y_test = Y[110:]\n",
    "print(x_train.shape)\n",
    "print(y_train.shape)\n",
    "print(y_test.shape)\n",
    "print(x_test.shape)"
   ]
  },
  {
   "cell_type": "code",
   "execution_count": 39,
   "metadata": {},
   "outputs": [
    {
     "name": "stdout",
     "output_type": "stream",
     "text": [
      "_________________________________________________________________\n",
      "Layer (type)                 Output Shape              Param #   \n",
      "=================================================================\n",
      "conv2d_27 (Conv2D)           (None, 149, 38, 256)      1280      \n",
      "_________________________________________________________________\n",
      "batch_normalization_14 (Batc (None, 149, 38, 256)      1024      \n",
      "_________________________________________________________________\n",
      "conv2d_28 (Conv2D)           (None, 142, 31, 128)      2097280   \n",
      "_________________________________________________________________\n",
      "batch_normalization_15 (Batc (None, 142, 31, 128)      512       \n",
      "_________________________________________________________________\n",
      "max_pooling2d_13 (MaxPooling (None, 71, 15, 128)       0         \n",
      "_________________________________________________________________\n",
      "dropout_17 (Dropout)         (None, 71, 15, 128)       0         \n",
      "_________________________________________________________________\n",
      "flatten_13 (Flatten)         (None, 136320)            0         \n",
      "_________________________________________________________________\n",
      "dense_11 (Dense)             (None, 128)               17449088  \n",
      "_________________________________________________________________\n",
      "dropout_18 (Dropout)         (None, 128)               0         \n",
      "_________________________________________________________________\n",
      "dense_12 (Dense)             (None, 2)                 258       \n",
      "=================================================================\n",
      "Total params: 19,549,442\n",
      "Trainable params: 19,548,674\n",
      "Non-trainable params: 768\n",
      "_________________________________________________________________\n"
     ]
    }
   ],
   "source": [
    "#time to finally build a model and test it!\n",
    "model1 = keras.Sequential()\n",
    "model1.add(keras.layers.Conv2D(256, kernel_size = (2,2), activation = 'relu'\n",
    "                              ,input_shape=[150,39,1]))\n",
    "#model1.add(keras.layer.MaxPooling2D(pool_size=(2,2)))\n",
    "model1.add(keras.layers.BatchNormalization(momentum=0.8))\n",
    "model1.add(keras.layers.Conv2D(128, (8,8), activation='relu'))\n",
    "model1.add(keras.layers.BatchNormalization(momentum=0.8))\n",
    "model1.add(keras.layers.MaxPooling2D(pool_size=(2,2)))\n",
    "model1.add(keras.layers.Dropout(0.6))\n",
    "model1.add(keras.layers.Flatten())\n",
    "model1.add(keras.layers.Dense(128, activation='relu'))\n",
    "model1.add(keras.layers.Dropout(0.3))\n",
    "model1.add(keras.layers.Dense(y_train.shape[1], activation='softmax')) #y_train.shape[1]??\n",
    "\n",
    "model1.compile(loss=keras.losses.categorical_crossentropy, optimizer=keras.optimizers.Adam(lr=0.0001),  \n",
    "              metrics=['accuracy']) #0.0001\n",
    "model1.summary()"
   ]
  },
  {
   "cell_type": "code",
   "execution_count": 40,
   "metadata": {},
   "outputs": [
    {
     "data": {
      "text/plain": [
       "'running...'"
      ]
     },
     "metadata": {},
     "output_type": "display_data"
    },
    {
     "data": {
      "application/vnd.jupyter.widget-view+json": {
       "model_id": "b4e5b6eb03924208847537b3df94d238",
       "version_major": 2,
       "version_minor": 0
      },
      "text/plain": [
       "HBox(children=(IntProgress(value=0, description='Training', max=20, style=ProgressStyle(description_width='ini…"
      ]
     },
     "metadata": {},
     "output_type": "display_data"
    },
    {
     "data": {
      "application/vnd.jupyter.widget-view+json": {
       "model_id": "",
       "version_major": 2,
       "version_minor": 0
      },
      "text/plain": [
       "HBox(children=(IntProgress(value=0, description='Epoch 0', max=99, style=ProgressStyle(description_width='init…"
      ]
     },
     "metadata": {},
     "output_type": "display_data"
    },
    {
     "data": {
      "application/vnd.jupyter.widget-view+json": {
       "model_id": "",
       "version_major": 2,
       "version_minor": 0
      },
      "text/plain": [
       "HBox(children=(IntProgress(value=0, description='Epoch 1', max=99, style=ProgressStyle(description_width='init…"
      ]
     },
     "metadata": {},
     "output_type": "display_data"
    },
    {
     "data": {
      "application/vnd.jupyter.widget-view+json": {
       "model_id": "",
       "version_major": 2,
       "version_minor": 0
      },
      "text/plain": [
       "HBox(children=(IntProgress(value=0, description='Epoch 2', max=99, style=ProgressStyle(description_width='init…"
      ]
     },
     "metadata": {},
     "output_type": "display_data"
    },
    {
     "data": {
      "application/vnd.jupyter.widget-view+json": {
       "model_id": "",
       "version_major": 2,
       "version_minor": 0
      },
      "text/plain": [
       "HBox(children=(IntProgress(value=0, description='Epoch 3', max=99, style=ProgressStyle(description_width='init…"
      ]
     },
     "metadata": {},
     "output_type": "display_data"
    },
    {
     "data": {
      "application/vnd.jupyter.widget-view+json": {
       "model_id": "",
       "version_major": 2,
       "version_minor": 0
      },
      "text/plain": [
       "HBox(children=(IntProgress(value=0, description='Epoch 4', max=99, style=ProgressStyle(description_width='init…"
      ]
     },
     "metadata": {},
     "output_type": "display_data"
    },
    {
     "data": {
      "application/vnd.jupyter.widget-view+json": {
       "model_id": "",
       "version_major": 2,
       "version_minor": 0
      },
      "text/plain": [
       "HBox(children=(IntProgress(value=0, description='Epoch 5', max=99, style=ProgressStyle(description_width='init…"
      ]
     },
     "metadata": {},
     "output_type": "display_data"
    },
    {
     "data": {
      "application/vnd.jupyter.widget-view+json": {
       "model_id": "",
       "version_major": 2,
       "version_minor": 0
      },
      "text/plain": [
       "HBox(children=(IntProgress(value=0, description='Epoch 6', max=99, style=ProgressStyle(description_width='init…"
      ]
     },
     "metadata": {},
     "output_type": "display_data"
    },
    {
     "data": {
      "application/vnd.jupyter.widget-view+json": {
       "model_id": "",
       "version_major": 2,
       "version_minor": 0
      },
      "text/plain": [
       "HBox(children=(IntProgress(value=0, description='Epoch 7', max=99, style=ProgressStyle(description_width='init…"
      ]
     },
     "metadata": {},
     "output_type": "display_data"
    },
    {
     "data": {
      "application/vnd.jupyter.widget-view+json": {
       "model_id": "",
       "version_major": 2,
       "version_minor": 0
      },
      "text/plain": [
       "HBox(children=(IntProgress(value=0, description='Epoch 8', max=99, style=ProgressStyle(description_width='init…"
      ]
     },
     "metadata": {},
     "output_type": "display_data"
    },
    {
     "data": {
      "application/vnd.jupyter.widget-view+json": {
       "model_id": "",
       "version_major": 2,
       "version_minor": 0
      },
      "text/plain": [
       "HBox(children=(IntProgress(value=0, description='Epoch 9', max=99, style=ProgressStyle(description_width='init…"
      ]
     },
     "metadata": {},
     "output_type": "display_data"
    },
    {
     "data": {
      "application/vnd.jupyter.widget-view+json": {
       "model_id": "",
       "version_major": 2,
       "version_minor": 0
      },
      "text/plain": [
       "HBox(children=(IntProgress(value=0, description='Epoch 10', max=99, style=ProgressStyle(description_width='ini…"
      ]
     },
     "metadata": {},
     "output_type": "display_data"
    },
    {
     "data": {
      "application/vnd.jupyter.widget-view+json": {
       "model_id": "",
       "version_major": 2,
       "version_minor": 0
      },
      "text/plain": [
       "HBox(children=(IntProgress(value=0, description='Epoch 11', max=99, style=ProgressStyle(description_width='ini…"
      ]
     },
     "metadata": {},
     "output_type": "display_data"
    },
    {
     "data": {
      "application/vnd.jupyter.widget-view+json": {
       "model_id": "",
       "version_major": 2,
       "version_minor": 0
      },
      "text/plain": [
       "HBox(children=(IntProgress(value=0, description='Epoch 12', max=99, style=ProgressStyle(description_width='ini…"
      ]
     },
     "metadata": {},
     "output_type": "display_data"
    },
    {
     "data": {
      "application/vnd.jupyter.widget-view+json": {
       "model_id": "",
       "version_major": 2,
       "version_minor": 0
      },
      "text/plain": [
       "HBox(children=(IntProgress(value=0, description='Epoch 13', max=99, style=ProgressStyle(description_width='ini…"
      ]
     },
     "metadata": {},
     "output_type": "display_data"
    },
    {
     "data": {
      "application/vnd.jupyter.widget-view+json": {
       "model_id": "",
       "version_major": 2,
       "version_minor": 0
      },
      "text/plain": [
       "HBox(children=(IntProgress(value=0, description='Epoch 14', max=99, style=ProgressStyle(description_width='ini…"
      ]
     },
     "metadata": {},
     "output_type": "display_data"
    },
    {
     "data": {
      "application/vnd.jupyter.widget-view+json": {
       "model_id": "",
       "version_major": 2,
       "version_minor": 0
      },
      "text/plain": [
       "HBox(children=(IntProgress(value=0, description='Epoch 15', max=99, style=ProgressStyle(description_width='ini…"
      ]
     },
     "metadata": {},
     "output_type": "display_data"
    },
    {
     "data": {
      "application/vnd.jupyter.widget-view+json": {
       "model_id": "",
       "version_major": 2,
       "version_minor": 0
      },
      "text/plain": [
       "HBox(children=(IntProgress(value=0, description='Epoch 16', max=99, style=ProgressStyle(description_width='ini…"
      ]
     },
     "metadata": {},
     "output_type": "display_data"
    },
    {
     "data": {
      "application/vnd.jupyter.widget-view+json": {
       "model_id": "",
       "version_major": 2,
       "version_minor": 0
      },
      "text/plain": [
       "HBox(children=(IntProgress(value=0, description='Epoch 17', max=99, style=ProgressStyle(description_width='ini…"
      ]
     },
     "metadata": {},
     "output_type": "display_data"
    },
    {
     "data": {
      "application/vnd.jupyter.widget-view+json": {
       "model_id": "",
       "version_major": 2,
       "version_minor": 0
      },
      "text/plain": [
       "HBox(children=(IntProgress(value=0, description='Epoch 18', max=99, style=ProgressStyle(description_width='ini…"
      ]
     },
     "metadata": {},
     "output_type": "display_data"
    },
    {
     "data": {
      "application/vnd.jupyter.widget-view+json": {
       "model_id": "",
       "version_major": 2,
       "version_minor": 0
      },
      "text/plain": [
       "HBox(children=(IntProgress(value=0, description='Epoch 19', max=99, style=ProgressStyle(description_width='ini…"
      ]
     },
     "metadata": {},
     "output_type": "display_data"
    },
    {
     "name": "stdout",
     "output_type": "stream",
     "text": [
      "Finished\n"
     ]
    }
   ],
   "source": [
    "#model1.compile(loss=keras.losses.categorical_crossentropy, optimizer=keras.optimizers.Adam(), metrics=['accuracy'])\n",
    "batch_size = 10\n",
    "epochs = 20\n",
    "validation_split = 0.1\n",
    "display(\"running...\")\n",
    "\n",
    "history = model1.fit(x_train, y_train, batch_size = batch_size, epochs = epochs\n",
    "                     , verbose = 0, validation_split = validation_split, callbacks=[TQDMNotebookCallback()])\n",
    "\n",
    "print(\"Finished\")"
   ]
  },
  {
   "cell_type": "code",
   "execution_count": 41,
   "metadata": {},
   "outputs": [
    {
     "name": "stdout",
     "output_type": "stream",
     "text": []
    },
    {
     "name": "stdout",
     "output_type": "stream",
     "text": [
      "35/35 [==============================] - 13s 362ms/step\n",
      "Accuracy: 45.714285714285715 %\n"
     ]
    }
   ],
   "source": [
    "print('Accuracy:',model1.evaluate(x_test,y_test)[1]*100.0,'%')"
   ]
  },
  {
   "cell_type": "code",
   "execution_count": 42,
   "metadata": {},
   "outputs": [
    {
     "data": {
      "image/png": "[encoded data removed]",
      "text/plain": [
       "<Figure size 432x288 with 2 Axes>"
      ]
     },
     "metadata": {
      "needs_background": "light"
     },
     "output_type": "display_data"
    }
   ],
   "source": [
    "plt.figure()\n",
    "plt.subplot(211)\n",
    "\n",
    "#summarize accuracy history\n",
    "plt.plot(history.history['acc'])\n",
    "plt.plot(history.history['val_acc'])\n",
    "plt.title('model accuracy')\n",
    "plt.xlabel('epoch')\n",
    "plt.ylabel('accuracy')\n",
    "plt.legend(['train', 'test'], loc='upper left')\n",
    "\n",
    "#summarize loss history\n",
    "plt.subplot(212)\n",
    "plt.plot(history.history['loss'])\n",
    "plt.plot(history.history['val_loss'])\n",
    "plt.title('model loss')\n",
    "plt.xlabel('epoch')\n",
    "plt.ylabel('loss')\n",
    "plt.legend(['train', 'test'], loc='upper left')\n",
    "\n",
    "\n",
    "plt.tight_layout()\n",
    "plt.show()"
   ]
  },
  {
   "cell_type": "markdown",
   "metadata": {},
   "source": [
    "## Evaluation\n",
    "This was the best *true* network I got out of the bunch. I call it a true network because it exhibited traits of learning and simply over-fit to the training data and didn't generalize well.\n",
    "\n",
    "More things to try if I had extra time would be:\n",
    "* carefully varying the learning rate to see if I could get better generalization\n",
    "* trying to add a recurrency layer. I made an attempt but it was quickly getting to complicated, and I needed to move on\n",
    "* more preprocessing\n",
    "* messing with the kernel sizes a bit more than I did. I tended to focus more on the number of neurons in the layer as opposed to the kernel size."
   ]
  },
  {
   "cell_type": "code",
   "execution_count": null,
   "metadata": {},
   "outputs": [],
   "source": []
  }
 ],
 "metadata": {
  "kernelspec": {
   "display_name": "Python 3",
   "language": "python",
   "name": "python3"
  },
  "language_info": {
   "codemirror_mode": {
    "name": "ipython",
    "version": 3
   },
   "file_extension": ".py",
   "mimetype": "text/x-python",
   "name": "python",
   "nbconvert_exporter": "python",
   "pygments_lexer": "ipython3",
   "version": "3.7.3"
  }
 },
 "nbformat": 4,
 "nbformat_minor": 2
}
