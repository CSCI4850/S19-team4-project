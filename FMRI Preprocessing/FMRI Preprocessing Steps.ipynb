{
 "cells": [
  {
   "cell_type": "code",
   "execution_count": 1,
   "metadata": {},
   "outputs": [
    {
     "name": "stderr",
     "output_type": "stream",
     "text": [
      "Using TensorFlow backend.\n"
     ]
    }
   ],
   "source": [
    "import os\n",
    "import numpy as np\n",
    "from nibabel.testing import data_path\n",
    "import nibabel as nib\n",
    "\n",
    "import keras\n",
    "from keras import backend as K\n",
    "import numpy as np\n",
    "import matplotlib.pyplot as plt\n",
    "from mpl_toolkits.mplot3d import axes3d\n",
    "%matplotlib inline\n",
    "from IPython.display import display\n"
   ]
  },
  {
   "cell_type": "code",
   "execution_count": 20,
   "metadata": {},
   "outputs": [],
   "source": [
    "import nilearn\n",
    "from nilearn import plotting\n",
    "from nilearn import image\n",
    "from nilearn import datasets"
   ]
  },
  {
   "cell_type": "code",
   "execution_count": 21,
   "metadata": {},
   "outputs": [],
   "source": [
    "# Get dataset with nilearn function\n",
    "# if not downloaded, will download. If already downloaded, will uses local version\n",
    "dataset = nilearn.datasets.fetch_cobre(n_subjects=146, data_dir=\"/Users/KJP/Desktop/neural nets/Cobre Dataset2\", url=None, verbose=1)\n"
   ]
  },
  {
   "cell_type": "code",
   "execution_count": 97,
   "metadata": {},
   "outputs": [
    {
     "data": {
      "text/plain": [
       "(40000, 20, b'Female', b'Right', b'Patient', b'295.9', 140, 0.21234, 0.20245)"
      ]
     },
     "metadata": {},
     "output_type": "display_data"
    },
    {
     "data": {
      "text/plain": [
       "'/Users/KJP/Desktop/neural nets/Cobre Dataset2/cobre/fmri_0040000.nii.gz'"
      ]
     },
     "metadata": {},
     "output_type": "display_data"
    },
    {
     "data": {
      "text/plain": [
       "list"
      ]
     },
     "execution_count": 97,
     "metadata": {},
     "output_type": "execute_result"
    }
   ],
   "source": [
    "phenotypes = dataset[\"phenotypic\"]\n",
    "file_paths = dataset[\"func\"]\n",
    "phenotypes.sort(0) #sort by column corresponding to patient number\n",
    "file_paths.sort() #sort file names by alphabetical order, which will result in sorting by patient number\n",
    "display(phenotypes[0])\n",
    "display(file_paths[0])\n",
    "#file_paths is now a regular python list of the file paths to the fmri scans\n",
    "#phenotypes is now a np.recarray of np.records storing patient info"
   ]
  },
  {
   "cell_type": "code",
   "execution_count": 98,
   "metadata": {},
   "outputs": [],
   "source": [
    "# get just the diagnosis information from the phenotypes\n",
    "diagnosis = phenotypes['diagnosis']\n",
    "diagnosis_converted = []\n",
    "#this stem is necessary to convert np.byte array into strings, and then fit those strings into 2 categories:\n",
    "#Schizophrenia or no Schizophrenia\n",
    "for item in diagnosis:\n",
    "    s = item.decode('UTF-8')\n",
    "    if s != \"None\":\n",
    "        diagnosis_converted.append(float(1))   #person has schizophrenia\n",
    "    else:\n",
    "        diagnosis_converted.append(float(0))   #person doesn't have schizophrenia\n",
    "\n",
    "del diagnosis_converted[74]                  # item 74 is a messed up scan with different dimensions\n",
    "del file_paths[74]                           # so it needs to be removed\n",
    "\n",
    "y_train = np.array(diagnosis_converted)\n",
    "y_train = keras.utils.to_categorical(y_train, len(np.unique(y_train))) #one hot encoding"
   ]
  },
  {
   "cell_type": "code",
   "execution_count": 108,
   "metadata": {},
   "outputs": [],
   "source": [
    "# Make x train from the file paths\n",
    "scans = []\n",
    "for item in file_paths:\n",
    "    scan = nib.load(item)\n",
    "    data = scan.get_fdata()\n",
    "    scans.append(data)\n",
    "x_train = np.array(scans)"
   ]
  },
  {
   "cell_type": "code",
   "execution_count": 112,
   "metadata": {},
   "outputs": [
    {
     "data": {
      "text/plain": [
       "(145, 27, 32, 26, 150)"
      ]
     },
     "execution_count": 112,
     "metadata": {},
     "output_type": "execute_result"
    }
   ],
   "source": [
    "#X train is now 145 different fmri scans, with dimensions 27x32x26x150\n",
    "#the 27x32x26 is length width and height\n",
    "#the 150 is time, there are 150 different 3d 'voxels' or times for each full fmri scan\n",
    "x_train.shape"
   ]
  },
  {
   "cell_type": "code",
   "execution_count": 113,
   "metadata": {},
   "outputs": [
    {
     "data": {
      "text/plain": [
       "(145, 2)"
      ]
     },
     "execution_count": 113,
     "metadata": {},
     "output_type": "execute_result"
    }
   ],
   "source": [
    "#Y train is simply 145 numpy arrays of either [0,1] or [1,0], representing whether the patient has schizophrenia or not\n",
    "y_train.shape\n"
   ]
  },
  {
   "cell_type": "code",
   "execution_count": 117,
   "metadata": {},
   "outputs": [],
   "source": [
    "np.save('/Users/KJP/Desktop/neural nets/Codes/XData.npy', x_train)\n",
    "np.save('/Users/KJP/Desktop/neural nets/Codes/YData.npy', y_train)\n",
    "\n"
   ]
  },
  {
   "cell_type": "code",
   "execution_count": null,
   "metadata": {},
   "outputs": [],
   "source": []
  }
 ],
 "metadata": {
  "kernelspec": {
   "display_name": "Python 3",
   "language": "python",
   "name": "python3"
  },
  "language_info": {
   "codemirror_mode": {
    "name": "ipython",
    "version": 3
   },
   "file_extension": ".py",
   "mimetype": "text/x-python",
   "name": "python",
   "nbconvert_exporter": "python",
   "pygments_lexer": "ipython3",
   "version": "3.6.7"
  }
 },
 "nbformat": 4,
 "nbformat_minor": 2
}
