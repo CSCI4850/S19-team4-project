{
 "cells": [
  {
   "cell_type": "markdown",
   "metadata": {},
   "source": [
    "# Perceptron Demo - Distinguishing Traces of Schizophrenia"
   ]
  },
  {
   "cell_type": "markdown",
   "metadata": {},
   "source": [
    "## CSCI 4850-5850 - Neural Networks"
   ]
  },
  {
   "cell_type": "markdown",
   "metadata": {},
   "source": [
    "Being able to detect traces of schizophrenia in a person's brain can be a valuable thing. Diagnosing schizophrenia can be done in a variety of ways, such as physical examinations, tests and screenings, or psychiatric evaluation. Obtaining a solid diagnosis can be difficult and time/cost consuming. In our project, we wanted to apply the use of neural nets to try and detect traces of schizophrenia and accurately diagnose it."
   ]
  },
  {
   "cell_type": "markdown",
   "metadata": {},
   "source": [
    "## What data to use - fMRI"
   ]
  },
  {
   "cell_type": "markdown",
   "metadata": {},
   "source": [
    "There are several ways to detect schizophrenia, but one of the most popular ways is through brain scans. Since schizophrenia is diagnosed as a mental disorder, the brain is directly correlated with it. The dopamine produced by the brain is tied to the hallucinations that schizophrenic patients see or hear. A good way to detect the activity of the brain is through Functional Magnetic Resonance Imaging (fMRI). An fMRI measures the flow of blood in one's brain. By viewing an fMRI, a doctor can see if certain activity/inactivity in a region of the patient's brain could be a sign of schizophrenia. So, since we have an image that can tell us if a patient has traces of schizophrenia, we can plug that into a neural net to see if it can detect it for us! Hopefully, this will allow doctors to just be able to scan a patient's brain, plug in into the neural net, and wait for the net to decide if that patient has schizophrenia or not. However, we want the highest possible accuracy we can get in order to cut down on misdiagnoses, time and cost."
   ]
  },
  {
   "cell_type": "markdown",
   "metadata": {},
   "source": [
    "## The issue with fMRI"
   ]
  },
  {
   "cell_type": "markdown",
   "metadata": {},
   "source": [
    "Since fMRI is a highly valuable dataset with a lot of information packed into a few dimensions, this proves it to be difficult to use in a neural net. An fMRI is a scan of the patient's brain sliced into several regions over several timestamps. Let's take a look at the data."
   ]
  },
  {
   "cell_type": "code",
   "execution_count": null,
   "metadata": {},
   "outputs": [],
   "source": []
  }
 ],
 "metadata": {
  "kernelspec": {
   "display_name": "Python 3",
   "language": "python",
   "name": "python3"
  },
  "language_info": {
   "codemirror_mode": {
    "name": "ipython",
    "version": 3
   },
   "file_extension": ".py",
   "mimetype": "text/x-python",
   "name": "python",
   "nbconvert_exporter": "python",
   "pygments_lexer": "ipython3",
   "version": "3.6.7"
  }
 },
 "nbformat": 4,
 "nbformat_minor": 2
}
