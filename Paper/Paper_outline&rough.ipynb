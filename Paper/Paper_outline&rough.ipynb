{
 "cells": [
  {
   "cell_type": "markdown",
   "metadata": {},
   "source": [
    "This project came about from Dr. Philips' 2019 Neural Networks class held at Middle Tennessee State University. Project groups were formed around ideas for training neural networks. Our group decided on teaching two architecturally different nets to detect schizophrenia from fMRI data. We had two goals we wanted to achieve and learn from. First we wanted to obtain an accuracy above 75% in schizophrenia detection for both nets. This would provide evidence that neural nets could be effectivly used to detect shizophrenia. Second we planned to compare and contrast the differences in the nets. We will observe and take note of characteristics like: training speed, size of input data, number of neurons, numer of layers, complexity of preprocessing, complexity of implementation, and overall feasibility of use within an fMRI analysis environment. The two architectures chosen were an multi-layer network and a convolutional network. The learning ability of the two nets will be the primary focus of observation. With learning success being determined if the networks were able to detect schizophrenia within our accuracy range.\n",
    "\n",
    "For the reader's convenience, we will give a brief overview of fMRI as well as the properties of the data used for this project. Functional magnetic resonance imaging (fMRI) is a technique used to map the brain. More specifically, it gives the ability to see neural activity by measuring the brain's blood-flow over a period of time. It involves using two powerful electromagnets and a radiofrequency burst to detect the Nuclear Magnetic Resonance of hydrogen protons. This allows for detection of the presense of oxygenated blood at very specific locations which means neuron activity can be seen as active neurons draw oxygenated blood \\cite{b1}. What makes fMRI useful is that certain regions of the brain only activate when performing certain tasks. For instance, different layers of the visual cortex will activate when looking at different images; likewise, different parts of the motor cortex \"light up\" when the patient is performing different physical movements. To depict this, fMRI data uses the BOLD (Blood-Oxygen-Level Dependent) technique to color code neural activity. The data is broken up into 2D slices that when combined, create a 3D image of the patient's brain. This 3D image is made up of voxels (volumetric pixels or 3D pixels) each of which represents millions of neurons. Additionally, those images are taken multiple times over several minutes. This ends up translating to the data being very large (sometimes up to thousands of voxels) and having lots of noise (unrelated neurons). Processing the data into something more useful to analyze is not only important but can also be a difficult task.\n",
    "\n",
    "The tools used in this project were Nilearn and keras. Keras provided the means for the construction of the nets. Nilearn was used for our data cleaning and preprocessing, masking our FMRI to a brain atlas, Computing the covariance matrix for our Masked FMRI data, and generating images and plots of our data. Several research articles provided the resources for the foundation of this project. For building our multi-layer net, the article \"Functional connections from resting-state fMRI\" provide us a good outline for cleaning the data and finding regions of interest \\cite{b2}. We also used their technique for computing a correlation matrix on those regions of interest. It is also worth mentioning that using neural nets for learning fMRI data is not untreded territory. In the paper \"Classification of Schizophrenia Versus Normal Subjects Using Deep Learning\", the group used layers of autoencoders called SAE (stacked autoencoder) to make a based two-stage architecture to detect schizophrenia.  Using the COBRE dataset they were able to achieve a classification accuracy of 92%.\n",
    "\n",
    "\n"
   ]
  },
  {
   "cell_type": "markdown",
   "metadata": {},
   "source": [
    "The data we chose for this project was the COBRE dataset. This dataset contains fMRI data from 72 patients with schizophrenia and 75 without (COBRE). Ages ranged from 18 to 65. Patients were excluded if they had any history of serious mental health (physical or cognitive) in the last 12 months. The data itself measures blood oxeygen levels in a 4D matrix (subject#, X, Y, Z, t). After getting our data, we moved on to preprocessing. For our multi-layer network, we approached the data with the goal to reduce it to a statistical format. We started with detrending, standardizing, and then running the data through high and low pass filters. The outputed data remained the same shape which was still too large. To solve this, we ran it through a mask called MSDL atlas (cite). The tool took the information and broke it into 39 regions each containing the averages of the fMRI blood oxeygen levels all of the voxels. Ultimately, it significantly reduced both the size and noise of the data. The data was now in the form: (subject#, region of interest, t). Next we needed information on how the regions of interest were connected. To do this, we computed a covariance matrix of the masks using the group sparse covariance method. Now we had covariance values to tell us how connected each of the 39 regions were to one another giving us the array: (subject#, region of interest, region of interest). Our final modification of the data was to flatten it into a 1D vector. Due to the symmetric characteristic of covariance matrices, only half of the values would be pulled thus making the final array: (patient#, regions of interest flattened). This array would be the input layer for the multi-layer neural network. It would be followed by a 10% dropout layer to get better generalization. This layer is followed by a hidden layer containing 350 parameters which use the ReLu activation function alongside batch normalization. The ouput layer uses Binary Cross-entropy Loss and sigmoid activation. The network's output is a single binary response, telling us the network's classification of whether or not the patient had schizophrenia. Our convolutional network used a different approach..."
   ]
  },
  {
   "cell_type": "markdown",
   "metadata": {},
   "source": [
    "To measure the quality of the multi-layer network, we used K cross validation to get the accuracy over multiple class label splits. Our results were an average of 77.87% accuracy with k=10. The convolutional net was unable to achieve an accuracy higher than 70%."
   ]
  },
  {
   "cell_type": "markdown",
   "metadata": {},
   "source": [
    "Schizophrenia was most accurately predicted using a Feedforward Multilayer Neural Network with an individual Covariance Matrix input for each subject. This method outperformed a Convolutional 2d Neural Network with masked FMRI signal input. These results may be explained by the fact that Covariance Matrix inputs take into account the connectivity of different brain regions, while the masked FMRI signal input does not take connectivity of the brain into account. Functional Connectivity is often cited in the literature as a helpful tool for FMRI \n",
    "decoding and classification problems (Smith). It has also been found that brain functional connectivity strength is often reduced in patients with Schizophrenia /cite{b5}. Schizophrenic patients have a more diverse mode of connectivity to the rest of the brain that is less coordinated than nonSchizophrenic patients. For this reason, the Covariance Functional Connectivity Matrices calculated on the COBRE dataset allowed the Neural Network used in this project to pick up on these differences in Schizophrenic and non-Schizophrenic Connectivity. Our results confirm these findings in the literature in that Connectivity Matrices provided the best input for neural network classification. It is feasible that the Convolutional 2d method would have been able to produce a similar accuracy to the Covariance method if given enough training time. In the literature, Convolutional\n",
    "Neural Networks have been used to automatically recognize Functional Connectivity /cite{b6}.This method was limited by the computation time and space that was available in this project. While this method of classification did not perform better than chance, we cannot confidently say that this method cannot perform well. One direction that could potentially be explored in the future is the use of Convolutional Networks on Functional Connectivity Matrices. While this project resulted in good results with a regular Multilayer Network, perhaps Convolutional Networks would be able to more accurately pick up on patterns in the Functional Connectivity of the brain.\n",
    "The findings of this project support the idea that Schizophrenia is a disorder that affects the connectivity of different regions of the brain /cite{b5}, same source as first link). Future research could be conducted using this method, and changing the brain atlas regions used to mask the data. For this project, the MSDL brain atlas consisting of 39 different brain regions was used. Experimentation with different atlases and regions of interest could provide more information and insight as to which specific brain connections that Schizophrenia affects the most."
   ]
  },
  {
   "cell_type": "raw",
   "metadata": {},
   "source": [
    "@article{b1,\n",
    "  author = \"Xin Yang\",\n",
    "   title = \"Machine learning techniques for high-dimensional neuroimaging data analysis\",\n",
    "    year = 2016\n",
    "}\n",
    "\n",
    "@article{b2,\n",
    "  author = \"Smith SM, Vidaurre D, Beckmann CF, et al.\",\n",
    "  title = \"Functional connectomics from resting-state fMRI\",\n",
    " journal = \"Trends Cogn Sci\",\n",
    "  volume = 17,\n",
    "    year = 2013,\n",
    "    pages = \"666-682\"\n",
    "}\n",
    "\n",
    "@article{b3,\n",
    "  author = \"Meenakshi Khosla, Keith Jamison, Gia H. Ngo, Amy Kuceyeski, Mert R. Sabuncu\",\n",
    "  title = \"Machine learning in resting state fMRI\",\n",
    " journal = \"Trends Cogn Sci\",\n",
    "    year = 2018\n",
    "}\n",
    "\n",
    "@article{b4,\n",
    "  author = \"Pinkal Patel, Priya Aggarwal, and Anubha Gupta\",\n",
    "  title = \"Classification of schizophrenia versus normal subjects using deep learning\",\n",
    "  year = 2016\n",
    "}\n",
    "\n",
    "@article{b5,\n",
    "  author = \"Lynall ME, Bassett DS, Kerwin R, et al.\",\n",
    "  title = \"Functional connectivity and brain networks in schizophrenia\",\n",
    " journal = \"J Neurosci\",\n",
    "  volume = 30,\n",
    "    year = 2010,\n",
    "    pages = \"9477-9487\"\n",
    "}\n",
    "\n",
    "@article{b6,\n",
    "  author = \"Yu Zhao, Qinglin Dong, Shu Zhang, et al.\",\n",
    "  title = \"Automatic recognition of fMRI-derived functional networks using 3-D convolutional neural networks\",\n",
    " journal = \" IEEE Transactions on Biomedical Engineering\",\n",
    "  volume = 65,\n",
    "    year = 2017,\n",
    "    pages = \"1975-1984\"\n",
    "}"
   ]
  },
  {
   "cell_type": "raw",
   "metadata": {},
   "source": [
    "old citations\n",
    "\n",
    "@article{b1,\n",
    "  author = \"Pinkal Patel, Priya Aggarwal, and Anubha Gupta\",\n",
    "  title = \"Classification of schizophrenia versus normal subjects using deep learning\",\n",
    "  year = 2016\n",
    "}\n",
    "\n",
    "@article{b2,\n",
    "  author = \"A. Abraham, F. Pedregosa, M. Eickenberg,P. Gervais, A. Muller, J. Kossaifi, A. Gramfort, B. Thirion, and G. Varoquaux\",\n",
    "   title = \"Machine learning for neuroimaging with scikit-learn\",\n",
    " journal = \"Frontiers in Neuroinformatics\",\n",
    "  volume = 8,\n",
    "    year = 2014\n",
    "}\n",
    "\n",
    "@article{b3,\n",
    "  author = \"J. Kim, V. D. Calhoun, E. Shim, and J.-H. Lee\",\n",
    "   title = \"Deep neural network with weight sparsity control and pre-training extracts hierarchical features and enhances classification performance: Evidence from whole-brain resting-state functional connectivity patterns of schizophrenia\",\n",
    " journal = \"NeuroImage\",\n",
    "    year = 2017,\n",
    "   pages = \"127-146\"\n",
    "}\n",
    "\n",
    "@article{b4,\n",
    "  author = \"Suwatchai Kamonsantiroj, ParinyaCharoenvorakiat, and Luepol Pipanmaekaporn\",\n",
    "   title = \"Learning representation for fMRI data analysis using autoencoder\",\n",
    " journal = \"NeuroImage\",\n",
    "    year = 2016\n",
    "}\n",
    "\n",
    "@article{b5,\n",
    "  author = \"Xin Yang\",\n",
    "   title = \"Machine learning techniques for high-dimensional neuroimaging data analysis\",\n",
    "    year = 2016\n",
    "}\n",
    "\n",
    "@article{b6,\n",
    "  author = \"R. Harel, S. Ercan, E. de Groot, S. van Schooten\",\n",
    "   title = \"Applying feature selection methods on fMRI data\",\n",
    "    year = 2014\n",
    "}\n",
    "\n",
    "http://fcon_1000.projects.nitrc.org/indi/retro/cobre.html\n",
    "\n",
    "\n",
    "In the paper \"Classification of Schizophrenia Versus Normal Subjects Using Deep Learning\", the group used layers of autoencoders called SAE (stacked autoencoder) to make a based two-stage architecture to detect schizophrenia.  The architecture consisted of four separate hidden layer autoencoders which were trained in an unsupervised manner for feature extraction for all regions of the brain. The trained autoencoders were then used to create features on class-labeled input data for training a binary support vector machine (SVM) based classifier. An SVM is a algorithm to split data. Noise or useless voxels were filtered out by a covariance approach. The data they used was the public dataset “1000 Functional Connectomes Project Cobre dataset consisting of fMRI data of normal and schizophrenic subjects”. With this data and the autoencoder net, they were able to achieve a classification accuracy of 92%.\n",
    "\n"
   ]
  }
 ],
 "metadata": {
  "kernelspec": {
   "display_name": "Python 3",
   "language": "python",
   "name": "python3"
  },
  "language_info": {
   "codemirror_mode": {
    "name": "ipython",
    "version": 3
   },
   "file_extension": ".py",
   "mimetype": "text/x-python",
   "name": "python",
   "nbconvert_exporter": "python",
   "pygments_lexer": "ipython3",
   "version": "3.6.7"
  }
 },
 "nbformat": 4,
 "nbformat_minor": 2
}
