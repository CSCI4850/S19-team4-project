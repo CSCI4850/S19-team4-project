{
 "cells": [
  {
   "cell_type": "raw",
   "metadata": {},
   "source": [
    "% PACKAGES INCLUDED HERE \n",
    "% DO NOT NEED TO CHANGE\n",
    "\\documentclass[conference]{IEEEtran}\n",
    "%\\IEEEoverridecommandlockouts\n",
    "% The preceding line is only needed to identify funding in the first footnote. If that is unneeded, please comment it out.\n",
    "\\usepackage{cite}\n",
    "\\usepackage{amsmath,amssymb,amsfonts}\n",
    "\\usepackage{algorithmic}\n",
    "\\usepackage{graphicx}\n",
    "\\usepackage{textcomp}\n",
    "\\def\\BibTeX{{\\rm B\\kern-.05em{\\sc i\\kern-.025em b}\\kern-.08em\n",
    "    T\\kern-.1667em\\lower.7ex\\hbox{E}\\kern-.125emX}}\n",
    "\\begin{document}"
   ]
  },
  {
   "cell_type": "raw",
   "metadata": {},
   "source": [
    "% TITLE GOES HERE\n",
    "\n",
    "\\title{Analyzing Multi-Layer and Convolutional Neural Networks in Schizophrenia Detection}\n",
    "\n"
   ]
  },
  {
   "cell_type": "raw",
   "metadata": {},
   "source": [
    "% AUTHOR NAMES GOES HERE\n",
    "\n",
    "% AUTHOR ALIGNMENT FORMATTING\n",
    "\\makeatletter\n",
    "\\newcommand{\\linebreakand}{%\n",
    "  \\end{@IEEEauthorhalign}\n",
    "  \\hfill\\mbox{}\\par\n",
    "  \\mbox{}\\hfill\\begin{@IEEEauthorhalign}\n",
    "}\n",
    "\\makeatother\n",
    "\n",
    "\\author{\n",
    "\\IEEEauthorblockN{Walters, Robert}\n",
    "\\IEEEauthorblockA{\\textit{Department of Computer Science} \\\\\n",
    "\\textit{Middle Tennessee State University}\\\\\n",
    "Murfreesboro, TN 37132\\\\\n",
    "rjw3x@mtmail.mtsu.edu} \\\\\n",
    "\\and\n",
    "\\IEEEauthorblockN{Peterson, Kevin}\n",
    "\\IEEEauthorblockA{\\textit{Department of Computer Science} \\\\\n",
    "\\textit{Middle Tennessee State University}\\\\\n",
    "Murfreesboro, TN 37132\\\\\n",
    "kjp3q@mtmail.mtsu.edu} \\\\\n",
    "\\and\n",
    "\\IEEEauthorblockN{Curl, Adam}\n",
    "\\IEEEauthorblockA{\\textit{Department of Computer Science} \\\\\n",
    "\\textit{Middle Tennessee State University}\\\\\n",
    "Murfreesboro, TN 37132\\\\\n",
    "amc2bg@mtmail.mtsu.edu} \\\\\n",
    "\\linebreakand\n",
    "\\IEEEauthorblockN{Fleming, Paul}\n",
    "\\IEEEauthorblockA{\\textit{Department of Computer Science} \\\\\n",
    "\\textit{Middle Tennessee State University}\\\\\n",
    "Murfreesboro, TN 37132\\\\\n",
    "pmf2k@mtmail.mtsu.edu} \\\\\n",
    "\\and\n",
    "\\IEEEauthorblockN{Meagher, Samuel}\n",
    "\\IEEEauthorblockA{\\textit{Department of Computer Science} \\\\\n",
    "\\textit{Middle Tennessee State University}\\\\\n",
    "Murfreesboro, TN 37132\\\\\n",
    "sm8z@mtmail.mtsu.edu} \\\\\n",
    "}\n",
    "\n",
    "\\maketitle"
   ]
  },
  {
   "cell_type": "raw",
   "metadata": {},
   "source": [
    "% ABSTRACT \n",
    "\n",
    "\\begin{abstract}\n",
    "Neural networks are finding many applications within the healthcare industry. With ever-increasing popularity, the research needed to establish the efficacy of neural network utility must also grow. Our objective is to test two neural network architectures: the multi-layer neural network, and the convolutional neural network. Training speed, network element complexity, and prediction accuracy are determined by compairing the two architectures using the COBRE fMRI dataset for patients with schizophrenia. Current findings show more success within the multi-layer neural network design. (edit ending)\n",
    "\\end{abstract}\n"
   ]
  },
  {
   "cell_type": "raw",
   "metadata": {},
   "source": [
    "% KEYWORDS\n",
    "\n",
    "\\begin{IEEEkeywords}\n",
    "neural network, multi-layer, convolutional, COBRE, fMRI dataset\n",
    "\\end{IEEEkeywords}"
   ]
  },
  {
   "cell_type": "raw",
   "metadata": {},
   "source": [
    "% INTRODUCTION SECTION\n",
    "\\section{Introduction}\n",
    "\n",
    "This project was created for Dr. Phillips' Spring 2019 Neural Networks class by our group for the purpose of learning more about Neural Network programming and architecture. A neural network is a computer system that is modeled on the human brain and nervous system. They are composed of interconnected processing elements called neurons that work together to solve a problem. Neural networks are largely trained and used to recognize patterns in data sets similar to the way a human brain would.\n",
    "\n",
    "Our group decided on teaching two architecturally different nets to detect schizophrenia from fMRI data. The architectures we chose are Multi-layer and Convolutional neural networks. The learning ability of the two nets will be the primary focus of this research and success will be determined if the networks are able to detect schizophrenia with a reasonable accuracy. To do this, we have two goals we want to achieve. First, we want to obtain an accuracy above 75\\% in schizophrenia detection for both neural networks. This will provide evidence that neural nets could be effectivly used to detect shizophrenia. Second we plan to compare and contrast the differences between the nets. We will observe and take note of the following characteristics: training speed, size of input data, number of neurons, number of layers, complexity of preprocessing, complexity of implementation, and overall feasibility of use within an fMRI analysis environment."
   ]
  },
  {
   "cell_type": "raw",
   "metadata": {},
   "source": [
    "% BACKGROUND SECTION\n",
    "\\section{Background}\n",
    "\n",
    "\\subsection{Introduction to fMRI and fMRI Data}\n",
    "For the reader's convenience, we will give a brief overview of fMRI as well as the properties of the data used for this project. Functional magnetic resonance imaging (fMRI) is a technique used to map the brain. More specifically, it gives the ability to see neural activity by measuring the brain's blood-flow over a period of time. It involves using two powerful electromagnets and a radiofrequency burst to detect the Nuclear Magnetic Resonance of hydrogen protons. This allows for detection of the presence of oxygenated blood at very specific locations which means neuron activity can be seen as active neurons draw oxygenated blood \\cite{b1}. What makes fMRI useful is that certain regions of the brain only activate when performing certain tasks. For instance, different layers of the visual cortex will activate when looking at different images; likewise, different parts of the motor cortex \"light up\" when the patient is performing different physical movements. To depict this, fMRI data uses the BOLD (Blood-Oxygen-Level Dependent) technique to color code neural activity. The data is broken up into 2D slices that when combined, create a 3D image of the patient's brain. This 3D image is made up of voxels (volumetric pixels or 3D pixels) each of which represents millions of neurons. Additionally, those images are taken multiple times over several minutes. This ends up translating to the data being very large (sometimes up to thousands of voxels) and having lots of noise (unrelated neurons). Processing the data into something more useful to analyze is not only important but can also be a difficult task.\n",
    "\n",
    "\\subsection{Tools and Previous Works}\n",
    "The tools used in this project were Nilearn and keras. Keras provided the means for the construction of the nets \\cite{keras}. Nilearn was used for our data cleaning and preprocessing, masking our FMRI to a brain atlas, computing the covariance matrix for our Masked FMRI data, and generating images and plots of our data \\cite{nilearn}. Several research articles provided the resources for the foundation of this project. For building our multi-layer net, the article \"Functional connections from resting-state fMRI\" provide us a good outline for cleaning the data and finding regions of interest \\cite{b2}. We also used their technique for computing a correlation matrix on those regions of interest. It is also worth mentioning that using neural nets for learning fMRI data is not untreaded territory. In the paper \"Classification of Schizophrenia Versus Normal Subjects Using Deep Learning\", the group used layers of autoencoders called SAE (stacked autoencoder) to make a based two-stage architecture to detect schizophrenia.  Using the COBRE dataset they were able to achieve a classification accuracy of 92\\%."
   ]
  },
  {
   "cell_type": "raw",
   "metadata": {},
   "source": [
    "x% METHODS SECTION\n",
    "\\section{Methods}\n",
    "\\subsection{Making the Multi-Layer Network}\n",
    "The data we chose for this project was the COBRE dataset. This dataset contains fMRI data from 72 patients with schizophrenia and 75 without (COBRE). Ages ranged from 18 to 65. Patients were excluded if they had any serious and unrelated mental health issues in the year leading up to the imaging. The data itself measures blood oxygen levels in a 4D matrix (subject\\#, X, Y, Z, t). An image of the scan can be seen in fig. 1.\n",
    "\n",
    "\\begin{figure}[htbp]\n",
    "\\centerline{\\includegraphics[width=\\linewidth]{fMRI1.png}}\n",
    "\\caption{Raw fMRI scans.}\n",
    "\\label{fig}\n",
    "\\end{figure}\n",
    "\n",
    "After getting our data, we moved on to preprocessing. For our multi-layer network, we approached the data with the goal to reduce it to a statistical format. We started with detrending, standardizing, and then running the data through high and low pass filters. The formatted data remained the same shape, which was still too large. To solve this, we ran it through a mask in nilearn called MSDL atlas. The tool took the information and broke it into 39 regions (fig. 2.) each containing the averages of the fMRI blood oxygen levels all of the voxels. Ultimately, it significantly reduced both the size and noise of the data. The data was now in the form: (subject\\#, region of interest, t). \n",
    "\n",
    "\\begin{figure}[htbp]\n",
    "\\centerline{\\includegraphics[width=\\linewidth]{fMRI2.png}}\n",
    "\\caption{Mask with brain atlas.}\n",
    "\\label{fig}\n",
    "\\end{figure}\n",
    "\n",
    "Next, we needed information on how the regions of interest were connected. To do this, we computed a covariance matrix of the masks using the group sparse covariance method (fig. 3.). Now we had covariance values to tell us how connected each of the 39 regions were to one another giving us the array: (subject\\#, region of interest, region of interest). \n",
    "\n",
    "\\begin{figure}[htbp]\n",
    "\\centerline{\\includegraphics[width=\\linewidth]{fMRI3.png}}\n",
    "\\caption{Covariance matrix of masks from using group sparse covariance method.}\n",
    "\\label{fig}\n",
    "\\end{figure}\n",
    "\n",
    "Our final modification of the data was to flatten it into a 1D vector. Due to the symmetric characteristic of covariance matrices, only half of the values would be pulled thus making the final array: (subject\\#, regions of interest flattened) or in our case (145, 741). \n",
    "This array would be the input layer for the multi-layer neural network. It would be followed by a 10\\% dropout layer to get better generalization. This layer is followed by a hidden layer containing 350 parameters which use the ReLu activation function alongside batch normalization. The output layer uses Binary Cross-entropy Loss and sigmoid activation. The network's output is a single binary response, telling us the network's classification of whether or not the patient had schizophrenia. Fig. 4. shows the net in its totality. \n",
    "\n",
    "\\begin{figure}[htbp]\n",
    "\\centerline{\\includegraphics[width=\\linewidth]{fMRI4.png}}\n",
    "\\caption{Architecture of the multi-layer network.}\n",
    "\\label{fig}\n",
    "\\end{figure}\n",
    "\n",
    "\\subsection{Making the Convolutional Network}\n",
    "Our convolutional network used a similar approach for preprocessing, up to the step where we fit to the MSDL atlas, which output data in the form (subject\\#, region of interest, t). From there the input data was split into a training and a testing set as inputs to the network. The network itself consisted of ten layers - most notably, two 2D convolution layers - a larger layer followed by a smaller layer, two Batch Normalization layers, and two Dropout layers. The purpose of the convolution layers was to find individual features within the region of interest with respect to time. The purpose of the batch normalization and dropout layers was to help prevent the neural network from becoming unstable. Also included were two pooling steps, a flatten step, and two simple feedforward nets for the purpose of pulling down the number of features learned into a final binary yes-or-no output. This would, in theory, allow the network to start with a large number of 2D features to detect from relations between the intensity value of the region of interest as it varies over time, which it could then combine and reduce down to a final 1D pattern which would decide if the patient did or did not have schizophrenia."
   ]
  },
  {
   "cell_type": "raw",
   "metadata": {},
   "source": [
    "% RESULTS SECTION\n",
    "\\section{Results}\n",
    "\n",
    "To measure the quality of the multi-layer network, we used K cross validation to get the accuracy over multiple class label splits. Our results were an average of 77.87\\% accuracy with k=10. The convolutional net was not quite as successful. It suffered from significant overfitting preventing any meaningful accuracies. Figures 5. and 6. show the loss and accuracy from the multi-layer and convolutional models respectively.\n",
    "\n",
    "\\begin{figure}[htbp]\n",
    "\\centerline{\\includegraphics[width=\\linewidth]{Multi_Layer.png}}\n",
    "\\caption{Multi-layer model accuracy and loss.}\n",
    "\\label{fig}\n",
    "\\end{figure}\n",
    "\n",
    "\\begin{figure}[htbp]\n",
    "\\centerline{\\includegraphics[width=\\linewidth]{Conv.png}}\n",
    "\\caption{Convolutional model accuracy and loss.}\n",
    "\\label{fig}\n",
    "\\end{figure}"
   ]
  },
  {
   "cell_type": "raw",
   "metadata": {},
   "source": [
    "% DISCUSSION SECTION\n",
    "\\section{Discussion}\n",
    "\n",
    "Schizophrenia was most accurately predicted using a Feedforward Multilayer Neural Network with an individual Covariance Matrix input for each subject. This method outperformed a Convolutional 2D Neural Network with masked FMRI signal input. These results may be explained by the fact that Covariance Matrix inputs take into account the connectivity of different brain regions, while the masked FMRI signal input does not take connectivity of the brain into account. \n",
    "\n",
    "Functional Connectivity is often cited in the literature as a helpful tool for FMRI \n",
    "decoding and classification problems \\cite{b2}. It has also been found that brain functional connectivity strength is often reduced in patients with Schizophrenia \\cite{b3}. Schizophrenic patients have a more diverse mode of connectivity to the rest of the brain that is less coordinated than nonschizophrenia  patients. For this reason, the Covariance Functional Connectivity Matrices calculated on the COBRE dataset allowed the Neural Network used in this project to pick up on these differences in Schizophrenic and non-Schizophrenic Connectivity. Our results confirm these findings in the literature in that Connectivity Matrices provided the best input for neural network classification. \n",
    "\n",
    "It is feasible that the Convolutional 2D method would have been able to produce a similar accuracy to the Covariance method if given enough training time. In the literature, Convolutional\n",
    "Neural Networks have been used to automatically recognize Functional Connectivity \\cite{b4}. This method was limited by the computation time and space that was available in this project. While this method of classification did not perform better than chance, we cannot confidently say that this method cannot perform well. One direction that could potentially be explored in the future is the use of Convolutional Networks on Functional Connectivity Matrices. While this project resulted in good results with a regular Multilayer Network, perhaps Convolutional Networks would be able to more accurately pick up on patterns in the Functional Connectivity of the brain. \n",
    "\n",
    "The findings of this project support the idea that Schizophrenia is a disorder that affects the connectivity of different regions of the brain \\cite{b3}. Future research could be conducted using this method, and changing the brain atlas regions used to mask the data. For this project, the MSDL brain atlas consisting of 39 different brain regions was used. Experimentation with different atlases and regions of interest could provide more information and insight as to which specific brain connections that Schizophrenia affects the most."
   ]
  },
  {
   "cell_type": "raw",
   "metadata": {},
   "source": [
    "% REFERENCES\n",
    "% THIS IS CREATED AUTOMATICALLY\n",
    "\\bibliographystyle{IEEEtran}\n",
    "\\bibliography{References} % change if another name is used for References file"
   ]
  },
  {
   "cell_type": "raw",
   "metadata": {},
   "source": [
    "\\end{document}"
   ]
  }
 ],
 "metadata": {
  "kernelspec": {
   "display_name": "Python 3",
   "language": "python",
   "name": "python3"
  },
  "language_info": {
   "codemirror_mode": {
    "name": "ipython",
    "version": 3
   },
   "file_extension": ".py",
   "mimetype": "text/x-python",
   "name": "python",
   "nbconvert_exporter": "python",
   "pygments_lexer": "ipython3",
   "version": "3.6.7"
  }
 },
 "nbformat": 4,
 "nbformat_minor": 2
}
