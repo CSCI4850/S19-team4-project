{
 "cells": [
  {
   "cell_type": "raw",
   "metadata": {},
   "source": [
    "@article{b1,\n",
    "  author = \"Xin Yang\",\n",
    "   title = \"Machine learning techniques for high-dimensional neuroimaging data analysis\",\n",
    "    year = 2016\n",
    "}"
   ]
  },
  {
   "cell_type": "raw",
   "metadata": {},
   "source": [
    "@article{b2,\n",
    "  author = \"Smith SM, Vidaurre D, Beckmann CF, et al.\",\n",
    "  title = \"Functional connectomics from resting-state fMRI\",\n",
    " journal = \"Trends Cogn Sci\",\n",
    "  volume = 12,\n",
    "    year = 2013,\n",
    "    pages = \"666-682\"\n",
    "}"
   ]
  },
  {
   "cell_type": "raw",
   "metadata": {},
   "source": [
    "@article{b3,\n",
    "  author = \"Lynall ME, Bassett DS, Kerwin R, et al.\",\n",
    "  title = \"Functional connectivity and brain networks in schizophrenia\",\n",
    " journal = \"J Neurosci\",\n",
    "  volume = 30,\n",
    "    year = 2010,\n",
    "    pages = \"9477-9487\"\n",
    "}"
   ]
  },
  {
   "cell_type": "raw",
   "metadata": {},
   "source": [
    "@article{b4,\n",
    "  author = \"Yu Zhao, Qinglin Dong, Shu Zhang, et al.\",\n",
    "  title = \"Automatic recognition of fMRI-derived functional networks using 3-D convolutional neural networks\",\n",
    " journal = \"IEEE Transactions on Biomedical Engineering\",\n",
    "  volume = 65,\n",
    "    year = 2017,\n",
    "    pages = \"1975-1984\"\n",
    "}"
   ]
  },
  {
   "cell_type": "raw",
   "metadata": {},
   "source": [
    "@article{b5,\n",
    "  author = \"Meenakshi Khosla, Keith Jamison, Gia H. Ngo, Amy Kuceyeski, Mert R. Sabuncu\",\n",
    "  title = \"Machine learning in resting state fMRI\",\n",
    " journal = \"Trends Cogn Sci\",\n",
    "    year = 2018\n",
    "}"
   ]
  },
  {
   "cell_type": "raw",
   "metadata": {},
   "source": [
    "@article{b6,\n",
    "  author = \"Pinkal Patel, Priya Aggarwal, and Anubha Gupta\",\n",
    "  title = \"Classification of schizophrenia versus normal subjects using deep learning\",\n",
    "  year = 2016\n",
    "}"
   ]
  }
 ],
 "metadata": {
  "kernelspec": {
   "display_name": "Python 3",
   "language": "python",
   "name": "python3"
  },
  "language_info": {
   "codemirror_mode": {
    "name": "ipython",
    "version": 3
   },
   "file_extension": ".py",
   "mimetype": "text/x-python",
   "name": "python",
   "nbconvert_exporter": "python",
   "pygments_lexer": "ipython3",
   "version": "3.6.7"
  }
 },
 "nbformat": 4,
 "nbformat_minor": 2
}
