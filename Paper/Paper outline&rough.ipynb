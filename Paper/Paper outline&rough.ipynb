{
 "cells": [
  {
   "cell_type": "markdown",
   "metadata": {},
   "source": [
    "\n",
    "Abstract\n",
    "\n",
    "I. Introduction\n",
    "    1. students, class, assignment\n",
    "    2. chose, fmri, schizophrenia\n",
    "    3. goal, detect schizoprenia \n",
    "    4. steps we took:\n",
    "        find data [source]\n",
    "        reduce size [method]\n",
    "        NN type [method]\n",
    "    5. restate goal\n",
    "--Background\n",
    "    1. Source of data\n",
    "    2. research already made\n",
    "    3. light intro. to tools used [python libs]\n",
    "\n",
    "II. Method\n",
    "    1. reduce size and tools used\n",
    "    2. NN characteristics\n",
    "\n",
    "III. Results\n",
    "\n",
    "IV. Discussion\n",
    "\n",
    "V. References\n",
    "    data source(s) (4 so far)\n"
   ]
  },
  {
   "cell_type": "markdown",
   "metadata": {},
   "source": [
    "This project came about from Dr. Philips' 2019 Neural Networks class held at Middle Tennessee State University. Groups were formed based on ideas for training a neural network. Our group chose to use fMRI data to teach a neural net to detect schizophrenia. The FMRI data we chose had the patient in a restful state. Our end goal was for the net to be able to dectect whether or not a patient had schizophrenia based on a fMRI scan. We would attempt to attain an accuracy above 75%."
   ]
  },
  {
   "cell_type": "raw",
   "metadata": {},
   "source": [
    "@article{b1,\n",
    "  author = \"Pinkal Patel, Priya Aggarwal, and Anubha Gupta\",\n",
    "  title = \"Classification of schizophrenia versus normal subjects using deep learning\",\n",
    "  year = 2016,\n",
    "  pages = \"1--6\"\n",
    "}\n",
    "\n",
    "@article{b2,\n",
    "  author = \"A. Abraham, F. Pedregosa, M. Eickenberg,P. Gervais, A. Muller, J. Kossaifi, A. Gramfort, B. Thirion, and G. Varoquaux\",\n",
    "   title = \"Machine learning for neuroimaging with scikit-learn\",\n",
    " journal = \"Frontiers in Neuroinformatics\",\n",
    "  volume = 8,\n",
    "    year = 2014,\n",
    "   pages = \"1-15\"\n",
    "}\n",
    "\n",
    "@article{b3,\n",
    "  author = \"J. Kim, V. D. Calhoun, E. Shim, and J.-H. Lee\",\n",
    "   title = \"Deep neural network with weight sparsity control and pre-training extracts hierarchical features and enhances classification performance: Evidence from whole-brain resting-state functional connectivity patterns of schizophrenia\",\n",
    " journal = \"NeuroImage\",\n",
    "    year = 2017,\n",
    "   pages = \"1-19\"\n",
    "}\n",
    "\n",
    "@article{b4,\n",
    "  author = \"Suwatchai Kamonsantiroj, ParinyaCharoenvorakiat, and Luepol Pipanmaekaporn\",\n",
    "   title = \"Learning representation for fMRI data analysis using autoencoder\",\n",
    " journal = \"NeuroImage\",\n",
    "    year = 2016,\n",
    "}"
   ]
  }
 ],
 "metadata": {
  "kernelspec": {
   "display_name": "Python 3",
   "language": "python",
   "name": "python3"
  },
  "language_info": {
   "codemirror_mode": {
    "name": "ipython",
    "version": 3
   },
   "file_extension": ".py",
   "mimetype": "text/x-python",
   "name": "python",
   "nbconvert_exporter": "python",
   "pygments_lexer": "ipython3",
   "version": "3.6.7"
  }
 },
 "nbformat": 4,
 "nbformat_minor": 2
}
