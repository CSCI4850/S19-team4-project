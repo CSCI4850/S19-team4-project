{
 "cells": [
  {
   "cell_type": "markdown",
   "metadata": {},
   "source": [
    "\n",
    "Abstract\n",
    "\n",
    "I. Introduction\n",
    "    1. students, class, assignment\n",
    "    2. chose, fmri, schizophrenia\n",
    "    3. goal, detect schizoprenia \n",
    "    4. steps we took:\n",
    "        find data [source]\n",
    "        reduce size [method]\n",
    "        NN type [method]\n",
    "    5. restate goal\n",
    "    \n",
    "    \n",
    "--Background\n",
    "    1. \n",
    "            fMRI\n",
    "        What is it?\n",
    "        How does it work?\n",
    "        \n",
    "    1. Source of data\n",
    "    2. research already made\n",
    "    3. light intro. to tools used [python libs]\n",
    "    2. intro. to method(s) used to reduce data\n",
    "    3. intro. to other assiting tools\n",
    "    4. example of previous work with net arch. 1\n",
    "    5. example of previous work with net arch. 2\n",
    "\n",
    "\n",
    "\n",
    "II. Method\n",
    "    1. reduce size and tools used\n",
    "    2. NN characteristics\n",
    "\n",
    "III. Results\n",
    "    1. compare learning of the nets.\n",
    "\n",
    "IV. Discussion and conclusion\n",
    "\n",
    "V. References\n",
    "    data source(s) (6 so far)\n"
   ]
  },
  {
   "cell_type": "markdown",
   "metadata": {},
   "source": [
    "This project came about from Dr. Philips' 2019 Neural Networks class held at Middle Tennessee State University. Groups were formed based on ideas for training a neural network. Our group decided on teaching two architecturally different networks to detect schizophrenia from fMRI data. We had two goals we wanted to achieve and learn from. First we wanted to obtain an accuracy above 75% on schizophrenia detection. Second we planned to compare and contrast the differences in the nets. These would be an autoencoder network and a convolutional network. The learning ability of the two nets will be the primary focus of observation. Learning success would be determined if the networks were able to detect schizophrenia within our accuracy range.\n",
    "\n",
    "For the reader's convenience, a brief overview of fMRI and then a description of fMRI data we used will be given. Functional magnetic resonance imaging (fMRI) is a technique used to map the brain. More specifically, it gives the ability to see neural activity by measuring the brain's blood-flow. What makes fMRI useful is that certain regions of the brain only activate when performing certain tasks. To communicate this, fMRI data uses the BOLD (Blood-Oxygen-Level Dependent) technique to color code neural activity. Blood flow equates to activity in the brain which is then represented by color. The data is broken up into 2D slices that when combined, create a 3D image of the patient's brain. This 3D image is made up of voxels (volumetric pixels) each of which represents millions of neurons. Additionally, images are taken multiple times over several minutes. As one might guess, this means large data and lots of noise (unrelated neurons). And if that is not enough, the image itself consists of thousands of voxels. \n",
    "\n",
    "It becomes very clear that the first task that needs to be done is to put the data into a reduced form. The fMRI scans used came from ___ . It was in the form \n",
    "\n",
    "Using neural networks to learn from fMRI data, or even detect schizoprenia, is not untreaded teritory.\n",
    "\n",
    "(below may not be used)\n",
    "In the paper \"Classification of Schizophrenia Versus Normal Subjects Using Deep Learning\", the group used layers of autoencoders called SAE (stacked autoencoder) to make a based two-stage architecture to detect schizophrenia.  The architecture consisted of four separate hidden layer autoencoders which were trained in an unsupervised manner for feature extraction for all regions of the brain. The trained autoencoders were then used to create features on class-labeled input data for training a binary support vector machine (SVM) based classifier. An SVM is a algorithm to split data. Noise or useless voxels were filtered out by a covariance approach. The data they used was the public dataset “1000 Functional Connectomes Project Cobre dataset consisting of fMRI data of normal and schizophrenic subjects”. With this data and the autoencoder net, they were able to achieve a classification accuracy of 92%.\n",
    "\n",
    "(example)\n",
    "\n",
    "\n",
    "(light intro to software and libs being used)"
   ]
  },
  {
   "cell_type": "markdown",
   "metadata": {},
   "source": [
    "The data we chose for this project was the COBRE dataset. This dataset contains fMRI data from 72 patients with schizophrenia and 75 without (COBRE). Ages ranged from 18 to 65. Patients were excluded if they had any history of serious mental health (physical or cognitive) in the last 12 months. The data itself measures blood oxeygen levels in a 4D matrix (subject#, X, Y, Z, t). After getting our data, we moved on to preprocessing. Here we detrended, standardized, and ran it through high and low pass filters. Data remained the same shape which was still too large. To solve this, we ran it through a mask called MSDL atlas (cite). The tool took the information and broke it into 39 regions with each containing the averages of the fMRI blood oxeygen levels all of the voxels. Ultimately, it significantly reduced both the size and noise of the data. The data now looked like: (subject#, region of interest, t). Next we needed information on how the regions of interest were connected. To do this, we computed a covariance matrix of the masks using the group sparse covariance method. Now we had covariance values to tell us how connected each of the 39 regions were to one another. New array: (subject#, region of interest, region of interest). Our final modification of the data was to flatten it into a 1D vector. Due to the symmetric characteristic of covariance matrices, only half of the values would be pulled thus making the final array: (patient#, regions of interest flattened). This array would be the input layer for the neural network. It would be followed by a 10% dropout layer to get better generalization. This layer would be followed by a hidden layer that had 350 parameters and used the ReLu activation function alongside batch normalization. The ouput layer used Binary Cross-entropy Loss and sigmoid activation. The network's output would be a response as to whether or not the patient had schizophrenia. "
   ]
  },
  {
   "cell_type": "markdown",
   "metadata": {},
   "source": [
    "To measure the quality of the network, we used K cross validation to get the accuracy over multiple class label splits. Our results were an average of 77.87% accuracy with k=10."
   ]
  },
  {
   "cell_type": "markdown",
   "metadata": {},
   "source": [
    "We were able to achieve our goal of an accuracy of over 75%. Furthermore, the accuracy of the network is evidence that it is capable of learning the difference between fMRI data of a schizophrenic and non-schizophrenic patient."
   ]
  },
  {
   "cell_type": "raw",
   "metadata": {},
   "source": [
    "@article{b1,\n",
    "  author = \"Pinkal Patel, Priya Aggarwal, and Anubha Gupta\",\n",
    "  title = \"Classification of schizophrenia versus normal subjects using deep learning\",\n",
    "  year = 2016\n",
    "}\n",
    "\n",
    "@article{b2,\n",
    "  author = \"A. Abraham, F. Pedregosa, M. Eickenberg,P. Gervais, A. Muller, J. Kossaifi, A. Gramfort, B. Thirion, and G. Varoquaux\",\n",
    "   title = \"Machine learning for neuroimaging with scikit-learn\",\n",
    " journal = \"Frontiers in Neuroinformatics\",\n",
    "  volume = 8,\n",
    "    year = 2014\n",
    "}\n",
    "\n",
    "@article{b3,\n",
    "  author = \"J. Kim, V. D. Calhoun, E. Shim, and J.-H. Lee\",\n",
    "   title = \"Deep neural network with weight sparsity control and pre-training extracts hierarchical features and enhances classification performance: Evidence from whole-brain resting-state functional connectivity patterns of schizophrenia\",\n",
    " journal = \"NeuroImage\",\n",
    "    year = 2017,\n",
    "   pages = \"127-146\"\n",
    "}\n",
    "\n",
    "@article{b4,\n",
    "  author = \"Suwatchai Kamonsantiroj, ParinyaCharoenvorakiat, and Luepol Pipanmaekaporn\",\n",
    "   title = \"Learning representation for fMRI data analysis using autoencoder\",\n",
    " journal = \"NeuroImage\",\n",
    "    year = 2016\n",
    "}\n",
    "\n",
    "@article{b5,\n",
    "  author = \"Xin Yang\",\n",
    "   title = \"Machine learning techniques for high-dimensional neuroimaging data analysis\",\n",
    "    year = 2016\n",
    "}\n",
    "\n",
    "@article{b6,\n",
    "  author = \"R. Harel, S. Ercan, E. de Groot, S. van Schooten\",\n",
    "   title = \"Applying feature selection methods on fMRI data\",\n",
    "    year = 2014\n",
    "}\n",
    "\n",
    "http://fcon_1000.projects.nitrc.org/indi/retro/cobre.html"
   ]
  },
  {
   "cell_type": "code",
   "execution_count": null,
   "metadata": {},
   "outputs": [],
   "source": []
  }
 ],
 "metadata": {
  "kernelspec": {
   "display_name": "Python 3",
   "language": "python",
   "name": "python3"
  },
  "language_info": {
   "codemirror_mode": {
    "name": "ipython",
    "version": 3
   },
   "file_extension": ".py",
   "mimetype": "text/x-python",
   "name": "python",
   "nbconvert_exporter": "python",
   "pygments_lexer": "ipython3",
   "version": "3.6.7"
  }
 },
 "nbformat": 4,
 "nbformat_minor": 2
}
