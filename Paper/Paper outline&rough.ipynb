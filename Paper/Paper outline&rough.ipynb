{
 "cells": [
  {
   "cell_type": "markdown",
   "metadata": {},
   "source": [
    "\n",
    "Abstract\n",
    "\n",
    "I. Introduction\n",
    "    1. students, class, assignment\n",
    "    2. chose, fmri, schizophrenia\n",
    "    3. goal, detect schizoprenia \n",
    "    4. steps we took:\n",
    "        find data [source]\n",
    "        reduce size [method]\n",
    "        NN type [method]\n",
    "    5. restate goal\n",
    "--Background\n",
    "\n",
    "    fMRI\n",
    "        What is it?\n",
    "        How does it work?\n",
    "        How are we using it?\n",
    "        \n",
    "    1. Source of data\n",
    "    2. research already made\n",
    "    3. light intro. to tools used [python libs]\n",
    "\n",
    "II. Method\n",
    "    1. reduce size and tools used\n",
    "    2. NN characteristics\n",
    "\n",
    "III. Results\n",
    "\n",
    "IV. Discussion\n",
    "\n",
    "V. References\n",
    "    data source(s) (6 so far)\n"
   ]
  },
  {
   "cell_type": "markdown",
   "metadata": {},
   "source": [
    "This project came about from Dr. Philips' 2019 Neural Networks class held at Middle Tennessee State University. Groups were formed based on ideas for training a neural network. Our group chose to attempt to teach two differently designed neural nets to detect schizophrenia from fMRI data. We had two goals we wanted to achieve and learn from. Our first goal was to use attain an accuracy above 75% on schizophrenia detection. Our second goal was to use two different nets to do so. These would be an autoencoder network and a convolutional network. The success of the nets would allow us to compare and contrast the architecture and learning ability of the two networks. Success would be determined if the networks were able to detect schizophrenia within our accuracy range.\n",
    "\n",
    "For the reader's convenience, a brief overview of fMRI and then a description of fMRI data. Functional magnetic resonance imaging (fMRI) is a technique used to map the brain. More specifically, it gives the ability to see neural activity by measuring the blood-flow. More flow equates to more activity. What makes fMRI especially useful is that certain regions of the brain only activate when performing certain tasks. This is why we are able to attempt to detect schizophrenia. To communicate information like this, fMRI data uses the BOLD (Blood-Oxygen-Level Dependent) technique to color code neural activity. Essentially, a color scale is used describe blood flow.  As there is the possibility that schizophrenic patients' brains neural activity is noticeably different. The fMRI data is in the form of 2D slices that when combined create a 3D image of the brain. This 3D image is made up of voxels (volumetric pixels) with each representing millions of neurons. Additionally, the measurements are taken multiple time over several minutes. As one might guess, this means large data and lots of noise (unrelated neurons). And if that is not enough, the image consists of thousands of voxels. \n",
    "\n",
    "\n",
    "It becomes very clear that the first task that needs to be done is to put the data into a reduced form. (very light intro. into methods/tools, will be covered in more depth in the methods section).\n",
    "\n",
    "\n",
    "Using neural networks to learn from fMRI data, or even detect schizoprenia, is not untreaded teritory.\n",
    "\n",
    "In the paper \"Classification of Schizophrenia Versus Normal Subjects Using Deep Learning\", the group used layers of autoencoders called SAE (stacked autoencoder) to make a based two-stage architecture to detect schizophrenia.  The architecture consisted of four separate hidden layer autoencoders which were trained in an unsupervised manner for feature extraction for all regions of the brain. The trained autoencoders were then used to create features on class-labeled input data for training a binary support vector machine (SVM) based classifier. An SVM is a algorithm to split data. Noise or useless voxels were filtered out by a covariance approach. The data they used was the public dataset “1000 Functional Connectomes Project Cobre dataset consisting of fMRI data of normal and schizophrenic subjects”. They were able to achieve a classification accuracy of 92%.\n",
    "\n",
    "(example)\n",
    "\n",
    "\n",
    "(light intro to software and libs being used)"
   ]
  },
  {
   "cell_type": "raw",
   "metadata": {},
   "source": [
    "@article{b1,\n",
    "  author = \"Pinkal Patel, Priya Aggarwal, and Anubha Gupta\",\n",
    "  title = \"Classification of schizophrenia versus normal subjects using deep learning\",\n",
    "  year = 2016\n",
    "}\n",
    "\n",
    "@article{b2,\n",
    "  author = \"A. Abraham, F. Pedregosa, M. Eickenberg,P. Gervais, A. Muller, J. Kossaifi, A. Gramfort, B. Thirion, and G. Varoquaux\",\n",
    "   title = \"Machine learning for neuroimaging with scikit-learn\",\n",
    " journal = \"Frontiers in Neuroinformatics\",\n",
    "  volume = 8,\n",
    "    year = 2014\n",
    "}\n",
    "\n",
    "@article{b3,\n",
    "  author = \"J. Kim, V. D. Calhoun, E. Shim, and J.-H. Lee\",\n",
    "   title = \"Deep neural network with weight sparsity control and pre-training extracts hierarchical features and enhances classification performance: Evidence from whole-brain resting-state functional connectivity patterns of schizophrenia\",\n",
    " journal = \"NeuroImage\",\n",
    "    year = 2017,\n",
    "   pages = \"127-146\"\n",
    "}\n",
    "\n",
    "@article{b4,\n",
    "  author = \"Suwatchai Kamonsantiroj, ParinyaCharoenvorakiat, and Luepol Pipanmaekaporn\",\n",
    "   title = \"Learning representation for fMRI data analysis using autoencoder\",\n",
    " journal = \"NeuroImage\",\n",
    "    year = 2016\n",
    "}\n",
    "\n",
    "@article{b5,\n",
    "  author = \"Xin Yang\",\n",
    "   title = \"Machine learning techniques for high-dimensional neuroimaging data analysis\",\n",
    "    year = 2016\n",
    "}\n",
    "\n",
    "@article{b6,\n",
    "  author = \"R. Harel, S. Ercan, E. de Groot, S. van Schooten\",\n",
    "   title = \"Applying feature selection methods on fMRI data\",\n",
    "    year = 2014\n",
    "}"
   ]
  },
  {
   "cell_type": "code",
   "execution_count": null,
   "metadata": {},
   "outputs": [],
   "source": []
  }
 ],
 "metadata": {
  "kernelspec": {
   "display_name": "Python 3",
   "language": "python",
   "name": "python3"
  },
  "language_info": {
   "codemirror_mode": {
    "name": "ipython",
    "version": 3
   },
   "file_extension": ".py",
   "mimetype": "text/x-python",
   "name": "python",
   "nbconvert_exporter": "python",
   "pygments_lexer": "ipython3",
   "version": "3.6.7"
  }
 },
 "nbformat": 4,
 "nbformat_minor": 2
}
